{
 "cells": [
  {
   "cell_type": "code",
   "execution_count": 1,
   "metadata": {},
   "outputs": [],
   "source": [
    "# Importando API, Libs e Funções helper\n",
    "\n",
    "# API\n",
    "from riotwatcher import LolWatcher, ApiError\n",
    "\n",
    "# Helpers\n",
    "from roleidentification import pull_data, get_roles\n",
    "from helper import players_perfomance_at_n, events_at_n, get_participant_game_info, create_match_row\n",
    "from helper import create_matchlist_from_summoner, get_top_players_users\n",
    "\n",
    "# Libs de Manipulação dos Dados\n",
    "import numpy as np\n",
    "import pandas as pd\n",
    "\n",
    "# Jovian\n",
    "import jovian"
   ]
  },
  {
   "cell_type": "code",
   "execution_count": null,
   "metadata": {},
   "outputs": [
    {
     "data": {
      "application/javascript": [
       "window.require && require([\"base/js/namespace\"],function(Jupyter){Jupyter.notebook.save_checkpoint()})"
      ],
      "text/plain": [
       "<IPython.core.display.Javascript object>"
      ]
     },
     "metadata": {},
     "output_type": "display_data"
    },
    {
     "name": "stdout",
     "output_type": "stream",
     "text": [
      "[jovian] Attempting to save notebook..\r\n"
     ]
    }
   ],
   "source": [
    "import jovian\n",
    "jovian.commit()"
   ]
  },
  {
   "cell_type": "code",
   "execution_count": null,
   "metadata": {},
   "outputs": [],
   "source": [
    "# Inicialmente, vou criar um DataFrame contendo as colunas de interesse\n",
    "\n",
    "all_matches = pd.DataFrame(columns = ['gameID', 'isWinner_blue', 'totalGold_red', 'xp_red', 'nKills_red', 'nDeaths_red',\n",
    "                                      'nAssists_red', 'minionsKilled_red', 'jungleMinionsKilled_red', 'wardsPlaced_red',\n",
    "                                      'wardsKilled_red','firstBlood_red', 'firstTower_red', 'midTowersDestroyed_red',\n",
    "                                      'botTowersDestroyed_red', 'topTowersDestroyed_red', 'inhibitorsDestroyed_red',\n",
    "                                      'fireDragonsDestroyed_red','airDragonsDestroyed_red','waterDragonsDestroyed_red',\n",
    "                                      'earthDragonsDestroyed_red', 'riftHeraldDestroyed_red', 'TOP_red', 'JUNGLE_red',\n",
    "                                      'MIDDLE_red', 'BOTTOM_red', 'UTILITY_red','totalGold_blue', 'xp_blue', 'nKills_blue',\n",
    "                                      'nDeaths_blue', 'nAssists_blue', 'minionsKilled_blue', 'jungleMinionsKilled_blue',\n",
    "                                      'wardsPlaced_blue', 'wardsKilled_blue','firstBlood_blue', 'firstTower_blue', \n",
    "                                      'midTowersDestroyed_blue', 'botTowersDestroyed_blue', 'topTowersDestroyed_blue',\n",
    "                                      'inhibitorsDestroyed_blue', 'fireDragonsDestroyed_blue','airDragonsDestroyed_blue',\n",
    "                                      'waterDragonsDestroyed_blue','earthDragonsDestroyed_blue','riftHeraldDestroyed_blue',\n",
    "                                      'TOP_blue', 'JUNGLE_blue', 'MIDDLE_blue', 'BOTTOM_blue', 'UTILITY_blue'])\n",
    "\n",
    "# Listas para armazenar players e matchs já vistas\n",
    "users_todos = []\n",
    "match_id_list = []"
   ]
  },
  {
   "cell_type": "code",
   "execution_count": null,
   "metadata": {},
   "outputs": [],
   "source": [
    "# Variáveis Globais\n",
    "api_key = 'RGAPI-xxx'\n",
    "region = 'br1'\n",
    "\n",
    "# Instanciar a função que facilita na identificação das roles de acordo com a ID de cada champion\n",
    "champion_roles = pull_data()\n",
    "\n",
    "# Intanciar a API do LOL - MatchV4 e LeagueV4\n",
    "lol_watcher = LolWatcher(api_key)\n",
    "\n",
    "m = lol_watcher.match\n",
    "leagues = lol_watcher.league\n",
    "\n",
    "# Função helper que retorna nome dos players a partir do diamante 1\n",
    "top_players_br = get_top_players_users(leagues, region = region)"
   ]
  },
  {
   "cell_type": "markdown",
   "metadata": {},
   "source": [
    "Devido a forma que a API do lol funciona e o tempo que toma para realizar esse processo, a query especifica que eu quero\n",
    "fazer (centenas de jogadores diferentes e controlando o begin_time) vai gerar **HTTPError** diversas vezes, em diferentes\n",
    "situações. \n",
    "<br>\n",
    "\n",
    "Para resolver problema, normalmente bastava eu **adicionar o nome do player que estava causando o problema aos users já vistos**, mas nem sempre o nome do player estava na mensagem de erro (o que impossibilitou pegar o erro e automatizar 100% a solução). Além disso, como a ideia era utilizar um dataset grande (50k >) e há um limite de requests na API, tive que realizar isso manualmente também.  \n",
    "<br>\n",
    "\n",
    "O processo de obtenção das 50mil partidas tomou um ou 2 dias, sem contar com a definição das funções helpers."
   ]
  },
  {
   "cell_type": "code",
   "execution_count": null,
   "metadata": {},
   "outputs": [],
   "source": [
    "for user in top_players_br:\n",
    "    \n",
    "    if user not in users_todos:\n",
    "    \n",
    "        # Instanciar API por player - reduziu o número de vezes que a solicitação deu erro\n",
    "        lol_watcher = LolWatcher(api_key)\n",
    "        m = lol_watcher.match\n",
    "\n",
    "        # Buscar dados de summoner do player e procurar as partidas desde 12/Fev  \n",
    "        summoner_data = lol_watcher.summoner.by_name(region, user)\n",
    "\n",
    "        match_list = m.matchlist_by_account(**{'region': region,\n",
    "                                              'encrypted_account_id': summoner_data['accountId'],\n",
    "                                              'begin_time': 1613171498})\n",
    "        users_todos.append(user)\n",
    "\n",
    "        n_matches = len(match_list['matches'])\n",
    "\n",
    "        for n_match in range(n_matches):\n",
    "\n",
    "            match_id = match_list['matches'][n_match]['gameId']\n",
    "\n",
    "            # id 420 - Partidas SoloQ Ranked\n",
    "            if match_list['matches'][n_match]['queue'] == 420:\n",
    "\n",
    "                # Como os players jogam um contra o outro e são do mesmo nível, procuro ver se a partida já não existe na base\n",
    "                if match_id not in match_id_list:\n",
    "\n",
    "                    match_id_list.append(match_id)\n",
    "\n",
    "                    try:\n",
    "                        game_info = m.by_id('br1', match_id)\n",
    "                        timeline = m.timeline_by_match(region = region, match_id = match_id)\n",
    "\n",
    "                        # Apenas partidas maiores que 10min\n",
    "                        if len(timeline['frames']) > 10:\n",
    "\n",
    "                            players_perfomance_at_10 = players_perfomance_at_n(timeline)\n",
    "                            players_events_at_10 = events_at_n(timeline)\n",
    "                            participant_game_info = get_participant_game_info(game_info)\n",
    "\n",
    "                            match_row = create_match_row(players_perfomance_at_10, players_events_at_10, participant_game_info, champion_roles, match_id)\n",
    "\n",
    "                            all_matches = all_matches.append(match_row)\n",
    "\n",
    "                    # Except do HTTP Error (que não funcionou mt bem hehe)\n",
    "                    except ApiError:\n",
    "                        \n",
    "                        # Instanciar API por erro também reduziu o número de vezes que a solicitação deu erro (MUITO)\n",
    "                        lol_watcher = LolWatcher(api_key)\n",
    "                        m = lol_watcher.match"
   ]
  },
  {
   "cell_type": "code",
   "execution_count": null,
   "metadata": {},
   "outputs": [],
   "source": [
    "# all_matches.to_csv('54k_matches___.csv')"
   ]
  }
 ],
 "metadata": {
  "kernelspec": {
   "display_name": "Python 3",
   "language": "python",
   "name": "python3"
  },
  "language_info": {
   "codemirror_mode": {
    "name": "ipython",
    "version": 3
   },
   "file_extension": ".py",
   "mimetype": "text/x-python",
   "name": "python",
   "nbconvert_exporter": "python",
   "pygments_lexer": "ipython3",
   "version": "3.8.3"
  },
  "varInspector": {
   "cols": {
    "lenName": 16,
    "lenType": 16,
    "lenVar": 40
   },
   "kernels_config": {
    "python": {
     "delete_cmd_postfix": "",
     "delete_cmd_prefix": "del ",
     "library": "var_list.py",
     "varRefreshCmd": "print(var_dic_list())"
    },
    "r": {
     "delete_cmd_postfix": ") ",
     "delete_cmd_prefix": "rm(",
     "library": "var_list.r",
     "varRefreshCmd": "cat(var_dic_list()) "
    }
   },
   "position": {
    "height": "558.212px",
    "left": "1776.32px",
    "right": "20px",
    "top": "121.993px",
    "width": "350px"
   },
   "types_to_exclude": [
    "module",
    "function",
    "builtin_function_or_method",
    "instance",
    "_Feature"
   ],
   "window_display": false
  }
 },
 "nbformat": 4,
 "nbformat_minor": 4
}
