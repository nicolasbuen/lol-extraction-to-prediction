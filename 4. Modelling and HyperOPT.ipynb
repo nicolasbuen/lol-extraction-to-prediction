{
 "cells": [
  {
   "cell_type": "markdown",
   "metadata": {},
   "source": [
    "<img src=\"https://onovia.com/wp-content/uploads/2020/05/lol-logo-rendered-hi-res.png\"/>\n",
    "\n",
    "### **Objetivo do Modelo**:\n",
    "* Considerando as estatísticas de 10min de uma partida de League of Legends (gold, xp, campeões selecionados, objetivos feitos, etc.), prever o time vencedor da partida (target feature: isWinner_blue).\n",
    "\n",
    "\n",
    "### **Metodologia**:\n",
    "\n",
    "* **Obtenção dos Dados**:\n",
    "    * Dados obtidos pela API da desenvolvedora do jogo - [Riot Games](https://www.riotgames.com/).\n",
    "    * A API foi utilizada através do [RiotWatcher](https://riot-watcher.readthedocs.io/en/latest/riotwatcher/LeagueOfLegends/index.html), um wrapper leve que facilita o controle de requests.\n",
    "    * 52 variáveis de mais de 54mil partidas de alto nível do servidor brasileiro.\n",
    "    \n",
    "    \n",
    "* **Preparação dos Dados**:\n",
    "    * Drop de gameIDs repetidos.\n",
    "    * Feature Engineering construída a partir de conhecimento do jogo e do EDA - controle de mapa, \"bom começo\", controle de objetivos, diff de alguns stats importantes, etc.\n",
    "    * Separação em 2 datasets de acordo com o modelo que será utilizado: boosting machines e lineares.\n",
    "        * Para o dataset linear, foi realizado padronização e normalização das features contínuas e one-hot-encoding para features categóricas (o que gerou aproximadamente 1,5k de colunas) (`df_linear_sparse`). \n",
    "            * A partir desse dataset, foram criados outros dois: \n",
    "            * Um com redução do número de features através do drop de campeões outliers (picks abaixo de 0.1% por lane), resultando em 812 features (`df_linear_dropout`).\n",
    "            * Outro com drop total em colunas contendo campeões, mantendo apenas o \"estilo\" do campeão escolhido, resultando em 177 features (`df_linear`).\n",
    "        * O dataset a ser utilizado em boosting machines não recebeu nenhum tipo de normalização e padronização; features categóricas passaram por tratamento de label-encoding. O `df_boosted` é o dataset completo e o `df_boosted_dropout` teve o tratamento de outliers realizado no `df_linear_dropout`.\n",
    "\n",
    "\n",
    "* **Métricas de Avaliação**:\n",
    "    * Devido à natureza da label do dataset, não é possível definir uma importância maior a um determinado tipo de erro. Além disso, o dataset é naturalmente estratificado, evitando bias nos scores devido ao desbalanceamento.\n",
    "    * Nesse sentido, escolhi a acurácia como métrica única de avaliação.\n",
    "    \n",
    "\n",
    "* **Baselines**:\n",
    "    * Considerando a natureza do jogo, defini como baseline uma acurácia de 0.6.\n",
    "    \n",
    "    \n",
    "* **Definição do Modelo**:\n",
    "    * Como explicado na preparação dos dados, decidi testar modelos baseados em gradient boosting (LightGBM e CatBoost, devido ao seus excelentes suportes para features categóricas) e modelos lineares mais simples, como LogisticRegression, Ridge e Linear Support Vector Machines. \n",
    "    * A escolha dos 3 algoritmos lineares foi realizada pelo formato do dataset - sparse e c/ volume médio de observações. \n",
    "    \n",
    "    \n",
    " * **Validação**:\n",
    "    * Os datasets foram separados em 3 partes: set de treino, validação e teste. A separação é dada de acordo com as práticas do livro *Introduction to Machine Learning*, das autoras Andreas C. Müller and Sarah Guido (ed. O’Reilly).\n",
    "    * Os modelos passaram por validação cruzada no set de treino para identificar a capacidade de generalização de cada algoritmo. \n",
    "    * Em seguida, realizei a hiperparametrização treinando os modelos no set de treino e checando os resultados no set de validação.   \n",
    "    * O modelo com o melhor score na validação é treinado com o set de treino e validação e testado no set de testes, para garantir que não haja vazamento de informações do último set durante as escolhas do algoritmo e dos hiperparâmetros.    \n",
    "\n",
    "    \n",
    "* **Hiperparametrização**:\n",
    "    * Utilizei o Optuna.\n",
    "\n",
    "\n",
    "* **Modelo Final**:\n",
    "    * Logistic Regression, com parametro regularizador (C) = 6.407735e-03\n",
    "    * Acurácia no set de testes: 0.722468\n",
    "    \n",
    "    \n",
    "* **Conclusão**:\n",
    "\n",
    "Considerando a natureza do dataset e todas as possibilidades que um jogo complexo como League of Legends oferece, eu não esperava nenhum resultado extremamente elevado. Acertar o time vitorioso aos 10min em um jogo que a partida dura entre 30-45min 72% das vezes é um resultado expressivo positivamente. \n",
    "\n",
    "Acredito que com um maior volume de dados, um cuidado maior com a área de seleção dos campeões, a adição de dados característicos de cada player (como familiaridade com o campeão escolhido, por ex.) e a adição de features que levem em consideração o *meta* do jogo, seria possível aumentar esse score ainda mais. No entanto, assim como o futebol, o League of Legends é uma caixinha de surpresas pois depende de muito mais do que apenas números - comunicação entre o time, empenho individual e motivação são aspectos que ainda não são possíveis de implementar em um dataset de larga escala como esse.\n"
   ]
  },
  {
   "cell_type": "code",
   "execution_count": 1,
   "metadata": {},
   "outputs": [],
   "source": [
    "# Import libs\n",
    "\n",
    "# Data Wrangling and Analysis\n",
    "import pandas as pd\n",
    "import numpy as np\n",
    "\n",
    "# Plotting\n",
    "import matplotlib.pyplot as plt\n",
    "import seaborn as sns\n",
    "\n",
    "# Metrics and Model Selection\n",
    "from sklearn.metrics import accuracy_score\n",
    "from sklearn.model_selection import train_test_split, cross_val_score\n",
    "\n",
    "# ML Models\n",
    "from sklearn.linear_model import LogisticRegression, RidgeClassifier\n",
    "from sklearn.svm import LinearSVC, LinearSVR\n",
    "from catboost import CatBoostClassifier\n",
    "import lightgbm as lgbm\n",
    "\n",
    "# HyperOPT \n",
    "import optuna\n",
    "\n",
    "# eXplainable AI\n",
    "import shap"
   ]
  },
  {
   "cell_type": "markdown",
   "metadata": {},
   "source": [
    "Em primeiro momento, carregarei os datasets no pandas:\n",
    "\n",
    "* **df_linear**: Contém dados normalizados e padronizados (mean = 0), com os campeões separados em roles\n",
    "* **df_linear_sparse**: Igual ao df_linear, mas sem os campeões separados em roles (n_features > 1.5k)\n",
    "* **df_linear_dropout**: Igual ao df_linear_sparse, mas com retirada dos outliers nos campeões\n",
    "* **df_boosted**: Dataset não padronizado, com label encoding nas features categóricas\n",
    "* **df_boosted_dropout**: Igual ao df_boosted, mas com retirada dos outliers nos campeões\n",
    "<br>\n",
    "\n",
    "Após, utilizarei np.random.choice para separar 15% dos gameIDs aleatoriamente de todos os datasets. Esses dados não serão vistos por nenhum modelo e nem serão utilizados para nenhuma tomada de decisão (em relação à escolha do modelo, hiperparametrização, etc.) - apenas no final, para avaliarmos a capacidade de generalização do modelo caso fossem utilizados novos dados."
   ]
  },
  {
   "cell_type": "code",
   "execution_count": 34,
   "metadata": {},
   "outputs": [
    {
     "data": {
      "text/plain": [
       "(46002, 177)"
      ]
     },
     "execution_count": 34,
     "metadata": {},
     "output_type": "execute_result"
    }
   ],
   "source": [
    "df_linear.shape"
   ]
  },
  {
   "cell_type": "code",
   "execution_count": 2,
   "metadata": {},
   "outputs": [],
   "source": [
    "df_linear = pd.read_csv('data/df_linear.csv')\n",
    "df_linear_dropout = pd.read_csv('data/df_linear_dropout.csv')\n",
    "df_linear_sparse = pd.read_csv('data/df_linear_sparse.csv')\n",
    "df_boosted = pd.read_csv('data/df_boosted.csv')\n",
    "df_boosted_dropout = pd.read_csv('data/df_boosted_dropout.csv')\n",
    "\n",
    "for df in [df_linear, df_linear_dropout, df_linear_sparse, df_boosted, df_boosted_dropout]:\n",
    "    df.drop('Unnamed: 0', axis=1, inplace=True)"
   ]
  },
  {
   "cell_type": "code",
   "execution_count": 3,
   "metadata": {},
   "outputs": [
    {
     "name": "stderr",
     "output_type": "stream",
     "text": [
      "Boolean Series key will be reindexed to match DataFrame index.\n",
      "Boolean Series key will be reindexed to match DataFrame index.\n"
     ]
    }
   ],
   "source": [
    "# Separar 15% para o test set final - usar apenas no modelo final\n",
    "\n",
    "np.random.seed(42)\n",
    "\n",
    "# Full datasets\n",
    "gameids = df_linear.gameID.unique()\n",
    "\n",
    "testids = np.random.choice(gameids,\n",
    "                           size=round(0.15*len(gameids)),\n",
    "                           replace=False)\n",
    "\n",
    "mask = df_linear.gameID.isin(testids)\n",
    "\n",
    "df_test_linear = df_linear[mask]\n",
    "df_linear = df_linear[~mask]\n",
    "\n",
    "df_test_linear_sparse = df_linear_sparse[mask]\n",
    "df_linear_sparse = df_linear_sparse[~mask]\n",
    "\n",
    "df_test_boosted = df_boosted[mask]\n",
    "df_boosted = df_boosted[~mask]\n",
    "\n",
    "# Dropout datasets\n",
    "gameids_dp = df_linear_dropout.gameID.unique()\n",
    "\n",
    "testids_dp = np.random.choice(gameids_dp,\n",
    "                              size=round(0.15*len(gameids_dp)),\n",
    "                              replace=False)\n",
    "\n",
    "mask_dp = df_linear_dropout.gameID.isin(testids_dp)\n",
    "\n",
    "df_test_linear_dropout = df_linear_dropout[mask_dp]\n",
    "df_linear_dropout = df_linear_dropout[~mask_dp]\n",
    "\n",
    "df_test_boosted_dropout = df_boosted_dropout[mask_dp]\n",
    "df_boosted_dropout = df_boosted_dropout[~mask_dp]"
   ]
  },
  {
   "cell_type": "markdown",
   "metadata": {},
   "source": [
    "Assim como outros e-sports/esportes, muita coisa pode acontecer numa partida de LoL a partir dos 10min de jogo. Não possuímos dados sobre os jogadores (nada além do campeão selecionado) e suas habilidades, sobre o engajamento e a comunicação do time...\n",
    "\n",
    "Nesse sentido, gostaria de manter uma **baseline** inicial baixa: **60% de acerto** (acurácia) no resultado final da partida. Além disso, utilizarei também um modelo mais simples - LogisticRegression - para uma baseline mais forte. "
   ]
  },
  {
   "cell_type": "code",
   "execution_count": 4,
   "metadata": {
    "scrolled": true
   },
   "outputs": [
    {
     "name": "stdout",
     "output_type": "stream",
     "text": [
      "Média 10-fold: 0.7288\n",
      "STD 10-fold:0.007315\n",
      "==========\n",
      "Média 10-fold: 0.7326\n",
      "STD 10-fold:0.006335\n",
      "==========\n",
      "Média 10-fold: 0.7304\n",
      "STD 10-fold:0.005860\n",
      "==========\n"
     ]
    }
   ],
   "source": [
    "np.random.seed(42)\n",
    "\n",
    "dataframe_list = [df_linear, df_linear_sparse, df_linear_dropout]\n",
    "\n",
    "# Baseline - melhor score de logistic regression\n",
    "\n",
    "for df in dataframe_list:\n",
    "    \n",
    "    X = df.drop(['gameID', 'isWinner_blue'], axis=1)\n",
    "    y = df['isWinner_blue']\n",
    "    \n",
    "    X_train, X_val, y_train, y_val = train_test_split(X, y, random_state=42)\n",
    "    \n",
    "    clf = LogisticRegression(max_iter=1000)\n",
    "    \n",
    "    scores = cross_val_score(clf, X_train, y_train, cv=10)\n",
    "    \n",
    "    print(f'Média 10-fold: {np.mean(scores):.4f}')\n",
    "    print(f'STD 10-fold:{np.std(scores):.6f}')\n",
    "    print('==========')"
   ]
  },
  {
   "cell_type": "markdown",
   "metadata": {},
   "source": [
    "Os resultados entre os datasets foram parecidos, com todas as médias dentro de 1 desvio padrão.\n",
    "\n",
    "Ainda assim, o **melhor resultado fica com o df_linear_sparse**, aquele em que foram utilizados todos os campeões e possui n_features > 1,5k. Vou agora testar o desempenho dos algoritmos LinearSVC, LinearSVR e Ridge. Os datasets serão separados em set de treino e validação e apenas o set de treino será utilizado para esse teste, em 10-fold Cross-Validation. Isso será feito para que os dados de validação não vazem, deixando-os apenas para a escolha do hiperparâmetro."
   ]
  },
  {
   "cell_type": "code",
   "execution_count": 5,
   "metadata": {},
   "outputs": [],
   "source": [
    "def fit_linear_classifiers(dataframe_list, models, tidy_sparse=True):\n",
    "    \n",
    "    np.random.seed(42)\n",
    "    \n",
    "    score_list = []\n",
    "\n",
    "    # Baseline - melhor score de logistic regression\n",
    "\n",
    "    for i, df in enumerate(dataframe_list):\n",
    "\n",
    "        X = df.drop(['gameID', 'isWinner_blue'], axis=1)\n",
    "        y = df['isWinner_blue']\n",
    "\n",
    "        X_train, X_val, y_train, y_val = train_test_split(X, y, random_state=42)\n",
    "\n",
    "        for model in models:\n",
    "            \n",
    "            print(f'df_{i}: {model.__name__}')\n",
    "            \n",
    "            if model in [LinearSVC, LinearSVR]:\n",
    "                clf = model(max_iter=100000)\n",
    "                training_score = clf.fit(X_train, y_train).score(X_train, y_train)\n",
    "            \n",
    "            elif model in [LogisticRegression, RidgeClassifier]:\n",
    "                clf = model(max_iter=2000)\n",
    "                training_score = clf.fit(X_train, y_train).score(X_train, y_train)\n",
    "            \n",
    "            else:\n",
    "                clf = model()\n",
    "                training_score = clf.fit(X_train, y_train).score(X_train, y_train)\n",
    "                \n",
    "            scores = cross_val_score(clf, X_train, y_train, cv=10)\n",
    "            \n",
    "            mean, std = np.mean(scores), np.std(scores)\n",
    "            \n",
    "            data = {f'{model.__name__} - 10fold mean accuracy': mean,\n",
    "                    f'{model.__name__} - 10fold std accuracy': std,\n",
    "                    f'{model.__name__} - training accuracy': training_score}\n",
    "            \n",
    "            if tidy_sparse == True:\n",
    "                if i == 0:\n",
    "                    data['data'] = 'df_linear'\n",
    "\n",
    "                elif i == 1:\n",
    "                    data['data'] = 'df_linear_sparse'\n",
    "                    \n",
    "                else:\n",
    "                    data['data'] = 'df_linear_dropout'\n",
    "                    \n",
    "            else:\n",
    "                    data['data'] = f'df{i}'\n",
    "            \n",
    "            score_list.append(data)\n",
    "            \n",
    "    return pd.pivot_table(pd.DataFrame(score_list), index='data')"
   ]
  },
  {
   "cell_type": "code",
   "execution_count": 6,
   "metadata": {},
   "outputs": [
    {
     "name": "stdout",
     "output_type": "stream",
     "text": [
      "df_0: LogisticRegression\n",
      "df_0: LinearSVC\n",
      "df_0: RidgeClassifier\n",
      "df_0: LinearSVR\n",
      "df_1: LogisticRegression\n",
      "df_1: LinearSVC\n",
      "df_1: RidgeClassifier\n",
      "df_1: LinearSVR\n",
      "df_2: LogisticRegression\n",
      "df_2: LinearSVC\n",
      "df_2: RidgeClassifier\n",
      "df_2: LinearSVR\n"
     ]
    }
   ],
   "source": [
    "models = [LogisticRegression, LinearSVC, RidgeClassifier, LinearSVR]\n",
    "\n",
    "linear_scores = fit_linear_classifiers(dataframe_list, models)"
   ]
  },
  {
   "cell_type": "code",
   "execution_count": 7,
   "metadata": {},
   "outputs": [
    {
     "data": {
      "text/html": [
       "<div>\n",
       "<style scoped>\n",
       "    .dataframe tbody tr th:only-of-type {\n",
       "        vertical-align: middle;\n",
       "    }\n",
       "\n",
       "    .dataframe tbody tr th {\n",
       "        vertical-align: top;\n",
       "    }\n",
       "\n",
       "    .dataframe thead th {\n",
       "        text-align: right;\n",
       "    }\n",
       "</style>\n",
       "<table border=\"1\" class=\"dataframe\">\n",
       "  <thead>\n",
       "    <tr style=\"text-align: right;\">\n",
       "      <th></th>\n",
       "      <th>LinearSVC - 10fold mean accuracy</th>\n",
       "      <th>LinearSVC - 10fold std accuracy</th>\n",
       "      <th>LinearSVC - training accuracy</th>\n",
       "      <th>LinearSVR - 10fold mean accuracy</th>\n",
       "      <th>LinearSVR - 10fold std accuracy</th>\n",
       "      <th>LinearSVR - training accuracy</th>\n",
       "      <th>LogisticRegression - 10fold mean accuracy</th>\n",
       "      <th>LogisticRegression - 10fold std accuracy</th>\n",
       "      <th>LogisticRegression - training accuracy</th>\n",
       "      <th>RidgeClassifier - 10fold mean accuracy</th>\n",
       "      <th>RidgeClassifier - 10fold std accuracy</th>\n",
       "      <th>RidgeClassifier - training accuracy</th>\n",
       "    </tr>\n",
       "    <tr>\n",
       "      <th>data</th>\n",
       "      <th></th>\n",
       "      <th></th>\n",
       "      <th></th>\n",
       "      <th></th>\n",
       "      <th></th>\n",
       "      <th></th>\n",
       "      <th></th>\n",
       "      <th></th>\n",
       "      <th></th>\n",
       "      <th></th>\n",
       "      <th></th>\n",
       "      <th></th>\n",
       "    </tr>\n",
       "  </thead>\n",
       "  <tbody>\n",
       "    <tr>\n",
       "      <th>df_linear</th>\n",
       "      <td>0.728993</td>\n",
       "      <td>0.007455</td>\n",
       "      <td>0.732558</td>\n",
       "      <td>0.240997</td>\n",
       "      <td>0.014468</td>\n",
       "      <td>0.249799</td>\n",
       "      <td>0.728820</td>\n",
       "      <td>0.007315</td>\n",
       "      <td>0.732558</td>\n",
       "      <td>0.728878</td>\n",
       "      <td>0.006394</td>\n",
       "      <td>0.732414</td>\n",
       "    </tr>\n",
       "    <tr>\n",
       "      <th>df_linear_dropout</th>\n",
       "      <td>0.730366</td>\n",
       "      <td>0.005899</td>\n",
       "      <td>0.748876</td>\n",
       "      <td>0.232143</td>\n",
       "      <td>0.018831</td>\n",
       "      <td>0.279590</td>\n",
       "      <td>0.730366</td>\n",
       "      <td>0.005860</td>\n",
       "      <td>0.748351</td>\n",
       "      <td>0.731003</td>\n",
       "      <td>0.006229</td>\n",
       "      <td>0.749625</td>\n",
       "    </tr>\n",
       "    <tr>\n",
       "      <th>df_linear_sparse</th>\n",
       "      <td>0.728762</td>\n",
       "      <td>0.006018</td>\n",
       "      <td>0.757456</td>\n",
       "      <td>0.215451</td>\n",
       "      <td>0.019121</td>\n",
       "      <td>0.291664</td>\n",
       "      <td>0.732559</td>\n",
       "      <td>0.006335</td>\n",
       "      <td>0.755688</td>\n",
       "      <td>0.728414</td>\n",
       "      <td>0.006643</td>\n",
       "      <td>0.756384</td>\n",
       "    </tr>\n",
       "  </tbody>\n",
       "</table>\n",
       "</div>"
      ],
      "text/plain": [
       "                   LinearSVC - 10fold mean accuracy  \\\n",
       "data                                                  \n",
       "df_linear                                  0.728993   \n",
       "df_linear_dropout                          0.730366   \n",
       "df_linear_sparse                           0.728762   \n",
       "\n",
       "                   LinearSVC - 10fold std accuracy  \\\n",
       "data                                                 \n",
       "df_linear                                 0.007455   \n",
       "df_linear_dropout                         0.005899   \n",
       "df_linear_sparse                          0.006018   \n",
       "\n",
       "                   LinearSVC - training accuracy  \\\n",
       "data                                               \n",
       "df_linear                               0.732558   \n",
       "df_linear_dropout                       0.748876   \n",
       "df_linear_sparse                        0.757456   \n",
       "\n",
       "                   LinearSVR - 10fold mean accuracy  \\\n",
       "data                                                  \n",
       "df_linear                                  0.240997   \n",
       "df_linear_dropout                          0.232143   \n",
       "df_linear_sparse                           0.215451   \n",
       "\n",
       "                   LinearSVR - 10fold std accuracy  \\\n",
       "data                                                 \n",
       "df_linear                                 0.014468   \n",
       "df_linear_dropout                         0.018831   \n",
       "df_linear_sparse                          0.019121   \n",
       "\n",
       "                   LinearSVR - training accuracy  \\\n",
       "data                                               \n",
       "df_linear                               0.249799   \n",
       "df_linear_dropout                       0.279590   \n",
       "df_linear_sparse                        0.291664   \n",
       "\n",
       "                   LogisticRegression - 10fold mean accuracy  \\\n",
       "data                                                           \n",
       "df_linear                                           0.728820   \n",
       "df_linear_dropout                                   0.730366   \n",
       "df_linear_sparse                                    0.732559   \n",
       "\n",
       "                   LogisticRegression - 10fold std accuracy  \\\n",
       "data                                                          \n",
       "df_linear                                          0.007315   \n",
       "df_linear_dropout                                  0.005860   \n",
       "df_linear_sparse                                   0.006335   \n",
       "\n",
       "                   LogisticRegression - training accuracy  \\\n",
       "data                                                        \n",
       "df_linear                                        0.732558   \n",
       "df_linear_dropout                                0.748351   \n",
       "df_linear_sparse                                 0.755688   \n",
       "\n",
       "                   RidgeClassifier - 10fold mean accuracy  \\\n",
       "data                                                        \n",
       "df_linear                                        0.728878   \n",
       "df_linear_dropout                                0.731003   \n",
       "df_linear_sparse                                 0.728414   \n",
       "\n",
       "                   RidgeClassifier - 10fold std accuracy  \\\n",
       "data                                                       \n",
       "df_linear                                       0.006394   \n",
       "df_linear_dropout                               0.006229   \n",
       "df_linear_sparse                                0.006643   \n",
       "\n",
       "                   RidgeClassifier - training accuracy  \n",
       "data                                                    \n",
       "df_linear                                     0.732414  \n",
       "df_linear_dropout                             0.749625  \n",
       "df_linear_sparse                              0.756384  "
      ]
     },
     "execution_count": 7,
     "metadata": {},
     "output_type": "execute_result"
    }
   ],
   "source": [
    "linear_scores"
   ]
  },
  {
   "cell_type": "markdown",
   "metadata": {},
   "source": [
    "O LinearSVR obteve um péssimo resultado, mesmo com um aumento no número de iterações. Vou mexer com a hiperparametrização para tentar achar algum motivo (apesar de que c/ certeza não é overfitting, considerando a acurácia de treino). \n",
    "\n",
    "O resto dos modelos obteram resultados próximos, entre 0.72 e 0.73 no set de validação e até 0.755 no set de testes. Os melhores scores foram do LogisticRegression, mas por pouca coisa. \n",
    "\n",
    "Entre os datasets, os scores foram bem parecidos também. Utilizarei o df_linear_sparse para fazer a otimização dos hiperparâmetros. "
   ]
  },
  {
   "cell_type": "code",
   "execution_count": 8,
   "metadata": {},
   "outputs": [
    {
     "name": "stderr",
     "output_type": "stream",
     "text": [
      "Liblinear failed to converge, increase the number of iterations.\n",
      "Liblinear failed to converge, increase the number of iterations.\n",
      "Liblinear failed to converge, increase the number of iterations.\n",
      "Liblinear failed to converge, increase the number of iterations.\n",
      "Liblinear failed to converge, increase the number of iterations.\n",
      "Liblinear failed to converge, increase the number of iterations.\n",
      "Liblinear failed to converge, increase the number of iterations.\n"
     ]
    }
   ],
   "source": [
    "def linear_objective(trial):\n",
    "    \n",
    "    np.random.seed(42)\n",
    "    \n",
    "    X = df_linear_sparse.drop(['gameID', 'isWinner_blue'], axis=1)\n",
    "    y = df_linear_sparse['isWinner_blue']\n",
    "    \n",
    "    X_train, X_val, y_train, y_val = train_test_split(X, y, random_state=42)\n",
    "    \n",
    "    classifier_name = trial.suggest_categorical('classifier', ['LinearSVC', 'LogisticRegression', 'RidgeClassifier'])\n",
    "    \n",
    "    if classifier_name == 'LinearSVC':\n",
    "        c = trial.suggest_float('c', 1e-10, 1e10, log=True)\n",
    "        clf = LinearSVC(C=c, max_iter = 10000)\n",
    "        \n",
    "    if classifier_name == 'LinearSVR':\n",
    "        c = trial.suggest_float('c', 1e-10, 1e10, log=True)\n",
    "        clf = LinearSVR(C=c, max_iter = 100000)\n",
    "        \n",
    "    if classifier_name == 'LogisticRegression':\n",
    "        c = trial.suggest_float('c', 1e-10, 1e10, log=True)\n",
    "        clf = LogisticRegression(C=c, max_iter = 10000)\n",
    "    \n",
    "    if classifier_name == 'RidgeClassifier':\n",
    "        alpha = trial.suggest_float('alpha', 1/2*(1e-10), 1/2*(1e10), log=True)\n",
    "        clf = RidgeClassifier(alpha=alpha, max_iter = 10000)\n",
    "    \n",
    "    clf.fit(X_train, y_train)\n",
    "    \n",
    "    return clf.score(X_val, y_val)\n",
    " \n",
    "\n",
    "# Reduz o nível do log do optuna -> Comentar essa linha p/ debugging\n",
    "optuna.logging.set_verbosity(optuna.logging.FATAL)\n",
    "\n",
    "linear_study = optuna.create_study(direction='maximize')\n",
    "\n",
    "linear_study.optimize(linear_objective, n_trials=400,\n",
    "              show_progress_bar = False)"
   ]
  },
  {
   "cell_type": "code",
   "execution_count": 9,
   "metadata": {},
   "outputs": [
    {
     "data": {
      "text/html": [
       "<div>\n",
       "<style scoped>\n",
       "    .dataframe tbody tr th:only-of-type {\n",
       "        vertical-align: middle;\n",
       "    }\n",
       "\n",
       "    .dataframe tbody tr th {\n",
       "        vertical-align: top;\n",
       "    }\n",
       "\n",
       "    .dataframe thead th {\n",
       "        text-align: right;\n",
       "    }\n",
       "</style>\n",
       "<table border=\"1\" class=\"dataframe\">\n",
       "  <thead>\n",
       "    <tr style=\"text-align: right;\">\n",
       "      <th></th>\n",
       "      <th>number</th>\n",
       "      <th>value</th>\n",
       "      <th>datetime_start</th>\n",
       "      <th>datetime_complete</th>\n",
       "      <th>duration</th>\n",
       "      <th>params_alpha</th>\n",
       "      <th>params_c</th>\n",
       "      <th>params_classifier</th>\n",
       "      <th>state</th>\n",
       "    </tr>\n",
       "  </thead>\n",
       "  <tbody>\n",
       "    <tr>\n",
       "      <th>330</th>\n",
       "      <td>330</td>\n",
       "      <td>0.737849</td>\n",
       "      <td>2021-04-22 19:01:46.317724</td>\n",
       "      <td>2021-04-22 19:01:49.096348</td>\n",
       "      <td>00:00:02.778624</td>\n",
       "      <td>NaN</td>\n",
       "      <td>6.407735e-03</td>\n",
       "      <td>LogisticRegression</td>\n",
       "      <td>COMPLETE</td>\n",
       "    </tr>\n",
       "    <tr>\n",
       "      <th>368</th>\n",
       "      <td>368</td>\n",
       "      <td>0.737588</td>\n",
       "      <td>2021-04-22 19:07:56.724607</td>\n",
       "      <td>2021-04-22 19:08:00.206541</td>\n",
       "      <td>00:00:03.481934</td>\n",
       "      <td>NaN</td>\n",
       "      <td>2.438579e-02</td>\n",
       "      <td>LogisticRegression</td>\n",
       "      <td>COMPLETE</td>\n",
       "    </tr>\n",
       "    <tr>\n",
       "      <th>348</th>\n",
       "      <td>348</td>\n",
       "      <td>0.737327</td>\n",
       "      <td>2021-04-22 19:04:19.851491</td>\n",
       "      <td>2021-04-22 19:04:23.456471</td>\n",
       "      <td>00:00:03.604980</td>\n",
       "      <td>NaN</td>\n",
       "      <td>2.528257e-02</td>\n",
       "      <td>LogisticRegression</td>\n",
       "      <td>COMPLETE</td>\n",
       "    </tr>\n",
       "    <tr>\n",
       "      <th>331</th>\n",
       "      <td>331</td>\n",
       "      <td>0.737240</td>\n",
       "      <td>2021-04-22 19:01:49.096348</td>\n",
       "      <td>2021-04-22 19:01:51.791954</td>\n",
       "      <td>00:00:02.695606</td>\n",
       "      <td>NaN</td>\n",
       "      <td>5.831648e-03</td>\n",
       "      <td>LogisticRegression</td>\n",
       "      <td>COMPLETE</td>\n",
       "    </tr>\n",
       "    <tr>\n",
       "      <th>93</th>\n",
       "      <td>93</td>\n",
       "      <td>0.737240</td>\n",
       "      <td>2021-04-22 18:47:46.508196</td>\n",
       "      <td>2021-04-22 18:47:48.672682</td>\n",
       "      <td>00:00:02.164486</td>\n",
       "      <td>5.027233e+02</td>\n",
       "      <td>NaN</td>\n",
       "      <td>RidgeClassifier</td>\n",
       "      <td>COMPLETE</td>\n",
       "    </tr>\n",
       "    <tr>\n",
       "      <th>...</th>\n",
       "      <td>...</td>\n",
       "      <td>...</td>\n",
       "      <td>...</td>\n",
       "      <td>...</td>\n",
       "      <td>...</td>\n",
       "      <td>...</td>\n",
       "      <td>...</td>\n",
       "      <td>...</td>\n",
       "      <td>...</td>\n",
       "    </tr>\n",
       "    <tr>\n",
       "      <th>57</th>\n",
       "      <td>57</td>\n",
       "      <td>0.517259</td>\n",
       "      <td>2021-04-22 18:43:53.683944</td>\n",
       "      <td>2021-04-22 18:43:55.081259</td>\n",
       "      <td>00:00:01.397315</td>\n",
       "      <td>NaN</td>\n",
       "      <td>1.173161e-10</td>\n",
       "      <td>LogisticRegression</td>\n",
       "      <td>COMPLETE</td>\n",
       "    </tr>\n",
       "    <tr>\n",
       "      <th>363</th>\n",
       "      <td>363</td>\n",
       "      <td>0.517259</td>\n",
       "      <td>2021-04-22 19:06:42.709568</td>\n",
       "      <td>2021-04-22 19:06:44.028864</td>\n",
       "      <td>00:00:01.319296</td>\n",
       "      <td>NaN</td>\n",
       "      <td>1.909813e-07</td>\n",
       "      <td>LogisticRegression</td>\n",
       "      <td>COMPLETE</td>\n",
       "    </tr>\n",
       "    <tr>\n",
       "      <th>342</th>\n",
       "      <td>342</td>\n",
       "      <td>0.517259</td>\n",
       "      <td>2021-04-22 19:03:45.855689</td>\n",
       "      <td>2021-04-22 19:03:47.156980</td>\n",
       "      <td>00:00:01.301291</td>\n",
       "      <td>NaN</td>\n",
       "      <td>1.177967e-08</td>\n",
       "      <td>LogisticRegression</td>\n",
       "      <td>COMPLETE</td>\n",
       "    </tr>\n",
       "    <tr>\n",
       "      <th>277</th>\n",
       "      <td>277</td>\n",
       "      <td>0.517259</td>\n",
       "      <td>2021-04-22 18:58:44.009151</td>\n",
       "      <td>2021-04-22 18:58:46.135629</td>\n",
       "      <td>00:00:02.126478</td>\n",
       "      <td>2.780593e+08</td>\n",
       "      <td>NaN</td>\n",
       "      <td>RidgeClassifier</td>\n",
       "      <td>COMPLETE</td>\n",
       "    </tr>\n",
       "    <tr>\n",
       "      <th>0</th>\n",
       "      <td>0</td>\n",
       "      <td>0.517259</td>\n",
       "      <td>2021-04-22 18:35:45.410578</td>\n",
       "      <td>2021-04-22 18:35:46.754653</td>\n",
       "      <td>00:00:01.344075</td>\n",
       "      <td>NaN</td>\n",
       "      <td>3.808942e-08</td>\n",
       "      <td>LogisticRegression</td>\n",
       "      <td>COMPLETE</td>\n",
       "    </tr>\n",
       "  </tbody>\n",
       "</table>\n",
       "<p>400 rows × 9 columns</p>\n",
       "</div>"
      ],
      "text/plain": [
       "     number     value             datetime_start          datetime_complete  \\\n",
       "330     330  0.737849 2021-04-22 19:01:46.317724 2021-04-22 19:01:49.096348   \n",
       "368     368  0.737588 2021-04-22 19:07:56.724607 2021-04-22 19:08:00.206541   \n",
       "348     348  0.737327 2021-04-22 19:04:19.851491 2021-04-22 19:04:23.456471   \n",
       "331     331  0.737240 2021-04-22 19:01:49.096348 2021-04-22 19:01:51.791954   \n",
       "93       93  0.737240 2021-04-22 18:47:46.508196 2021-04-22 18:47:48.672682   \n",
       "..      ...       ...                        ...                        ...   \n",
       "57       57  0.517259 2021-04-22 18:43:53.683944 2021-04-22 18:43:55.081259   \n",
       "363     363  0.517259 2021-04-22 19:06:42.709568 2021-04-22 19:06:44.028864   \n",
       "342     342  0.517259 2021-04-22 19:03:45.855689 2021-04-22 19:03:47.156980   \n",
       "277     277  0.517259 2021-04-22 18:58:44.009151 2021-04-22 18:58:46.135629   \n",
       "0         0  0.517259 2021-04-22 18:35:45.410578 2021-04-22 18:35:46.754653   \n",
       "\n",
       "           duration  params_alpha      params_c   params_classifier     state  \n",
       "330 00:00:02.778624           NaN  6.407735e-03  LogisticRegression  COMPLETE  \n",
       "368 00:00:03.481934           NaN  2.438579e-02  LogisticRegression  COMPLETE  \n",
       "348 00:00:03.604980           NaN  2.528257e-02  LogisticRegression  COMPLETE  \n",
       "331 00:00:02.695606           NaN  5.831648e-03  LogisticRegression  COMPLETE  \n",
       "93  00:00:02.164486  5.027233e+02           NaN     RidgeClassifier  COMPLETE  \n",
       "..              ...           ...           ...                 ...       ...  \n",
       "57  00:00:01.397315           NaN  1.173161e-10  LogisticRegression  COMPLETE  \n",
       "363 00:00:01.319296           NaN  1.909813e-07  LogisticRegression  COMPLETE  \n",
       "342 00:00:01.301291           NaN  1.177967e-08  LogisticRegression  COMPLETE  \n",
       "277 00:00:02.126478  2.780593e+08           NaN     RidgeClassifier  COMPLETE  \n",
       "0   00:00:01.344075           NaN  3.808942e-08  LogisticRegression  COMPLETE  \n",
       "\n",
       "[400 rows x 9 columns]"
      ]
     },
     "execution_count": 9,
     "metadata": {},
     "output_type": "execute_result"
    }
   ],
   "source": [
    "study_df = linear_study.trials_dataframe()\n",
    "\n",
    "study_df.sort_values('value', ascending=False)"
   ]
  },
  {
   "cell_type": "code",
   "execution_count": 27,
   "metadata": {},
   "outputs": [
    {
     "data": {
      "application/vnd.plotly.v1+json": {
       "config": {
        "plotlyServerURL": "https://plot.ly"
       },
       "data": [
        {
         "colorbar": {
          "title": {
           "text": "Objective Value"
          }
         },
         "colorscale": [
          [
           0,
           "rgb(5,10,172)"
          ],
          [
           0.35,
           "rgb(40,60,190)"
          ],
          [
           0.5,
           "rgb(70,100,245)"
          ],
          [
           0.6,
           "rgb(90,120,245)"
          ],
          [
           0.7,
           "rgb(106,137,247)"
          ],
          [
           1,
           "rgb(220,220,220)"
          ]
         ],
         "connectgaps": true,
         "contours": {
          "coloring": "heatmap"
         },
         "hoverinfo": "none",
         "line": {
          "smoothing": 1.3
         },
         "reversescale": false,
         "type": "contour",
         "x": [
          1.1943132322900035e-11,
          1.173161030228546e-10,
          1.229664084494137e-10,
          9.024752250065531e-10,
          9.70407737549359e-09,
          1.1779667439458428e-08,
          3.808941694496199e-08,
          1.909812584910647e-07,
          2.0163626673253758e-07,
          3.6615811171203884e-07,
          1.2593047017104702e-06,
          1.419468024393502e-06,
          4.691587013325511e-06,
          5.691499081634364e-06,
          9.972052455526294e-06,
          1.8614404691053545e-05,
          2.4134442183187553e-05,
          2.614814105718521e-05,
          4.606470264205833e-05,
          6.070473137546396e-05,
          8.640955733935902e-05,
          0.0001052020935819917,
          0.000145175323878717,
          0.00020427831864261906,
          0.0002507513172380451,
          0.00029578430628907006,
          0.00035023180008238517,
          0.0003990207611273958,
          0.00043711034999586415,
          0.0006883113506704299,
          0.0010629552821889204,
          0.0010890091805289303,
          0.0012277307608057556,
          0.0017738344791501306,
          0.0022794147320389802,
          0.002647758377422638,
          0.0034050296658919214,
          0.003682492007137863,
          0.004157252686361981,
          0.004626720403386946,
          0.0050279191577903065,
          0.005831648059613205,
          0.0060491782918854755,
          0.006407735307851336,
          0.007301339122967176,
          0.007892572942688037,
          0.00949313745636115,
          0.01214763930288558,
          0.013053654827591844,
          0.014737334604866719,
          0.01796233053660327,
          0.024385794696946145,
          0.025282565651078146,
          0.025845957451639385,
          0.02712673644514933,
          0.030410344258718643,
          0.03062732845680034,
          0.03160425684519511,
          0.046690878271771145,
          0.04773753636502256,
          0.059124341329317764,
          0.06627629190008787,
          0.07676794442634816,
          0.0983493905602971,
          0.10403505108458054,
          0.15207442227688636,
          0.17286799571368988,
          0.2049126350344259,
          0.28154461804838143,
          0.3758672766882755,
          0.39241168771547824,
          0.45102884812573796,
          0.6437486396338035,
          1.0400129688039474,
          1.1512921507299707,
          1.2640026368508386,
          1.7295357063641439,
          3.1865849582482455,
          3.6572877643502197,
          6.607712840093156,
          7.361425752378214,
          15.456818139795619,
          18.08087334430476,
          25.140641899307695,
          53.888367638625475,
          90.07761614191038,
          191.42888611831714,
          639.5974688282184,
          743.5165448182792,
          3560.4507760603788,
          4902.219429720346,
          80107.30843321605,
          390517.9002466211,
          401486.505063463,
          10393730.761500303,
          105883956.20689043,
          194937631.59038535,
          213023922.7847568,
          6743432848.018345,
          8206260749.666425,
          80609215866.62149
         ],
         "y": [
          "LinearSVC",
          "LogisticRegression",
          "RidgeClassifier"
         ],
         "z": [
          [
           null,
           null,
           0.7221111207721068,
           null,
           0.7221111207721068,
           null,
           null,
           null,
           0.7223719676549866,
           null,
           0.7228936614207461,
           null,
           null,
           null,
           0.7237631510303452,
           0.7244587427180246,
           null,
           null,
           null,
           0.7305451699852187,
           null,
           null,
           null,
           null,
           null,
           null,
           null,
           null,
           null,
           null,
           null,
           null,
           null,
           null,
           null,
           null,
           null,
           null,
           null,
           null,
           null,
           null,
           null,
           null,
           null,
           null,
           null,
           null,
           null,
           null,
           null,
           null,
           null,
           null,
           null,
           null,
           0.7337622815407356,
           null,
           null,
           null,
           null,
           0.7318494043996174,
           null,
           null,
           null,
           null,
           null,
           null,
           null,
           null,
           null,
           null,
           null,
           null,
           null,
           null,
           null,
           null,
           null,
           null,
           null,
           null,
           null,
           0.7255890792105034,
           0.7258499260933832,
           null,
           0.6847230675593426,
           null,
           null,
           null,
           null,
           0.6829840883401443,
           0.6747239370489523,
           null,
           0.6747239370489523,
           null,
           null,
           null,
           0.6747239370489523,
           null,
           null
          ],
          [
           null,
           0.5172593687505435,
           null,
           0.5172593687505435,
           null,
           0.5172593687505435,
           0.5172593687505435,
           0.5172593687505435,
           null,
           0.5216937657594992,
           null,
           0.6661159899139205,
           0.7150682549343536,
           0.7184592644117903,
           null,
           null,
           0.7217633249282671,
           0.7221111207721068,
           0.7218502738892271,
           null,
           0.7241978958351448,
           0.7237631510303452,
           0.7244587427180246,
           0.7258499260933832,
           0.7262846708981827,
           0.7266324667420224,
           0.7276758542735414,
           0.728110599078341,
           0.7284583949221807,
           0.7309799147900182,
           0.7319363533605774,
           0.7319363533605774,
           0.7326319450482567,
           0.7340231284236154,
           0.7341100773845752,
           0.7351534649160942,
           0.735327362838014,
           0.7362838014085732,
           0.7365446482914529,
           0.7368924441352925,
           0.7371532910181723,
           0.7372402399791322,
           0.7371532910181723,
           0.7378488827058517,
           0.7369793930962525,
           0.7366315972524128,
           0.736457699330493,
           0.7365446482914529,
           0.7361968524476132,
           0.7357621076428137,
           0.7358490566037735,
           0.7375880358229719,
           0.7373271889400922,
           0.7371532910181723,
           0.7368054951743327,
           0.7368054951743327,
           null,
           0.7369793930962525,
           0.7362838014085732,
           0.7360229545256934,
           0.7360229545256934,
           null,
           0.7351534649160942,
           0.7351534649160942,
           0.7352404138770542,
           0.7358490566037735,
           0.7355012607599339,
           0.7352404138770542,
           0.7355012607599339,
           0.7337622815407356,
           0.7334144856968959,
           0.732284149204417,
           0.7311538127119381,
           0.7299365272584992,
           0.7299365272584992,
           0.7295887314146596,
           0.7293278845317799,
           0.7284583949221807,
           0.7282844970002609,
           0.7273280584297017,
           0.7273280584297017,
           0.7268063646639422,
           0.7266324667420224,
           null,
           null,
           0.7254151812885836,
           null,
           0.7249804364837841,
           0.7251543344057039,
           0.7248934875228241,
           0.7248065385618642,
           null,
           null,
           0.7250673854447439,
           null,
           0.7250673854447439,
           0.7248065385618642,
           0.7249804364837841,
           null,
           0.7248934875228241,
           null
          ],
          [
           null,
           null,
           null,
           null,
           null,
           null,
           null,
           null,
           null,
           null,
           null,
           null,
           null,
           null,
           null,
           null,
           null,
           null,
           null,
           null,
           null,
           null,
           null,
           null,
           null,
           null,
           null,
           null,
           null,
           null,
           null,
           null,
           null,
           null,
           null,
           null,
           null,
           null,
           null,
           null,
           null,
           null,
           null,
           null,
           null,
           null,
           null,
           null,
           null,
           null,
           null,
           null,
           null,
           null,
           null,
           null,
           null,
           null,
           null,
           null,
           null,
           null,
           null,
           null,
           null,
           null,
           null,
           null,
           null,
           null,
           null,
           null,
           null,
           null,
           null,
           null,
           null,
           null,
           null,
           null,
           null,
           null,
           null,
           null,
           null,
           null,
           null,
           null,
           null,
           null,
           null,
           null,
           null,
           null,
           null,
           null,
           null,
           null,
           null,
           null,
           null
          ]
         ]
        },
        {
         "marker": {
          "color": "black",
          "line": {
           "color": "Grey",
           "width": 0.5
          }
         },
         "mode": "markers",
         "showlegend": false,
         "type": "scatter",
         "x": [
          3.808941694496199e-08,
          105883956.20689043,
          80107.30843321605,
          3.6615811171203884e-07,
          401486.505063463,
          390517.9002466211,
          0.03062732845680034,
          0.06627629190008787,
          9.024752250065531e-10,
          0.00035023180008238517,
          191.42888611831714,
          8206260749.666425,
          1.8614404691053545e-05,
          1.173161030228546e-10,
          53.888367638625475,
          194937631.59038535,
          25.140641899307695,
          0.0002507513172380451,
          6743432848.018345,
          4902.219429720346,
          9.70407737549359e-09,
          1.0400129688039474,
          9.972052455526294e-06,
          213023922.7847568,
          10393730.761500303,
          1.2640026368508386,
          2.0163626673253758e-07,
          3560.4507760603788,
          1.229664084494137e-10,
          0.007301339122967176,
          0.006407735307851336,
          0.005831648059613205,
          0.014737334604866719,
          0.002647758377422638,
          4.691587013325511e-06,
          0.00029578430628907006,
          0.39241168771547824,
          0.003682492007137863,
          6.607712840093156,
          1.419468024393502e-06,
          0.17286799571368988,
          639.5974688282184,
          1.1779667439458428e-08,
          0.0034050296658919214,
          4.606470264205833e-05,
          0.025845957451639385,
          3.6572877643502197,
          0.03160425684519511,
          0.025282565651078146,
          0.10403505108458054,
          0.0001052020935819917,
          0.013053654827591844,
          0.0010629552821889204,
          0.046690878271771145,
          0.00949313745636115,
          0.0006883113506704299,
          18.08087334430476,
          0.3758672766882755,
          0.04773753636502256,
          3.1865849582482455,
          8.640955733935902e-05,
          90.07761614191038,
          2.4134442183187553e-05,
          1.909812584910647e-07,
          0.0012277307608057556,
          1.2593047017104702e-06,
          743.5165448182792,
          0.45102884812573796,
          0.024385794696946145,
          0.01214763930288558,
          0.0003990207611273958,
          0.059124341329317764,
          0.004157252686361981,
          1.1512921507299707,
          0.15207442227688636,
          15.456818139795619,
          0.0017738344791501306,
          5.691499081634364e-06,
          0.000145175323878717,
          1.7295357063641439,
          0.02712673644514933,
          0.28154461804838143,
          0.0060491782918854755,
          0.0050279191577903065,
          2.614814105718521e-05,
          0.00043711034999586415,
          0.004626720403386946,
          0.007892572942688037,
          0.030410344258718643,
          0.0010890091805289303,
          0.01796233053660327,
          0.2049126350344259,
          0.07676794442634816,
          0.00020427831864261906,
          6.070473137546396e-05,
          0.0022794147320389802,
          0.6437486396338035,
          0.0983493905602971,
          7.361425752378214
         ],
         "y": [
          "LogisticRegression",
          "LogisticRegression",
          "LinearSVC",
          "LogisticRegression",
          "LogisticRegression",
          "LinearSVC",
          "LinearSVC",
          "LinearSVC",
          "LogisticRegression",
          "LogisticRegression",
          "LinearSVC",
          "LogisticRegression",
          "LinearSVC",
          "LogisticRegression",
          "LinearSVC",
          "LogisticRegression",
          "LinearSVC",
          "LogisticRegression",
          "LinearSVC",
          "LogisticRegression",
          "LinearSVC",
          "LogisticRegression",
          "LinearSVC",
          "LogisticRegression",
          "LinearSVC",
          "LogisticRegression",
          "LinearSVC",
          "LogisticRegression",
          "LinearSVC",
          "LogisticRegression",
          "LogisticRegression",
          "LogisticRegression",
          "LogisticRegression",
          "LogisticRegression",
          "LogisticRegression",
          "LogisticRegression",
          "LogisticRegression",
          "LogisticRegression",
          "LogisticRegression",
          "LogisticRegression",
          "LogisticRegression",
          "LogisticRegression",
          "LogisticRegression",
          "LogisticRegression",
          "LogisticRegression",
          "LogisticRegression",
          "LogisticRegression",
          "LogisticRegression",
          "LogisticRegression",
          "LogisticRegression",
          "LogisticRegression",
          "LogisticRegression",
          "LogisticRegression",
          "LogisticRegression",
          "LogisticRegression",
          "LogisticRegression",
          "LogisticRegression",
          "LogisticRegression",
          "LogisticRegression",
          "LogisticRegression",
          "LogisticRegression",
          "LogisticRegression",
          "LogisticRegression",
          "LogisticRegression",
          "LogisticRegression",
          "LinearSVC",
          "LogisticRegression",
          "LogisticRegression",
          "LogisticRegression",
          "LogisticRegression",
          "LogisticRegression",
          "LogisticRegression",
          "LogisticRegression",
          "LogisticRegression",
          "LogisticRegression",
          "LogisticRegression",
          "LogisticRegression",
          "LogisticRegression",
          "LogisticRegression",
          "LogisticRegression",
          "LogisticRegression",
          "LogisticRegression",
          "LogisticRegression",
          "LogisticRegression",
          "LogisticRegression",
          "LogisticRegression",
          "LogisticRegression",
          "LogisticRegression",
          "LogisticRegression",
          "LogisticRegression",
          "LogisticRegression",
          "LogisticRegression",
          "LogisticRegression",
          "LogisticRegression",
          "LinearSVC",
          "LogisticRegression",
          "LogisticRegression",
          "LogisticRegression",
          "LogisticRegression"
         ]
        }
       ],
       "layout": {
        "template": {
         "data": {
          "bar": [
           {
            "error_x": {
             "color": "#2a3f5f"
            },
            "error_y": {
             "color": "#2a3f5f"
            },
            "marker": {
             "line": {
              "color": "#E5ECF6",
              "width": 0.5
             }
            },
            "type": "bar"
           }
          ],
          "barpolar": [
           {
            "marker": {
             "line": {
              "color": "#E5ECF6",
              "width": 0.5
             }
            },
            "type": "barpolar"
           }
          ],
          "carpet": [
           {
            "aaxis": {
             "endlinecolor": "#2a3f5f",
             "gridcolor": "white",
             "linecolor": "white",
             "minorgridcolor": "white",
             "startlinecolor": "#2a3f5f"
            },
            "baxis": {
             "endlinecolor": "#2a3f5f",
             "gridcolor": "white",
             "linecolor": "white",
             "minorgridcolor": "white",
             "startlinecolor": "#2a3f5f"
            },
            "type": "carpet"
           }
          ],
          "choropleth": [
           {
            "colorbar": {
             "outlinewidth": 0,
             "ticks": ""
            },
            "type": "choropleth"
           }
          ],
          "contour": [
           {
            "colorbar": {
             "outlinewidth": 0,
             "ticks": ""
            },
            "colorscale": [
             [
              0,
              "#0d0887"
             ],
             [
              0.1111111111111111,
              "#46039f"
             ],
             [
              0.2222222222222222,
              "#7201a8"
             ],
             [
              0.3333333333333333,
              "#9c179e"
             ],
             [
              0.4444444444444444,
              "#bd3786"
             ],
             [
              0.5555555555555556,
              "#d8576b"
             ],
             [
              0.6666666666666666,
              "#ed7953"
             ],
             [
              0.7777777777777778,
              "#fb9f3a"
             ],
             [
              0.8888888888888888,
              "#fdca26"
             ],
             [
              1,
              "#f0f921"
             ]
            ],
            "type": "contour"
           }
          ],
          "contourcarpet": [
           {
            "colorbar": {
             "outlinewidth": 0,
             "ticks": ""
            },
            "type": "contourcarpet"
           }
          ],
          "heatmap": [
           {
            "colorbar": {
             "outlinewidth": 0,
             "ticks": ""
            },
            "colorscale": [
             [
              0,
              "#0d0887"
             ],
             [
              0.1111111111111111,
              "#46039f"
             ],
             [
              0.2222222222222222,
              "#7201a8"
             ],
             [
              0.3333333333333333,
              "#9c179e"
             ],
             [
              0.4444444444444444,
              "#bd3786"
             ],
             [
              0.5555555555555556,
              "#d8576b"
             ],
             [
              0.6666666666666666,
              "#ed7953"
             ],
             [
              0.7777777777777778,
              "#fb9f3a"
             ],
             [
              0.8888888888888888,
              "#fdca26"
             ],
             [
              1,
              "#f0f921"
             ]
            ],
            "type": "heatmap"
           }
          ],
          "heatmapgl": [
           {
            "colorbar": {
             "outlinewidth": 0,
             "ticks": ""
            },
            "colorscale": [
             [
              0,
              "#0d0887"
             ],
             [
              0.1111111111111111,
              "#46039f"
             ],
             [
              0.2222222222222222,
              "#7201a8"
             ],
             [
              0.3333333333333333,
              "#9c179e"
             ],
             [
              0.4444444444444444,
              "#bd3786"
             ],
             [
              0.5555555555555556,
              "#d8576b"
             ],
             [
              0.6666666666666666,
              "#ed7953"
             ],
             [
              0.7777777777777778,
              "#fb9f3a"
             ],
             [
              0.8888888888888888,
              "#fdca26"
             ],
             [
              1,
              "#f0f921"
             ]
            ],
            "type": "heatmapgl"
           }
          ],
          "histogram": [
           {
            "marker": {
             "colorbar": {
              "outlinewidth": 0,
              "ticks": ""
             }
            },
            "type": "histogram"
           }
          ],
          "histogram2d": [
           {
            "colorbar": {
             "outlinewidth": 0,
             "ticks": ""
            },
            "colorscale": [
             [
              0,
              "#0d0887"
             ],
             [
              0.1111111111111111,
              "#46039f"
             ],
             [
              0.2222222222222222,
              "#7201a8"
             ],
             [
              0.3333333333333333,
              "#9c179e"
             ],
             [
              0.4444444444444444,
              "#bd3786"
             ],
             [
              0.5555555555555556,
              "#d8576b"
             ],
             [
              0.6666666666666666,
              "#ed7953"
             ],
             [
              0.7777777777777778,
              "#fb9f3a"
             ],
             [
              0.8888888888888888,
              "#fdca26"
             ],
             [
              1,
              "#f0f921"
             ]
            ],
            "type": "histogram2d"
           }
          ],
          "histogram2dcontour": [
           {
            "colorbar": {
             "outlinewidth": 0,
             "ticks": ""
            },
            "colorscale": [
             [
              0,
              "#0d0887"
             ],
             [
              0.1111111111111111,
              "#46039f"
             ],
             [
              0.2222222222222222,
              "#7201a8"
             ],
             [
              0.3333333333333333,
              "#9c179e"
             ],
             [
              0.4444444444444444,
              "#bd3786"
             ],
             [
              0.5555555555555556,
              "#d8576b"
             ],
             [
              0.6666666666666666,
              "#ed7953"
             ],
             [
              0.7777777777777778,
              "#fb9f3a"
             ],
             [
              0.8888888888888888,
              "#fdca26"
             ],
             [
              1,
              "#f0f921"
             ]
            ],
            "type": "histogram2dcontour"
           }
          ],
          "mesh3d": [
           {
            "colorbar": {
             "outlinewidth": 0,
             "ticks": ""
            },
            "type": "mesh3d"
           }
          ],
          "parcoords": [
           {
            "line": {
             "colorbar": {
              "outlinewidth": 0,
              "ticks": ""
             }
            },
            "type": "parcoords"
           }
          ],
          "pie": [
           {
            "automargin": true,
            "type": "pie"
           }
          ],
          "scatter": [
           {
            "marker": {
             "colorbar": {
              "outlinewidth": 0,
              "ticks": ""
             }
            },
            "type": "scatter"
           }
          ],
          "scatter3d": [
           {
            "line": {
             "colorbar": {
              "outlinewidth": 0,
              "ticks": ""
             }
            },
            "marker": {
             "colorbar": {
              "outlinewidth": 0,
              "ticks": ""
             }
            },
            "type": "scatter3d"
           }
          ],
          "scattercarpet": [
           {
            "marker": {
             "colorbar": {
              "outlinewidth": 0,
              "ticks": ""
             }
            },
            "type": "scattercarpet"
           }
          ],
          "scattergeo": [
           {
            "marker": {
             "colorbar": {
              "outlinewidth": 0,
              "ticks": ""
             }
            },
            "type": "scattergeo"
           }
          ],
          "scattergl": [
           {
            "marker": {
             "colorbar": {
              "outlinewidth": 0,
              "ticks": ""
             }
            },
            "type": "scattergl"
           }
          ],
          "scattermapbox": [
           {
            "marker": {
             "colorbar": {
              "outlinewidth": 0,
              "ticks": ""
             }
            },
            "type": "scattermapbox"
           }
          ],
          "scatterpolar": [
           {
            "marker": {
             "colorbar": {
              "outlinewidth": 0,
              "ticks": ""
             }
            },
            "type": "scatterpolar"
           }
          ],
          "scatterpolargl": [
           {
            "marker": {
             "colorbar": {
              "outlinewidth": 0,
              "ticks": ""
             }
            },
            "type": "scatterpolargl"
           }
          ],
          "scatterternary": [
           {
            "marker": {
             "colorbar": {
              "outlinewidth": 0,
              "ticks": ""
             }
            },
            "type": "scatterternary"
           }
          ],
          "surface": [
           {
            "colorbar": {
             "outlinewidth": 0,
             "ticks": ""
            },
            "colorscale": [
             [
              0,
              "#0d0887"
             ],
             [
              0.1111111111111111,
              "#46039f"
             ],
             [
              0.2222222222222222,
              "#7201a8"
             ],
             [
              0.3333333333333333,
              "#9c179e"
             ],
             [
              0.4444444444444444,
              "#bd3786"
             ],
             [
              0.5555555555555556,
              "#d8576b"
             ],
             [
              0.6666666666666666,
              "#ed7953"
             ],
             [
              0.7777777777777778,
              "#fb9f3a"
             ],
             [
              0.8888888888888888,
              "#fdca26"
             ],
             [
              1,
              "#f0f921"
             ]
            ],
            "type": "surface"
           }
          ],
          "table": [
           {
            "cells": {
             "fill": {
              "color": "#EBF0F8"
             },
             "line": {
              "color": "white"
             }
            },
            "header": {
             "fill": {
              "color": "#C8D4E3"
             },
             "line": {
              "color": "white"
             }
            },
            "type": "table"
           }
          ]
         },
         "layout": {
          "annotationdefaults": {
           "arrowcolor": "#2a3f5f",
           "arrowhead": 0,
           "arrowwidth": 1
          },
          "autotypenumbers": "strict",
          "coloraxis": {
           "colorbar": {
            "outlinewidth": 0,
            "ticks": ""
           }
          },
          "colorscale": {
           "diverging": [
            [
             0,
             "#8e0152"
            ],
            [
             0.1,
             "#c51b7d"
            ],
            [
             0.2,
             "#de77ae"
            ],
            [
             0.3,
             "#f1b6da"
            ],
            [
             0.4,
             "#fde0ef"
            ],
            [
             0.5,
             "#f7f7f7"
            ],
            [
             0.6,
             "#e6f5d0"
            ],
            [
             0.7,
             "#b8e186"
            ],
            [
             0.8,
             "#7fbc41"
            ],
            [
             0.9,
             "#4d9221"
            ],
            [
             1,
             "#276419"
            ]
           ],
           "sequential": [
            [
             0,
             "#0d0887"
            ],
            [
             0.1111111111111111,
             "#46039f"
            ],
            [
             0.2222222222222222,
             "#7201a8"
            ],
            [
             0.3333333333333333,
             "#9c179e"
            ],
            [
             0.4444444444444444,
             "#bd3786"
            ],
            [
             0.5555555555555556,
             "#d8576b"
            ],
            [
             0.6666666666666666,
             "#ed7953"
            ],
            [
             0.7777777777777778,
             "#fb9f3a"
            ],
            [
             0.8888888888888888,
             "#fdca26"
            ],
            [
             1,
             "#f0f921"
            ]
           ],
           "sequentialminus": [
            [
             0,
             "#0d0887"
            ],
            [
             0.1111111111111111,
             "#46039f"
            ],
            [
             0.2222222222222222,
             "#7201a8"
            ],
            [
             0.3333333333333333,
             "#9c179e"
            ],
            [
             0.4444444444444444,
             "#bd3786"
            ],
            [
             0.5555555555555556,
             "#d8576b"
            ],
            [
             0.6666666666666666,
             "#ed7953"
            ],
            [
             0.7777777777777778,
             "#fb9f3a"
            ],
            [
             0.8888888888888888,
             "#fdca26"
            ],
            [
             1,
             "#f0f921"
            ]
           ]
          },
          "colorway": [
           "#636efa",
           "#EF553B",
           "#00cc96",
           "#ab63fa",
           "#FFA15A",
           "#19d3f3",
           "#FF6692",
           "#B6E880",
           "#FF97FF",
           "#FECB52"
          ],
          "font": {
           "color": "#2a3f5f"
          },
          "geo": {
           "bgcolor": "white",
           "lakecolor": "white",
           "landcolor": "#E5ECF6",
           "showlakes": true,
           "showland": true,
           "subunitcolor": "white"
          },
          "hoverlabel": {
           "align": "left"
          },
          "hovermode": "closest",
          "mapbox": {
           "style": "light"
          },
          "paper_bgcolor": "white",
          "plot_bgcolor": "#E5ECF6",
          "polar": {
           "angularaxis": {
            "gridcolor": "white",
            "linecolor": "white",
            "ticks": ""
           },
           "bgcolor": "#E5ECF6",
           "radialaxis": {
            "gridcolor": "white",
            "linecolor": "white",
            "ticks": ""
           }
          },
          "scene": {
           "xaxis": {
            "backgroundcolor": "#E5ECF6",
            "gridcolor": "white",
            "gridwidth": 2,
            "linecolor": "white",
            "showbackground": true,
            "ticks": "",
            "zerolinecolor": "white"
           },
           "yaxis": {
            "backgroundcolor": "#E5ECF6",
            "gridcolor": "white",
            "gridwidth": 2,
            "linecolor": "white",
            "showbackground": true,
            "ticks": "",
            "zerolinecolor": "white"
           },
           "zaxis": {
            "backgroundcolor": "#E5ECF6",
            "gridcolor": "white",
            "gridwidth": 2,
            "linecolor": "white",
            "showbackground": true,
            "ticks": "",
            "zerolinecolor": "white"
           }
          },
          "shapedefaults": {
           "line": {
            "color": "#2a3f5f"
           }
          },
          "ternary": {
           "aaxis": {
            "gridcolor": "white",
            "linecolor": "white",
            "ticks": ""
           },
           "baxis": {
            "gridcolor": "white",
            "linecolor": "white",
            "ticks": ""
           },
           "bgcolor": "#E5ECF6",
           "caxis": {
            "gridcolor": "white",
            "linecolor": "white",
            "ticks": ""
           }
          },
          "title": {
           "x": 0.05
          },
          "xaxis": {
           "automargin": true,
           "gridcolor": "white",
           "linecolor": "white",
           "ticks": "",
           "title": {
            "standoff": 15
           },
           "zerolinecolor": "white",
           "zerolinewidth": 2
          },
          "yaxis": {
           "automargin": true,
           "gridcolor": "white",
           "linecolor": "white",
           "ticks": "",
           "title": {
            "standoff": 15
           },
           "zerolinecolor": "white",
           "zerolinewidth": 2
          }
         }
        },
        "title": {
         "text": "Contour Plot"
        },
        "xaxis": {
         "range": [
          -10.922881755941491,
          10.906384696534847
         ],
         "title": {
          "text": "c"
         },
         "type": "log"
        },
        "yaxis": {
         "range": [
          -0.1,
          2.1
         ],
         "title": {
          "text": "classifier"
         },
         "type": "category"
        }
       }
      },
      "text/html": [
       "<div>                            <div id=\"53ea3edb-1604-43e7-95ac-b99de0ad4e83\" class=\"plotly-graph-div\" style=\"height:525px; width:100%;\"></div>            <script type=\"text/javascript\">                require([\"plotly\"], function(Plotly) {                    window.PLOTLYENV=window.PLOTLYENV || {};                                    if (document.getElementById(\"53ea3edb-1604-43e7-95ac-b99de0ad4e83\")) {                    Plotly.newPlot(                        \"53ea3edb-1604-43e7-95ac-b99de0ad4e83\",                        [{\"colorbar\": {\"title\": {\"text\": \"Objective Value\"}}, \"colorscale\": [[0, \"rgb(5,10,172)\"], [0.35, \"rgb(40,60,190)\"], [0.5, \"rgb(70,100,245)\"], [0.6, \"rgb(90,120,245)\"], [0.7, \"rgb(106,137,247)\"], [1, \"rgb(220,220,220)\"]], \"connectgaps\": true, \"contours\": {\"coloring\": \"heatmap\"}, \"hoverinfo\": \"none\", \"line\": {\"smoothing\": 1.3}, \"reversescale\": false, \"type\": \"contour\", \"x\": [1.1943132322900035e-11, 1.173161030228546e-10, 1.229664084494137e-10, 9.024752250065531e-10, 9.70407737549359e-09, 1.1779667439458428e-08, 3.808941694496199e-08, 1.909812584910647e-07, 2.0163626673253758e-07, 3.6615811171203884e-07, 1.2593047017104702e-06, 1.419468024393502e-06, 4.691587013325511e-06, 5.691499081634364e-06, 9.972052455526294e-06, 1.8614404691053545e-05, 2.4134442183187553e-05, 2.614814105718521e-05, 4.606470264205833e-05, 6.070473137546396e-05, 8.640955733935902e-05, 0.0001052020935819917, 0.000145175323878717, 0.00020427831864261906, 0.0002507513172380451, 0.00029578430628907006, 0.00035023180008238517, 0.0003990207611273958, 0.00043711034999586415, 0.0006883113506704299, 0.0010629552821889204, 0.0010890091805289303, 0.0012277307608057556, 0.0017738344791501306, 0.0022794147320389802, 0.002647758377422638, 0.0034050296658919214, 0.003682492007137863, 0.004157252686361981, 0.004626720403386946, 0.0050279191577903065, 0.005831648059613205, 0.0060491782918854755, 0.006407735307851336, 0.007301339122967176, 0.007892572942688037, 0.00949313745636115, 0.01214763930288558, 0.013053654827591844, 0.014737334604866719, 0.01796233053660327, 0.024385794696946145, 0.025282565651078146, 0.025845957451639385, 0.02712673644514933, 0.030410344258718643, 0.03062732845680034, 0.03160425684519511, 0.046690878271771145, 0.04773753636502256, 0.059124341329317764, 0.06627629190008787, 0.07676794442634816, 0.0983493905602971, 0.10403505108458054, 0.15207442227688636, 0.17286799571368988, 0.2049126350344259, 0.28154461804838143, 0.3758672766882755, 0.39241168771547824, 0.45102884812573796, 0.6437486396338035, 1.0400129688039474, 1.1512921507299707, 1.2640026368508386, 1.7295357063641439, 3.1865849582482455, 3.6572877643502197, 6.607712840093156, 7.361425752378214, 15.456818139795619, 18.08087334430476, 25.140641899307695, 53.888367638625475, 90.07761614191038, 191.42888611831714, 639.5974688282184, 743.5165448182792, 3560.4507760603788, 4902.219429720346, 80107.30843321605, 390517.9002466211, 401486.505063463, 10393730.761500303, 105883956.20689043, 194937631.59038535, 213023922.7847568, 6743432848.018345, 8206260749.666425, 80609215866.62149], \"y\": [\"LinearSVC\", \"LogisticRegression\", \"RidgeClassifier\"], \"z\": [[null, null, 0.7221111207721068, null, 0.7221111207721068, null, null, null, 0.7223719676549866, null, 0.7228936614207461, null, null, null, 0.7237631510303452, 0.7244587427180246, null, null, null, 0.7305451699852187, null, null, null, null, null, null, null, null, null, null, null, null, null, null, null, null, null, null, null, null, null, null, null, null, null, null, null, null, null, null, null, null, null, null, null, null, 0.7337622815407356, null, null, null, null, 0.7318494043996174, null, null, null, null, null, null, null, null, null, null, null, null, null, null, null, null, null, null, null, null, null, 0.7255890792105034, 0.7258499260933832, null, 0.6847230675593426, null, null, null, null, 0.6829840883401443, 0.6747239370489523, null, 0.6747239370489523, null, null, null, 0.6747239370489523, null, null], [null, 0.5172593687505435, null, 0.5172593687505435, null, 0.5172593687505435, 0.5172593687505435, 0.5172593687505435, null, 0.5216937657594992, null, 0.6661159899139205, 0.7150682549343536, 0.7184592644117903, null, null, 0.7217633249282671, 0.7221111207721068, 0.7218502738892271, null, 0.7241978958351448, 0.7237631510303452, 0.7244587427180246, 0.7258499260933832, 0.7262846708981827, 0.7266324667420224, 0.7276758542735414, 0.728110599078341, 0.7284583949221807, 0.7309799147900182, 0.7319363533605774, 0.7319363533605774, 0.7326319450482567, 0.7340231284236154, 0.7341100773845752, 0.7351534649160942, 0.735327362838014, 0.7362838014085732, 0.7365446482914529, 0.7368924441352925, 0.7371532910181723, 0.7372402399791322, 0.7371532910181723, 0.7378488827058517, 0.7369793930962525, 0.7366315972524128, 0.736457699330493, 0.7365446482914529, 0.7361968524476132, 0.7357621076428137, 0.7358490566037735, 0.7375880358229719, 0.7373271889400922, 0.7371532910181723, 0.7368054951743327, 0.7368054951743327, null, 0.7369793930962525, 0.7362838014085732, 0.7360229545256934, 0.7360229545256934, null, 0.7351534649160942, 0.7351534649160942, 0.7352404138770542, 0.7358490566037735, 0.7355012607599339, 0.7352404138770542, 0.7355012607599339, 0.7337622815407356, 0.7334144856968959, 0.732284149204417, 0.7311538127119381, 0.7299365272584992, 0.7299365272584992, 0.7295887314146596, 0.7293278845317799, 0.7284583949221807, 0.7282844970002609, 0.7273280584297017, 0.7273280584297017, 0.7268063646639422, 0.7266324667420224, null, null, 0.7254151812885836, null, 0.7249804364837841, 0.7251543344057039, 0.7248934875228241, 0.7248065385618642, null, null, 0.7250673854447439, null, 0.7250673854447439, 0.7248065385618642, 0.7249804364837841, null, 0.7248934875228241, null], [null, null, null, null, null, null, null, null, null, null, null, null, null, null, null, null, null, null, null, null, null, null, null, null, null, null, null, null, null, null, null, null, null, null, null, null, null, null, null, null, null, null, null, null, null, null, null, null, null, null, null, null, null, null, null, null, null, null, null, null, null, null, null, null, null, null, null, null, null, null, null, null, null, null, null, null, null, null, null, null, null, null, null, null, null, null, null, null, null, null, null, null, null, null, null, null, null, null, null, null, null]]}, {\"marker\": {\"color\": \"black\", \"line\": {\"color\": \"Grey\", \"width\": 0.5}}, \"mode\": \"markers\", \"showlegend\": false, \"type\": \"scatter\", \"x\": [3.808941694496199e-08, 105883956.20689043, 80107.30843321605, 3.6615811171203884e-07, 401486.505063463, 390517.9002466211, 0.03062732845680034, 0.06627629190008787, 9.024752250065531e-10, 0.00035023180008238517, 191.42888611831714, 8206260749.666425, 1.8614404691053545e-05, 1.173161030228546e-10, 53.888367638625475, 194937631.59038535, 25.140641899307695, 0.0002507513172380451, 6743432848.018345, 4902.219429720346, 9.70407737549359e-09, 1.0400129688039474, 9.972052455526294e-06, 213023922.7847568, 10393730.761500303, 1.2640026368508386, 2.0163626673253758e-07, 3560.4507760603788, 1.229664084494137e-10, 0.007301339122967176, 0.006407735307851336, 0.005831648059613205, 0.014737334604866719, 0.002647758377422638, 4.691587013325511e-06, 0.00029578430628907006, 0.39241168771547824, 0.003682492007137863, 6.607712840093156, 1.419468024393502e-06, 0.17286799571368988, 639.5974688282184, 1.1779667439458428e-08, 0.0034050296658919214, 4.606470264205833e-05, 0.025845957451639385, 3.6572877643502197, 0.03160425684519511, 0.025282565651078146, 0.10403505108458054, 0.0001052020935819917, 0.013053654827591844, 0.0010629552821889204, 0.046690878271771145, 0.00949313745636115, 0.0006883113506704299, 18.08087334430476, 0.3758672766882755, 0.04773753636502256, 3.1865849582482455, 8.640955733935902e-05, 90.07761614191038, 2.4134442183187553e-05, 1.909812584910647e-07, 0.0012277307608057556, 1.2593047017104702e-06, 743.5165448182792, 0.45102884812573796, 0.024385794696946145, 0.01214763930288558, 0.0003990207611273958, 0.059124341329317764, 0.004157252686361981, 1.1512921507299707, 0.15207442227688636, 15.456818139795619, 0.0017738344791501306, 5.691499081634364e-06, 0.000145175323878717, 1.7295357063641439, 0.02712673644514933, 0.28154461804838143, 0.0060491782918854755, 0.0050279191577903065, 2.614814105718521e-05, 0.00043711034999586415, 0.004626720403386946, 0.007892572942688037, 0.030410344258718643, 0.0010890091805289303, 0.01796233053660327, 0.2049126350344259, 0.07676794442634816, 0.00020427831864261906, 6.070473137546396e-05, 0.0022794147320389802, 0.6437486396338035, 0.0983493905602971, 7.361425752378214], \"y\": [\"LogisticRegression\", \"LogisticRegression\", \"LinearSVC\", \"LogisticRegression\", \"LogisticRegression\", \"LinearSVC\", \"LinearSVC\", \"LinearSVC\", \"LogisticRegression\", \"LogisticRegression\", \"LinearSVC\", \"LogisticRegression\", \"LinearSVC\", \"LogisticRegression\", \"LinearSVC\", \"LogisticRegression\", \"LinearSVC\", \"LogisticRegression\", \"LinearSVC\", \"LogisticRegression\", \"LinearSVC\", \"LogisticRegression\", \"LinearSVC\", \"LogisticRegression\", \"LinearSVC\", \"LogisticRegression\", \"LinearSVC\", \"LogisticRegression\", \"LinearSVC\", \"LogisticRegression\", \"LogisticRegression\", \"LogisticRegression\", \"LogisticRegression\", \"LogisticRegression\", \"LogisticRegression\", \"LogisticRegression\", \"LogisticRegression\", \"LogisticRegression\", \"LogisticRegression\", \"LogisticRegression\", \"LogisticRegression\", \"LogisticRegression\", \"LogisticRegression\", \"LogisticRegression\", \"LogisticRegression\", \"LogisticRegression\", \"LogisticRegression\", \"LogisticRegression\", \"LogisticRegression\", \"LogisticRegression\", \"LogisticRegression\", \"LogisticRegression\", \"LogisticRegression\", \"LogisticRegression\", \"LogisticRegression\", \"LogisticRegression\", \"LogisticRegression\", \"LogisticRegression\", \"LogisticRegression\", \"LogisticRegression\", \"LogisticRegression\", \"LogisticRegression\", \"LogisticRegression\", \"LogisticRegression\", \"LogisticRegression\", \"LinearSVC\", \"LogisticRegression\", \"LogisticRegression\", \"LogisticRegression\", \"LogisticRegression\", \"LogisticRegression\", \"LogisticRegression\", \"LogisticRegression\", \"LogisticRegression\", \"LogisticRegression\", \"LogisticRegression\", \"LogisticRegression\", \"LogisticRegression\", \"LogisticRegression\", \"LogisticRegression\", \"LogisticRegression\", \"LogisticRegression\", \"LogisticRegression\", \"LogisticRegression\", \"LogisticRegression\", \"LogisticRegression\", \"LogisticRegression\", \"LogisticRegression\", \"LogisticRegression\", \"LogisticRegression\", \"LogisticRegression\", \"LogisticRegression\", \"LogisticRegression\", \"LogisticRegression\", \"LinearSVC\", \"LogisticRegression\", \"LogisticRegression\", \"LogisticRegression\", \"LogisticRegression\"]}],                        {\"template\": {\"data\": {\"bar\": [{\"error_x\": {\"color\": \"#2a3f5f\"}, \"error_y\": {\"color\": \"#2a3f5f\"}, \"marker\": {\"line\": {\"color\": \"#E5ECF6\", \"width\": 0.5}}, \"type\": \"bar\"}], \"barpolar\": [{\"marker\": {\"line\": {\"color\": \"#E5ECF6\", \"width\": 0.5}}, \"type\": \"barpolar\"}], \"carpet\": [{\"aaxis\": {\"endlinecolor\": \"#2a3f5f\", \"gridcolor\": \"white\", \"linecolor\": \"white\", \"minorgridcolor\": \"white\", \"startlinecolor\": \"#2a3f5f\"}, \"baxis\": {\"endlinecolor\": \"#2a3f5f\", \"gridcolor\": \"white\", \"linecolor\": \"white\", \"minorgridcolor\": \"white\", \"startlinecolor\": \"#2a3f5f\"}, \"type\": \"carpet\"}], \"choropleth\": [{\"colorbar\": {\"outlinewidth\": 0, \"ticks\": \"\"}, \"type\": \"choropleth\"}], \"contour\": [{\"colorbar\": {\"outlinewidth\": 0, \"ticks\": \"\"}, \"colorscale\": [[0.0, \"#0d0887\"], [0.1111111111111111, \"#46039f\"], [0.2222222222222222, \"#7201a8\"], [0.3333333333333333, \"#9c179e\"], [0.4444444444444444, \"#bd3786\"], [0.5555555555555556, \"#d8576b\"], [0.6666666666666666, \"#ed7953\"], [0.7777777777777778, \"#fb9f3a\"], [0.8888888888888888, \"#fdca26\"], [1.0, \"#f0f921\"]], \"type\": \"contour\"}], \"contourcarpet\": [{\"colorbar\": {\"outlinewidth\": 0, \"ticks\": \"\"}, \"type\": \"contourcarpet\"}], \"heatmap\": [{\"colorbar\": {\"outlinewidth\": 0, \"ticks\": \"\"}, \"colorscale\": [[0.0, \"#0d0887\"], [0.1111111111111111, \"#46039f\"], [0.2222222222222222, \"#7201a8\"], [0.3333333333333333, \"#9c179e\"], [0.4444444444444444, \"#bd3786\"], [0.5555555555555556, \"#d8576b\"], [0.6666666666666666, \"#ed7953\"], [0.7777777777777778, \"#fb9f3a\"], [0.8888888888888888, \"#fdca26\"], [1.0, \"#f0f921\"]], \"type\": \"heatmap\"}], \"heatmapgl\": [{\"colorbar\": {\"outlinewidth\": 0, \"ticks\": \"\"}, \"colorscale\": [[0.0, \"#0d0887\"], [0.1111111111111111, \"#46039f\"], [0.2222222222222222, \"#7201a8\"], [0.3333333333333333, \"#9c179e\"], [0.4444444444444444, \"#bd3786\"], [0.5555555555555556, \"#d8576b\"], [0.6666666666666666, \"#ed7953\"], [0.7777777777777778, \"#fb9f3a\"], [0.8888888888888888, \"#fdca26\"], [1.0, \"#f0f921\"]], \"type\": \"heatmapgl\"}], \"histogram\": [{\"marker\": {\"colorbar\": {\"outlinewidth\": 0, \"ticks\": \"\"}}, \"type\": \"histogram\"}], \"histogram2d\": [{\"colorbar\": {\"outlinewidth\": 0, \"ticks\": \"\"}, \"colorscale\": [[0.0, \"#0d0887\"], [0.1111111111111111, \"#46039f\"], [0.2222222222222222, \"#7201a8\"], [0.3333333333333333, \"#9c179e\"], [0.4444444444444444, \"#bd3786\"], [0.5555555555555556, \"#d8576b\"], [0.6666666666666666, \"#ed7953\"], [0.7777777777777778, \"#fb9f3a\"], [0.8888888888888888, \"#fdca26\"], [1.0, \"#f0f921\"]], \"type\": \"histogram2d\"}], \"histogram2dcontour\": [{\"colorbar\": {\"outlinewidth\": 0, \"ticks\": \"\"}, \"colorscale\": [[0.0, \"#0d0887\"], [0.1111111111111111, \"#46039f\"], [0.2222222222222222, \"#7201a8\"], [0.3333333333333333, \"#9c179e\"], [0.4444444444444444, \"#bd3786\"], [0.5555555555555556, \"#d8576b\"], [0.6666666666666666, \"#ed7953\"], [0.7777777777777778, \"#fb9f3a\"], [0.8888888888888888, \"#fdca26\"], [1.0, \"#f0f921\"]], \"type\": \"histogram2dcontour\"}], \"mesh3d\": [{\"colorbar\": {\"outlinewidth\": 0, \"ticks\": \"\"}, \"type\": \"mesh3d\"}], \"parcoords\": [{\"line\": {\"colorbar\": {\"outlinewidth\": 0, \"ticks\": \"\"}}, \"type\": \"parcoords\"}], \"pie\": [{\"automargin\": true, \"type\": \"pie\"}], \"scatter\": [{\"marker\": {\"colorbar\": {\"outlinewidth\": 0, \"ticks\": \"\"}}, \"type\": \"scatter\"}], \"scatter3d\": [{\"line\": {\"colorbar\": {\"outlinewidth\": 0, \"ticks\": \"\"}}, \"marker\": {\"colorbar\": {\"outlinewidth\": 0, \"ticks\": \"\"}}, \"type\": \"scatter3d\"}], \"scattercarpet\": [{\"marker\": {\"colorbar\": {\"outlinewidth\": 0, \"ticks\": \"\"}}, \"type\": \"scattercarpet\"}], \"scattergeo\": [{\"marker\": {\"colorbar\": {\"outlinewidth\": 0, \"ticks\": \"\"}}, \"type\": \"scattergeo\"}], \"scattergl\": [{\"marker\": {\"colorbar\": {\"outlinewidth\": 0, \"ticks\": \"\"}}, \"type\": \"scattergl\"}], \"scattermapbox\": [{\"marker\": {\"colorbar\": {\"outlinewidth\": 0, \"ticks\": \"\"}}, \"type\": \"scattermapbox\"}], \"scatterpolar\": [{\"marker\": {\"colorbar\": {\"outlinewidth\": 0, \"ticks\": \"\"}}, \"type\": \"scatterpolar\"}], \"scatterpolargl\": [{\"marker\": {\"colorbar\": {\"outlinewidth\": 0, \"ticks\": \"\"}}, \"type\": \"scatterpolargl\"}], \"scatterternary\": [{\"marker\": {\"colorbar\": {\"outlinewidth\": 0, \"ticks\": \"\"}}, \"type\": \"scatterternary\"}], \"surface\": [{\"colorbar\": {\"outlinewidth\": 0, \"ticks\": \"\"}, \"colorscale\": [[0.0, \"#0d0887\"], [0.1111111111111111, \"#46039f\"], [0.2222222222222222, \"#7201a8\"], [0.3333333333333333, \"#9c179e\"], [0.4444444444444444, \"#bd3786\"], [0.5555555555555556, \"#d8576b\"], [0.6666666666666666, \"#ed7953\"], [0.7777777777777778, \"#fb9f3a\"], [0.8888888888888888, \"#fdca26\"], [1.0, \"#f0f921\"]], \"type\": \"surface\"}], \"table\": [{\"cells\": {\"fill\": {\"color\": \"#EBF0F8\"}, \"line\": {\"color\": \"white\"}}, \"header\": {\"fill\": {\"color\": \"#C8D4E3\"}, \"line\": {\"color\": \"white\"}}, \"type\": \"table\"}]}, \"layout\": {\"annotationdefaults\": {\"arrowcolor\": \"#2a3f5f\", \"arrowhead\": 0, \"arrowwidth\": 1}, \"autotypenumbers\": \"strict\", \"coloraxis\": {\"colorbar\": {\"outlinewidth\": 0, \"ticks\": \"\"}}, \"colorscale\": {\"diverging\": [[0, \"#8e0152\"], [0.1, \"#c51b7d\"], [0.2, \"#de77ae\"], [0.3, \"#f1b6da\"], [0.4, \"#fde0ef\"], [0.5, \"#f7f7f7\"], [0.6, \"#e6f5d0\"], [0.7, \"#b8e186\"], [0.8, \"#7fbc41\"], [0.9, \"#4d9221\"], [1, \"#276419\"]], \"sequential\": [[0.0, \"#0d0887\"], [0.1111111111111111, \"#46039f\"], [0.2222222222222222, \"#7201a8\"], [0.3333333333333333, \"#9c179e\"], [0.4444444444444444, \"#bd3786\"], [0.5555555555555556, \"#d8576b\"], [0.6666666666666666, \"#ed7953\"], [0.7777777777777778, \"#fb9f3a\"], [0.8888888888888888, \"#fdca26\"], [1.0, \"#f0f921\"]], \"sequentialminus\": [[0.0, \"#0d0887\"], [0.1111111111111111, \"#46039f\"], [0.2222222222222222, \"#7201a8\"], [0.3333333333333333, \"#9c179e\"], [0.4444444444444444, \"#bd3786\"], [0.5555555555555556, \"#d8576b\"], [0.6666666666666666, \"#ed7953\"], [0.7777777777777778, \"#fb9f3a\"], [0.8888888888888888, \"#fdca26\"], [1.0, \"#f0f921\"]]}, \"colorway\": [\"#636efa\", \"#EF553B\", \"#00cc96\", \"#ab63fa\", \"#FFA15A\", \"#19d3f3\", \"#FF6692\", \"#B6E880\", \"#FF97FF\", \"#FECB52\"], \"font\": {\"color\": \"#2a3f5f\"}, \"geo\": {\"bgcolor\": \"white\", \"lakecolor\": \"white\", \"landcolor\": \"#E5ECF6\", \"showlakes\": true, \"showland\": true, \"subunitcolor\": \"white\"}, \"hoverlabel\": {\"align\": \"left\"}, \"hovermode\": \"closest\", \"mapbox\": {\"style\": \"light\"}, \"paper_bgcolor\": \"white\", \"plot_bgcolor\": \"#E5ECF6\", \"polar\": {\"angularaxis\": {\"gridcolor\": \"white\", \"linecolor\": \"white\", \"ticks\": \"\"}, \"bgcolor\": \"#E5ECF6\", \"radialaxis\": {\"gridcolor\": \"white\", \"linecolor\": \"white\", \"ticks\": \"\"}}, \"scene\": {\"xaxis\": {\"backgroundcolor\": \"#E5ECF6\", \"gridcolor\": \"white\", \"gridwidth\": 2, \"linecolor\": \"white\", \"showbackground\": true, \"ticks\": \"\", \"zerolinecolor\": \"white\"}, \"yaxis\": {\"backgroundcolor\": \"#E5ECF6\", \"gridcolor\": \"white\", \"gridwidth\": 2, \"linecolor\": \"white\", \"showbackground\": true, \"ticks\": \"\", \"zerolinecolor\": \"white\"}, \"zaxis\": {\"backgroundcolor\": \"#E5ECF6\", \"gridcolor\": \"white\", \"gridwidth\": 2, \"linecolor\": \"white\", \"showbackground\": true, \"ticks\": \"\", \"zerolinecolor\": \"white\"}}, \"shapedefaults\": {\"line\": {\"color\": \"#2a3f5f\"}}, \"ternary\": {\"aaxis\": {\"gridcolor\": \"white\", \"linecolor\": \"white\", \"ticks\": \"\"}, \"baxis\": {\"gridcolor\": \"white\", \"linecolor\": \"white\", \"ticks\": \"\"}, \"bgcolor\": \"#E5ECF6\", \"caxis\": {\"gridcolor\": \"white\", \"linecolor\": \"white\", \"ticks\": \"\"}}, \"title\": {\"x\": 0.05}, \"xaxis\": {\"automargin\": true, \"gridcolor\": \"white\", \"linecolor\": \"white\", \"ticks\": \"\", \"title\": {\"standoff\": 15}, \"zerolinecolor\": \"white\", \"zerolinewidth\": 2}, \"yaxis\": {\"automargin\": true, \"gridcolor\": \"white\", \"linecolor\": \"white\", \"ticks\": \"\", \"title\": {\"standoff\": 15}, \"zerolinecolor\": \"white\", \"zerolinewidth\": 2}}}, \"title\": {\"text\": \"Contour Plot\"}, \"xaxis\": {\"range\": [-10.922881755941491, 10.906384696534847], \"title\": {\"text\": \"c\"}, \"type\": \"log\"}, \"yaxis\": {\"range\": [-0.1, 2.1], \"title\": {\"text\": \"classifier\"}, \"type\": \"category\"}},                        {\"responsive\": true}                    ).then(function(){\n",
       "                            \n",
       "var gd = document.getElementById('53ea3edb-1604-43e7-95ac-b99de0ad4e83');\n",
       "var x = new MutationObserver(function (mutations, observer) {{\n",
       "        var display = window.getComputedStyle(gd).display;\n",
       "        if (!display || display === 'none') {{\n",
       "            console.log([gd, 'removed!']);\n",
       "            Plotly.purge(gd);\n",
       "            observer.disconnect();\n",
       "        }}\n",
       "}});\n",
       "\n",
       "// Listen for the removal of the full notebook cells\n",
       "var notebookContainer = gd.closest('#notebook-container');\n",
       "if (notebookContainer) {{\n",
       "    x.observe(notebookContainer, {childList: true});\n",
       "}}\n",
       "\n",
       "// Listen for the clearing of the current output cell\n",
       "var outputEl = gd.closest('.output');\n",
       "if (outputEl) {{\n",
       "    x.observe(outputEl, {childList: true});\n",
       "}}\n",
       "\n",
       "                        })                };                });            </script>        </div>"
      ]
     },
     "metadata": {},
     "output_type": "display_data"
    }
   ],
   "source": [
    "optuna.visualization.plot_contour(linear_study, params=['classifier', 'c'])"
   ]
  },
  {
   "cell_type": "code",
   "execution_count": 11,
   "metadata": {},
   "outputs": [
    {
     "data": {
      "application/vnd.plotly.v1+json": {
       "config": {
        "plotlyServerURL": "https://plot.ly"
       },
       "data": [
        {
         "marker": {
          "color": [
           0,
           1,
           3,
           4,
           5,
           9,
           16,
           20,
           29,
           35,
           37,
           38,
           48,
           57,
           60,
           77,
           88,
           100,
           116,
           136,
           149,
           176,
           198,
           227,
           250,
           271,
           279,
           300,
           311,
           328,
           330,
           331,
           332,
           333,
           334,
           335,
           336,
           337,
           338,
           339,
           340,
           341,
           342,
           343,
           344,
           345,
           346,
           347,
           348,
           349,
           350,
           351,
           352,
           353,
           354,
           355,
           356,
           357,
           358,
           359,
           360,
           361,
           362,
           363,
           364,
           365,
           366,
           367,
           368,
           369,
           370,
           371,
           372,
           373,
           374,
           375,
           376,
           377,
           378,
           379,
           380,
           382,
           383,
           384,
           385,
           386,
           387,
           388,
           389,
           390,
           391,
           392,
           393,
           394,
           395,
           396,
           397,
           398,
           399
          ],
          "colorbar": {
           "title": {
            "text": "#Trials"
           },
           "x": 1,
           "xpad": 40
          },
          "colorscale": [
           [
            0,
            "rgb(247,251,255)"
           ],
           [
            0.125,
            "rgb(222,235,247)"
           ],
           [
            0.25,
            "rgb(198,219,239)"
           ],
           [
            0.375,
            "rgb(158,202,225)"
           ],
           [
            0.5,
            "rgb(107,174,214)"
           ],
           [
            0.625,
            "rgb(66,146,198)"
           ],
           [
            0.75,
            "rgb(33,113,181)"
           ],
           [
            0.875,
            "rgb(8,81,156)"
           ],
           [
            1,
            "rgb(8,48,107)"
           ]
          ],
          "line": {
           "color": "Grey",
           "width": 0.5
          },
          "showscale": true
         },
         "mode": "markers",
         "showlegend": false,
         "type": "scatter",
         "x": [
          3.808941694496199e-08,
          105883956.20689043,
          80107.30843321605,
          3.6615811171203884e-07,
          401486.505063463,
          390517.9002466211,
          0.03062732845680034,
          0.06627629190008787,
          9.024752250065531e-10,
          0.00035023180008238517,
          191.42888611831714,
          8206260749.666425,
          1.8614404691053545e-05,
          1.173161030228546e-10,
          53.888367638625475,
          194937631.59038535,
          25.140641899307695,
          0.0002507513172380451,
          6743432848.018345,
          4902.219429720346,
          9.70407737549359e-09,
          1.0400129688039474,
          9.972052455526294e-06,
          213023922.7847568,
          10393730.761500303,
          1.2640026368508386,
          2.0163626673253758e-07,
          3560.4507760603788,
          1.229664084494137e-10,
          0.007301339122967176,
          0.006407735307851336,
          0.005831648059613205,
          0.014737334604866719,
          0.002647758377422638,
          4.691587013325511e-06,
          0.00029578430628907006,
          0.39241168771547824,
          0.003682492007137863,
          6.607712840093156,
          1.419468024393502e-06,
          0.17286799571368988,
          639.5974688282184,
          1.1779667439458428e-08,
          0.0034050296658919214,
          4.606470264205833e-05,
          0.025845957451639385,
          3.6572877643502197,
          0.03160425684519511,
          0.025282565651078146,
          0.10403505108458054,
          0.0001052020935819917,
          0.013053654827591844,
          0.0010629552821889204,
          0.046690878271771145,
          0.00949313745636115,
          0.0006883113506704299,
          18.08087334430476,
          0.3758672766882755,
          0.04773753636502256,
          3.1865849582482455,
          8.640955733935902e-05,
          90.07761614191038,
          2.4134442183187553e-05,
          1.909812584910647e-07,
          0.0012277307608057556,
          1.2593047017104702e-06,
          743.5165448182792,
          0.45102884812573796,
          0.024385794696946145,
          0.01214763930288558,
          0.0003990207611273958,
          0.059124341329317764,
          0.004157252686361981,
          1.1512921507299707,
          0.15207442227688636,
          15.456818139795619,
          0.0017738344791501306,
          5.691499081634364e-06,
          0.000145175323878717,
          1.7295357063641439,
          0.02712673644514933,
          0.28154461804838143,
          0.0060491782918854755,
          0.0050279191577903065,
          2.614814105718521e-05,
          0.00043711034999586415,
          0.004626720403386946,
          0.007892572942688037,
          0.030410344258718643,
          0.0010890091805289303,
          0.01796233053660327,
          0.2049126350344259,
          0.07676794442634816,
          0.00020427831864261906,
          6.070473137546396e-05,
          0.0022794147320389802,
          0.6437486396338035,
          0.0983493905602971,
          7.361425752378214
         ],
         "xaxis": "x",
         "y": [
          0.5172593687505435,
          0.7250673854447439,
          0.6829840883401443,
          0.5216937657594992,
          0.7250673854447439,
          0.6747239370489523,
          0.7337622815407356,
          0.7318494043996174,
          0.5172593687505435,
          0.7276758542735414,
          0.6847230675593426,
          0.7248934875228241,
          0.7244587427180246,
          0.5172593687505435,
          0.7258499260933832,
          0.7248065385618642,
          0.7255890792105034,
          0.7262846708981827,
          0.6747239370489523,
          0.7248065385618642,
          0.7221111207721068,
          0.7299365272584992,
          0.7237631510303452,
          0.7249804364837841,
          0.6747239370489523,
          0.7295887314146596,
          0.7223719676549866,
          0.7248934875228241,
          0.7221111207721068,
          0.7369793930962525,
          0.7378488827058517,
          0.7372402399791322,
          0.7357621076428137,
          0.7351534649160942,
          0.7150682549343536,
          0.7266324667420224,
          0.7334144856968959,
          0.7362838014085732,
          0.7273280584297017,
          0.6661159899139205,
          0.7355012607599339,
          0.7249804364837841,
          0.5172593687505435,
          0.735327362838014,
          0.7218502738892271,
          0.7371532910181723,
          0.7282844970002609,
          0.7369793930962525,
          0.7373271889400922,
          0.7352404138770542,
          0.7237631510303452,
          0.7361968524476132,
          0.7319363533605774,
          0.7362838014085732,
          0.736457699330493,
          0.7309799147900182,
          0.7266324667420224,
          0.7337622815407356,
          0.7360229545256934,
          0.7284583949221807,
          0.7241978958351448,
          0.7254151812885836,
          0.7217633249282671,
          0.5172593687505435,
          0.7326319450482567,
          0.7228936614207461,
          0.7251543344057039,
          0.732284149204417,
          0.7375880358229719,
          0.7365446482914529,
          0.728110599078341,
          0.7360229545256934,
          0.7365446482914529,
          0.7299365272584992,
          0.7358490566037735,
          0.7268063646639422,
          0.7340231284236154,
          0.7184592644117903,
          0.7244587427180246,
          0.7293278845317799,
          0.7368054951743327,
          0.7355012607599339,
          0.7371532910181723,
          0.7371532910181723,
          0.7221111207721068,
          0.7284583949221807,
          0.7368924441352925,
          0.7366315972524128,
          0.7368054951743327,
          0.7319363533605774,
          0.7358490566037735,
          0.7352404138770542,
          0.7351534649160942,
          0.7258499260933832,
          0.7305451699852187,
          0.7341100773845752,
          0.7311538127119381,
          0.7351534649160942,
          0.7273280584297017
         ],
         "yaxis": "y"
        },
        {
         "marker": {
          "color": [
           0,
           1,
           2,
           3,
           4,
           5,
           6,
           7,
           8,
           9,
           10,
           11,
           12,
           13,
           14,
           15,
           16,
           17,
           18,
           19,
           20,
           21,
           22,
           23,
           24,
           25,
           26,
           27,
           28,
           29,
           30,
           31,
           32,
           33,
           34,
           35,
           36,
           37,
           38,
           39,
           40,
           41,
           42,
           43,
           44,
           45,
           46,
           47,
           48,
           49,
           50,
           51,
           52,
           53,
           54,
           55,
           56,
           57,
           58,
           59,
           60,
           61,
           62,
           63,
           64,
           65,
           66,
           67,
           68,
           69,
           70,
           71,
           72,
           73,
           74,
           75,
           76,
           77,
           78,
           79,
           80,
           81,
           82,
           83,
           84,
           85,
           86,
           87,
           88,
           89,
           90,
           91,
           92,
           93,
           94,
           95,
           96,
           97,
           98,
           99,
           100,
           101,
           102,
           103,
           104,
           105,
           106,
           107,
           108,
           109,
           110,
           111,
           112,
           113,
           114,
           115,
           116,
           117,
           118,
           119,
           120,
           121,
           122,
           123,
           124,
           125,
           126,
           127,
           128,
           129,
           130,
           131,
           132,
           133,
           134,
           135,
           136,
           137,
           138,
           139,
           140,
           141,
           142,
           143,
           144,
           145,
           146,
           147,
           148,
           149,
           150,
           151,
           152,
           153,
           154,
           155,
           156,
           157,
           158,
           159,
           160,
           161,
           162,
           163,
           164,
           165,
           166,
           167,
           168,
           169,
           170,
           171,
           172,
           173,
           174,
           175,
           176,
           177,
           178,
           179,
           180,
           181,
           182,
           183,
           184,
           185,
           186,
           187,
           188,
           189,
           190,
           191,
           192,
           193,
           194,
           195,
           196,
           197,
           198,
           199,
           200,
           201,
           202,
           203,
           204,
           205,
           206,
           207,
           208,
           209,
           210,
           211,
           212,
           213,
           214,
           215,
           216,
           217,
           218,
           219,
           220,
           221,
           222,
           223,
           224,
           225,
           226,
           227,
           228,
           229,
           230,
           231,
           232,
           233,
           234,
           235,
           236,
           237,
           238,
           239,
           240,
           241,
           242,
           243,
           244,
           245,
           246,
           247,
           248,
           249,
           250,
           251,
           252,
           253,
           254,
           255,
           256,
           257,
           258,
           259,
           260,
           261,
           262,
           263,
           264,
           265,
           266,
           267,
           268,
           269,
           270,
           271,
           272,
           273,
           274,
           275,
           276,
           277,
           278,
           279,
           280,
           281,
           282,
           283,
           284,
           285,
           286,
           287,
           288,
           289,
           290,
           291,
           292,
           293,
           294,
           295,
           296,
           297,
           298,
           299,
           300,
           301,
           302,
           303,
           304,
           305,
           306,
           307,
           308,
           309,
           310,
           311,
           312,
           313,
           314,
           315,
           316,
           317,
           318,
           319,
           320,
           321,
           322,
           323,
           324,
           325,
           326,
           327,
           328,
           329,
           330,
           331,
           332,
           333,
           334,
           335,
           336,
           337,
           338,
           339,
           340,
           341,
           342,
           343,
           344,
           345,
           346,
           347,
           348,
           349,
           350,
           351,
           352,
           353,
           354,
           355,
           356,
           357,
           358,
           359,
           360,
           361,
           362,
           363,
           364,
           365,
           366,
           367,
           368,
           369,
           370,
           371,
           372,
           373,
           374,
           375,
           376,
           377,
           378,
           379,
           380,
           381,
           382,
           383,
           384,
           385,
           386,
           387,
           388,
           389,
           390,
           391,
           392,
           393,
           394,
           395,
           396,
           397,
           398,
           399
          ],
          "colorbar": {
           "title": {
            "text": "#Trials"
           },
           "x": 1,
           "xpad": 40
          },
          "colorscale": [
           [
            0,
            "rgb(247,251,255)"
           ],
           [
            0.125,
            "rgb(222,235,247)"
           ],
           [
            0.25,
            "rgb(198,219,239)"
           ],
           [
            0.375,
            "rgb(158,202,225)"
           ],
           [
            0.5,
            "rgb(107,174,214)"
           ],
           [
            0.625,
            "rgb(66,146,198)"
           ],
           [
            0.75,
            "rgb(33,113,181)"
           ],
           [
            0.875,
            "rgb(8,81,156)"
           ],
           [
            1,
            "rgb(8,48,107)"
           ]
          ],
          "line": {
           "color": "Grey",
           "width": 0.5
          },
          "showscale": false
         },
         "mode": "markers",
         "showlegend": false,
         "type": "scatter",
         "x": [
          "LogisticRegression",
          "LogisticRegression",
          "RidgeClassifier",
          "LinearSVC",
          "LogisticRegression",
          "LogisticRegression",
          "RidgeClassifier",
          "RidgeClassifier",
          "RidgeClassifier",
          "LinearSVC",
          "RidgeClassifier",
          "RidgeClassifier",
          "RidgeClassifier",
          "RidgeClassifier",
          "RidgeClassifier",
          "RidgeClassifier",
          "LinearSVC",
          "RidgeClassifier",
          "RidgeClassifier",
          "RidgeClassifier",
          "LinearSVC",
          "RidgeClassifier",
          "RidgeClassifier",
          "RidgeClassifier",
          "RidgeClassifier",
          "RidgeClassifier",
          "RidgeClassifier",
          "RidgeClassifier",
          "RidgeClassifier",
          "LogisticRegression",
          "RidgeClassifier",
          "RidgeClassifier",
          "RidgeClassifier",
          "RidgeClassifier",
          "RidgeClassifier",
          "LogisticRegression",
          "RidgeClassifier",
          "LinearSVC",
          "LogisticRegression",
          "RidgeClassifier",
          "RidgeClassifier",
          "RidgeClassifier",
          "RidgeClassifier",
          "RidgeClassifier",
          "RidgeClassifier",
          "RidgeClassifier",
          "RidgeClassifier",
          "RidgeClassifier",
          "LinearSVC",
          "RidgeClassifier",
          "RidgeClassifier",
          "RidgeClassifier",
          "RidgeClassifier",
          "RidgeClassifier",
          "RidgeClassifier",
          "RidgeClassifier",
          "RidgeClassifier",
          "LogisticRegression",
          "RidgeClassifier",
          "RidgeClassifier",
          "LinearSVC",
          "RidgeClassifier",
          "RidgeClassifier",
          "RidgeClassifier",
          "RidgeClassifier",
          "RidgeClassifier",
          "RidgeClassifier",
          "RidgeClassifier",
          "RidgeClassifier",
          "RidgeClassifier",
          "RidgeClassifier",
          "RidgeClassifier",
          "RidgeClassifier",
          "RidgeClassifier",
          "RidgeClassifier",
          "RidgeClassifier",
          "RidgeClassifier",
          "LogisticRegression",
          "RidgeClassifier",
          "RidgeClassifier",
          "RidgeClassifier",
          "RidgeClassifier",
          "RidgeClassifier",
          "RidgeClassifier",
          "RidgeClassifier",
          "RidgeClassifier",
          "RidgeClassifier",
          "RidgeClassifier",
          "LinearSVC",
          "RidgeClassifier",
          "RidgeClassifier",
          "RidgeClassifier",
          "RidgeClassifier",
          "RidgeClassifier",
          "RidgeClassifier",
          "RidgeClassifier",
          "RidgeClassifier",
          "RidgeClassifier",
          "RidgeClassifier",
          "RidgeClassifier",
          "LogisticRegression",
          "RidgeClassifier",
          "RidgeClassifier",
          "RidgeClassifier",
          "RidgeClassifier",
          "RidgeClassifier",
          "RidgeClassifier",
          "RidgeClassifier",
          "RidgeClassifier",
          "RidgeClassifier",
          "RidgeClassifier",
          "RidgeClassifier",
          "RidgeClassifier",
          "RidgeClassifier",
          "RidgeClassifier",
          "RidgeClassifier",
          "LinearSVC",
          "RidgeClassifier",
          "RidgeClassifier",
          "RidgeClassifier",
          "RidgeClassifier",
          "RidgeClassifier",
          "RidgeClassifier",
          "RidgeClassifier",
          "RidgeClassifier",
          "RidgeClassifier",
          "RidgeClassifier",
          "RidgeClassifier",
          "RidgeClassifier",
          "RidgeClassifier",
          "RidgeClassifier",
          "RidgeClassifier",
          "RidgeClassifier",
          "RidgeClassifier",
          "RidgeClassifier",
          "RidgeClassifier",
          "LogisticRegression",
          "RidgeClassifier",
          "RidgeClassifier",
          "RidgeClassifier",
          "RidgeClassifier",
          "RidgeClassifier",
          "RidgeClassifier",
          "RidgeClassifier",
          "RidgeClassifier",
          "RidgeClassifier",
          "RidgeClassifier",
          "RidgeClassifier",
          "RidgeClassifier",
          "LinearSVC",
          "RidgeClassifier",
          "RidgeClassifier",
          "RidgeClassifier",
          "RidgeClassifier",
          "RidgeClassifier",
          "RidgeClassifier",
          "RidgeClassifier",
          "RidgeClassifier",
          "RidgeClassifier",
          "RidgeClassifier",
          "RidgeClassifier",
          "RidgeClassifier",
          "RidgeClassifier",
          "RidgeClassifier",
          "RidgeClassifier",
          "RidgeClassifier",
          "RidgeClassifier",
          "RidgeClassifier",
          "RidgeClassifier",
          "RidgeClassifier",
          "RidgeClassifier",
          "RidgeClassifier",
          "RidgeClassifier",
          "RidgeClassifier",
          "RidgeClassifier",
          "RidgeClassifier",
          "LogisticRegression",
          "RidgeClassifier",
          "RidgeClassifier",
          "RidgeClassifier",
          "RidgeClassifier",
          "RidgeClassifier",
          "RidgeClassifier",
          "RidgeClassifier",
          "RidgeClassifier",
          "RidgeClassifier",
          "RidgeClassifier",
          "RidgeClassifier",
          "RidgeClassifier",
          "RidgeClassifier",
          "RidgeClassifier",
          "RidgeClassifier",
          "RidgeClassifier",
          "RidgeClassifier",
          "RidgeClassifier",
          "RidgeClassifier",
          "RidgeClassifier",
          "RidgeClassifier",
          "LinearSVC",
          "RidgeClassifier",
          "RidgeClassifier",
          "RidgeClassifier",
          "RidgeClassifier",
          "RidgeClassifier",
          "RidgeClassifier",
          "RidgeClassifier",
          "RidgeClassifier",
          "RidgeClassifier",
          "RidgeClassifier",
          "RidgeClassifier",
          "RidgeClassifier",
          "RidgeClassifier",
          "RidgeClassifier",
          "RidgeClassifier",
          "RidgeClassifier",
          "RidgeClassifier",
          "RidgeClassifier",
          "RidgeClassifier",
          "RidgeClassifier",
          "RidgeClassifier",
          "RidgeClassifier",
          "RidgeClassifier",
          "RidgeClassifier",
          "RidgeClassifier",
          "RidgeClassifier",
          "RidgeClassifier",
          "RidgeClassifier",
          "LogisticRegression",
          "RidgeClassifier",
          "RidgeClassifier",
          "RidgeClassifier",
          "RidgeClassifier",
          "RidgeClassifier",
          "RidgeClassifier",
          "RidgeClassifier",
          "RidgeClassifier",
          "RidgeClassifier",
          "RidgeClassifier",
          "RidgeClassifier",
          "RidgeClassifier",
          "RidgeClassifier",
          "RidgeClassifier",
          "RidgeClassifier",
          "RidgeClassifier",
          "RidgeClassifier",
          "RidgeClassifier",
          "RidgeClassifier",
          "RidgeClassifier",
          "RidgeClassifier",
          "RidgeClassifier",
          "LinearSVC",
          "RidgeClassifier",
          "RidgeClassifier",
          "RidgeClassifier",
          "RidgeClassifier",
          "RidgeClassifier",
          "RidgeClassifier",
          "RidgeClassifier",
          "RidgeClassifier",
          "RidgeClassifier",
          "RidgeClassifier",
          "RidgeClassifier",
          "RidgeClassifier",
          "RidgeClassifier",
          "RidgeClassifier",
          "RidgeClassifier",
          "RidgeClassifier",
          "RidgeClassifier",
          "RidgeClassifier",
          "RidgeClassifier",
          "RidgeClassifier",
          "LogisticRegression",
          "RidgeClassifier",
          "RidgeClassifier",
          "RidgeClassifier",
          "RidgeClassifier",
          "RidgeClassifier",
          "RidgeClassifier",
          "RidgeClassifier",
          "LinearSVC",
          "RidgeClassifier",
          "RidgeClassifier",
          "RidgeClassifier",
          "RidgeClassifier",
          "RidgeClassifier",
          "RidgeClassifier",
          "RidgeClassifier",
          "RidgeClassifier",
          "RidgeClassifier",
          "RidgeClassifier",
          "RidgeClassifier",
          "RidgeClassifier",
          "RidgeClassifier",
          "RidgeClassifier",
          "RidgeClassifier",
          "RidgeClassifier",
          "RidgeClassifier",
          "RidgeClassifier",
          "RidgeClassifier",
          "RidgeClassifier",
          "LogisticRegression",
          "RidgeClassifier",
          "RidgeClassifier",
          "RidgeClassifier",
          "RidgeClassifier",
          "RidgeClassifier",
          "RidgeClassifier",
          "RidgeClassifier",
          "RidgeClassifier",
          "RidgeClassifier",
          "RidgeClassifier",
          "LinearSVC",
          "RidgeClassifier",
          "RidgeClassifier",
          "RidgeClassifier",
          "RidgeClassifier",
          "RidgeClassifier",
          "RidgeClassifier",
          "RidgeClassifier",
          "RidgeClassifier",
          "RidgeClassifier",
          "RidgeClassifier",
          "RidgeClassifier",
          "RidgeClassifier",
          "RidgeClassifier",
          "RidgeClassifier",
          "RidgeClassifier",
          "RidgeClassifier",
          "LogisticRegression",
          "RidgeClassifier",
          "LogisticRegression",
          "LogisticRegression",
          "LogisticRegression",
          "LogisticRegression",
          "LogisticRegression",
          "LogisticRegression",
          "LogisticRegression",
          "LogisticRegression",
          "LogisticRegression",
          "LogisticRegression",
          "LogisticRegression",
          "LogisticRegression",
          "LogisticRegression",
          "LogisticRegression",
          "LogisticRegression",
          "LogisticRegression",
          "LogisticRegression",
          "LogisticRegression",
          "LogisticRegression",
          "LogisticRegression",
          "LogisticRegression",
          "LogisticRegression",
          "LogisticRegression",
          "LogisticRegression",
          "LogisticRegression",
          "LogisticRegression",
          "LogisticRegression",
          "LogisticRegression",
          "LogisticRegression",
          "LogisticRegression",
          "LogisticRegression",
          "LogisticRegression",
          "LogisticRegression",
          "LogisticRegression",
          "LogisticRegression",
          "LinearSVC",
          "LogisticRegression",
          "LogisticRegression",
          "LogisticRegression",
          "LogisticRegression",
          "LogisticRegression",
          "LogisticRegression",
          "LogisticRegression",
          "LogisticRegression",
          "LogisticRegression",
          "LogisticRegression",
          "LogisticRegression",
          "LogisticRegression",
          "LogisticRegression",
          "LogisticRegression",
          "LogisticRegression",
          "RidgeClassifier",
          "LogisticRegression",
          "LogisticRegression",
          "LogisticRegression",
          "LogisticRegression",
          "LogisticRegression",
          "LogisticRegression",
          "LogisticRegression",
          "LogisticRegression",
          "LogisticRegression",
          "LogisticRegression",
          "LogisticRegression",
          "LogisticRegression",
          "LogisticRegression",
          "LinearSVC",
          "LogisticRegression",
          "LogisticRegression",
          "LogisticRegression",
          "LogisticRegression"
         ],
         "xaxis": "x2",
         "y": [
          0.5172593687505435,
          0.7250673854447439,
          0.5172593687505435,
          0.6829840883401443,
          0.5216937657594992,
          0.7250673854447439,
          0.5172593687505435,
          0.7362838014085732,
          0.7200243457090688,
          0.6747239370489523,
          0.7274150073906617,
          0.7274150073906617,
          0.7274150073906617,
          0.7288061907660204,
          0.7309799147900182,
          0.7361099034866533,
          0.7337622815407356,
          0.735414311798974,
          0.7287192418050604,
          0.7275019563516216,
          0.7318494043996174,
          0.7368054951743327,
          0.736457699330493,
          0.7215024780453874,
          0.7275019563516216,
          0.6859403530127814,
          0.735327362838014,
          0.7293278845317799,
          0.7279367011564212,
          0.5172593687505435,
          0.5172593687505435,
          0.7359360055647335,
          0.7321972002434571,
          0.7337622815407356,
          0.7285453438831406,
          0.7276758542735414,
          0.7239370489522651,
          0.6847230675593426,
          0.7248934875228241,
          0.7362838014085732,
          0.7274150073906617,
          0.736370750369533,
          0.735414311798974,
          0.5389966089905226,
          0.7337622815407356,
          0.5172593687505435,
          0.7219372228501869,
          0.7355882097208938,
          0.7244587427180246,
          0.7274150073906617,
          0.7097643683157986,
          0.7358490566037735,
          0.7299365272584992,
          0.726023824015303,
          0.7361099034866533,
          0.7359360055647335,
          0.7289800886879402,
          0.5172593687505435,
          0.7341970263455352,
          0.7356751586818537,
          0.7258499260933832,
          0.7365446482914529,
          0.7248065385618642,
          0.7350665159551343,
          0.7367185462133727,
          0.7205460394748283,
          0.7317624554386575,
          0.7305451699852187,
          0.7274150073906617,
          0.735327362838014,
          0.7297626293365794,
          0.7367185462133727,
          0.7371532910181723,
          0.7370663420572124,
          0.734370924267455,
          0.7327188940092166,
          0.7368924441352925,
          0.7248065385618642,
          0.7217633249282671,
          0.7275889053125815,
          0.7358490566037735,
          0.736370750369533,
          0.7345448221893749,
          0.7328058429701765,
          0.7261977219372229,
          0.7282844970002609,
          0.7365446482914529,
          0.7305451699852187,
          0.7255890792105034,
          0.7218502738892271,
          0.7347187201112947,
          0.7368924441352925,
          0.7347187201112947,
          0.7372402399791322,
          0.7369793930962525,
          0.7237631510303452,
          0.7341970263455352,
          0.7352404138770542,
          0.7274150073906617,
          0.7295017824536997,
          0.7262846708981827,
          0.7361968524476132,
          0.7370663420572124,
          0.7362838014085732,
          0.7287192418050604,
          0.7368924441352925,
          0.7328927919311364,
          0.735414311798974,
          0.7355882097208938,
          0.7362838014085732,
          0.7287192418050604,
          0.7365446482914529,
          0.7334144856968959,
          0.7359360055647335,
          0.7345448221893749,
          0.7359360055647335,
          0.6747239370489523,
          0.7305451699852187,
          0.7264585688201026,
          0.7358490566037735,
          0.7346317711503347,
          0.736457699330493,
          0.736457699330493,
          0.7337622815407356,
          0.7328927919311364,
          0.7361099034866533,
          0.7238500999913051,
          0.735327362838014,
          0.7355882097208938,
          0.7334144856968959,
          0.7358490566037735,
          0.7365446482914529,
          0.7369793930962525,
          0.7342839753064951,
          0.735414311798974,
          0.7289800886879402,
          0.7248065385618642,
          0.7361968524476132,
          0.7336753325797757,
          0.7368054951743327,
          0.7299365272584992,
          0.7370663420572124,
          0.7350665159551343,
          0.7362838014085732,
          0.7351534649160942,
          0.7365446482914529,
          0.7345448221893749,
          0.7265455177810625,
          0.7327188940092166,
          0.7221111207721068,
          0.7348926180332145,
          0.7368054951743327,
          0.7359360055647335,
          0.7371532910181723,
          0.7344578732284149,
          0.7366315972524128,
          0.7349795669941744,
          0.7329797408920964,
          0.735327362838014,
          0.7335014346578559,
          0.7359360055647335,
          0.7369793930962525,
          0.736457699330493,
          0.7355012607599339,
          0.7301104251804191,
          0.7351534649160942,
          0.7341100773845752,
          0.7367185462133727,
          0.7359360055647335,
          0.7274150073906617,
          0.7369793930962525,
          0.7355882097208938,
          0.7367185462133727,
          0.7346317711503347,
          0.736457699330493,
          0.7330666898530562,
          0.7299365272584992,
          0.7361968524476132,
          0.7248065385618642,
          0.7350665159551343,
          0.7370663420572124,
          0.736457699330493,
          0.7358490566037735,
          0.7367185462133727,
          0.7358490566037735,
          0.7355012607599339,
          0.7342839753064951,
          0.7361968524476132,
          0.7320233023215372,
          0.7317624554386575,
          0.736457699330493,
          0.7361099034866533,
          0.7355012607599339,
          0.7371532910181723,
          0.7342839753064951,
          0.7362838014085732,
          0.7348056690722546,
          0.736370750369533,
          0.7237631510303452,
          0.7361968524476132,
          0.7368924441352925,
          0.7355882097208938,
          0.7369793930962525,
          0.7335014346578559,
          0.736457699330493,
          0.7359360055647335,
          0.735414311798974,
          0.7277628032345014,
          0.7347187201112947,
          0.7361968524476132,
          0.7341100773845752,
          0.7369793930962525,
          0.7361099034866533,
          0.7361968524476132,
          0.7368054951743327,
          0.7358490566037735,
          0.734370924267455,
          0.7366315972524128,
          0.7351534649160942,
          0.7350665159551343,
          0.7323710981653769,
          0.7365446482914529,
          0.7369793930962525,
          0.7360229545256934,
          0.7355012607599339,
          0.7367185462133727,
          0.735327362838014,
          0.7249804364837841,
          0.735414311798974,
          0.7357621076428137,
          0.736457699330493,
          0.736370750369533,
          0.736370750369533,
          0.7369793930962525,
          0.7347187201112947,
          0.7361099034866533,
          0.7365446482914529,
          0.7349795669941744,
          0.736457699330493,
          0.7341100773845752,
          0.7336753325797757,
          0.736370750369533,
          0.7361968524476132,
          0.7365446482914529,
          0.517781062516303,
          0.7359360055647335,
          0.7370663420572124,
          0.7350665159551343,
          0.7361968524476132,
          0.735414311798974,
          0.6747239370489523,
          0.7361968524476132,
          0.7368054951743327,
          0.7331536388140162,
          0.7346317711503347,
          0.735327362838014,
          0.7362838014085732,
          0.7299365272584992,
          0.736457699330493,
          0.7361099034866533,
          0.7274150073906617,
          0.7357621076428137,
          0.7341970263455352,
          0.7365446482914529,
          0.7352404138770542,
          0.7358490566037735,
          0.7335014346578559,
          0.7355882097208938,
          0.7368054951743327,
          0.7368054951743327,
          0.7358490566037735,
          0.7295887314146596,
          0.7345448221893749,
          0.7362838014085732,
          0.735414311798974,
          0.7281975480393009,
          0.736457699330493,
          0.5172593687505435,
          0.7350665159551343,
          0.7223719676549866,
          0.7368054951743327,
          0.735414311798974,
          0.7330666898530562,
          0.736457699330493,
          0.7359360055647335,
          0.7275019563516216,
          0.7340231284236154,
          0.7349795669941744,
          0.736370750369533,
          0.7351534649160942,
          0.735414311798974,
          0.7356751586818537,
          0.7335883836188157,
          0.7371532910181723,
          0.7348926180332145,
          0.7366315972524128,
          0.7351534649160942,
          0.7294148334927397,
          0.7370663420572124,
          0.736457699330493,
          0.7248934875228241,
          0.7371532910181723,
          0.7355882097208938,
          0.7368054951743327,
          0.7356751586818537,
          0.731240761672898,
          0.734370924267455,
          0.7361968524476132,
          0.7335014346578559,
          0.7242848447961047,
          0.7362838014085732,
          0.7221111207721068,
          0.7361968524476132,
          0.7350665159551343,
          0.7367185462133727,
          0.7349795669941744,
          0.698895748195809,
          0.7368924441352925,
          0.7342839753064951,
          0.7355012607599339,
          0.7305451699852187,
          0.7361099034866533,
          0.7368054951743327,
          0.7344578732284149,
          0.7347187201112947,
          0.7361968524476132,
          0.7355882097208938,
          0.5172593687505435,
          0.7369793930962525,
          0.7341100773845752,
          0.7378488827058517,
          0.7372402399791322,
          0.7357621076428137,
          0.7351534649160942,
          0.7150682549343536,
          0.7266324667420224,
          0.7334144856968959,
          0.7362838014085732,
          0.7273280584297017,
          0.6661159899139205,
          0.7355012607599339,
          0.7249804364837841,
          0.5172593687505435,
          0.735327362838014,
          0.7218502738892271,
          0.7371532910181723,
          0.7282844970002609,
          0.7369793930962525,
          0.7373271889400922,
          0.7352404138770542,
          0.7237631510303452,
          0.7361968524476132,
          0.7319363533605774,
          0.7362838014085732,
          0.736457699330493,
          0.7309799147900182,
          0.7266324667420224,
          0.7337622815407356,
          0.7360229545256934,
          0.7284583949221807,
          0.7241978958351448,
          0.7254151812885836,
          0.7217633249282671,
          0.5172593687505435,
          0.7326319450482567,
          0.7228936614207461,
          0.7251543344057039,
          0.732284149204417,
          0.7375880358229719,
          0.7365446482914529,
          0.728110599078341,
          0.7360229545256934,
          0.7365446482914529,
          0.7299365272584992,
          0.7358490566037735,
          0.7268063646639422,
          0.7340231284236154,
          0.7184592644117903,
          0.7244587427180246,
          0.7293278845317799,
          0.7368054951743327,
          0.7298495782975394,
          0.7355012607599339,
          0.7371532910181723,
          0.7371532910181723,
          0.7221111207721068,
          0.7284583949221807,
          0.7368924441352925,
          0.7366315972524128,
          0.7368054951743327,
          0.7319363533605774,
          0.7358490566037735,
          0.7352404138770542,
          0.7351534649160942,
          0.7258499260933832,
          0.7305451699852187,
          0.7341100773845752,
          0.7311538127119381,
          0.7351534649160942,
          0.7273280584297017
         ],
         "yaxis": "y2"
        }
       ],
       "layout": {
        "template": {
         "data": {
          "bar": [
           {
            "error_x": {
             "color": "#2a3f5f"
            },
            "error_y": {
             "color": "#2a3f5f"
            },
            "marker": {
             "line": {
              "color": "#E5ECF6",
              "width": 0.5
             }
            },
            "type": "bar"
           }
          ],
          "barpolar": [
           {
            "marker": {
             "line": {
              "color": "#E5ECF6",
              "width": 0.5
             }
            },
            "type": "barpolar"
           }
          ],
          "carpet": [
           {
            "aaxis": {
             "endlinecolor": "#2a3f5f",
             "gridcolor": "white",
             "linecolor": "white",
             "minorgridcolor": "white",
             "startlinecolor": "#2a3f5f"
            },
            "baxis": {
             "endlinecolor": "#2a3f5f",
             "gridcolor": "white",
             "linecolor": "white",
             "minorgridcolor": "white",
             "startlinecolor": "#2a3f5f"
            },
            "type": "carpet"
           }
          ],
          "choropleth": [
           {
            "colorbar": {
             "outlinewidth": 0,
             "ticks": ""
            },
            "type": "choropleth"
           }
          ],
          "contour": [
           {
            "colorbar": {
             "outlinewidth": 0,
             "ticks": ""
            },
            "colorscale": [
             [
              0,
              "#0d0887"
             ],
             [
              0.1111111111111111,
              "#46039f"
             ],
             [
              0.2222222222222222,
              "#7201a8"
             ],
             [
              0.3333333333333333,
              "#9c179e"
             ],
             [
              0.4444444444444444,
              "#bd3786"
             ],
             [
              0.5555555555555556,
              "#d8576b"
             ],
             [
              0.6666666666666666,
              "#ed7953"
             ],
             [
              0.7777777777777778,
              "#fb9f3a"
             ],
             [
              0.8888888888888888,
              "#fdca26"
             ],
             [
              1,
              "#f0f921"
             ]
            ],
            "type": "contour"
           }
          ],
          "contourcarpet": [
           {
            "colorbar": {
             "outlinewidth": 0,
             "ticks": ""
            },
            "type": "contourcarpet"
           }
          ],
          "heatmap": [
           {
            "colorbar": {
             "outlinewidth": 0,
             "ticks": ""
            },
            "colorscale": [
             [
              0,
              "#0d0887"
             ],
             [
              0.1111111111111111,
              "#46039f"
             ],
             [
              0.2222222222222222,
              "#7201a8"
             ],
             [
              0.3333333333333333,
              "#9c179e"
             ],
             [
              0.4444444444444444,
              "#bd3786"
             ],
             [
              0.5555555555555556,
              "#d8576b"
             ],
             [
              0.6666666666666666,
              "#ed7953"
             ],
             [
              0.7777777777777778,
              "#fb9f3a"
             ],
             [
              0.8888888888888888,
              "#fdca26"
             ],
             [
              1,
              "#f0f921"
             ]
            ],
            "type": "heatmap"
           }
          ],
          "heatmapgl": [
           {
            "colorbar": {
             "outlinewidth": 0,
             "ticks": ""
            },
            "colorscale": [
             [
              0,
              "#0d0887"
             ],
             [
              0.1111111111111111,
              "#46039f"
             ],
             [
              0.2222222222222222,
              "#7201a8"
             ],
             [
              0.3333333333333333,
              "#9c179e"
             ],
             [
              0.4444444444444444,
              "#bd3786"
             ],
             [
              0.5555555555555556,
              "#d8576b"
             ],
             [
              0.6666666666666666,
              "#ed7953"
             ],
             [
              0.7777777777777778,
              "#fb9f3a"
             ],
             [
              0.8888888888888888,
              "#fdca26"
             ],
             [
              1,
              "#f0f921"
             ]
            ],
            "type": "heatmapgl"
           }
          ],
          "histogram": [
           {
            "marker": {
             "colorbar": {
              "outlinewidth": 0,
              "ticks": ""
             }
            },
            "type": "histogram"
           }
          ],
          "histogram2d": [
           {
            "colorbar": {
             "outlinewidth": 0,
             "ticks": ""
            },
            "colorscale": [
             [
              0,
              "#0d0887"
             ],
             [
              0.1111111111111111,
              "#46039f"
             ],
             [
              0.2222222222222222,
              "#7201a8"
             ],
             [
              0.3333333333333333,
              "#9c179e"
             ],
             [
              0.4444444444444444,
              "#bd3786"
             ],
             [
              0.5555555555555556,
              "#d8576b"
             ],
             [
              0.6666666666666666,
              "#ed7953"
             ],
             [
              0.7777777777777778,
              "#fb9f3a"
             ],
             [
              0.8888888888888888,
              "#fdca26"
             ],
             [
              1,
              "#f0f921"
             ]
            ],
            "type": "histogram2d"
           }
          ],
          "histogram2dcontour": [
           {
            "colorbar": {
             "outlinewidth": 0,
             "ticks": ""
            },
            "colorscale": [
             [
              0,
              "#0d0887"
             ],
             [
              0.1111111111111111,
              "#46039f"
             ],
             [
              0.2222222222222222,
              "#7201a8"
             ],
             [
              0.3333333333333333,
              "#9c179e"
             ],
             [
              0.4444444444444444,
              "#bd3786"
             ],
             [
              0.5555555555555556,
              "#d8576b"
             ],
             [
              0.6666666666666666,
              "#ed7953"
             ],
             [
              0.7777777777777778,
              "#fb9f3a"
             ],
             [
              0.8888888888888888,
              "#fdca26"
             ],
             [
              1,
              "#f0f921"
             ]
            ],
            "type": "histogram2dcontour"
           }
          ],
          "mesh3d": [
           {
            "colorbar": {
             "outlinewidth": 0,
             "ticks": ""
            },
            "type": "mesh3d"
           }
          ],
          "parcoords": [
           {
            "line": {
             "colorbar": {
              "outlinewidth": 0,
              "ticks": ""
             }
            },
            "type": "parcoords"
           }
          ],
          "pie": [
           {
            "automargin": true,
            "type": "pie"
           }
          ],
          "scatter": [
           {
            "marker": {
             "colorbar": {
              "outlinewidth": 0,
              "ticks": ""
             }
            },
            "type": "scatter"
           }
          ],
          "scatter3d": [
           {
            "line": {
             "colorbar": {
              "outlinewidth": 0,
              "ticks": ""
             }
            },
            "marker": {
             "colorbar": {
              "outlinewidth": 0,
              "ticks": ""
             }
            },
            "type": "scatter3d"
           }
          ],
          "scattercarpet": [
           {
            "marker": {
             "colorbar": {
              "outlinewidth": 0,
              "ticks": ""
             }
            },
            "type": "scattercarpet"
           }
          ],
          "scattergeo": [
           {
            "marker": {
             "colorbar": {
              "outlinewidth": 0,
              "ticks": ""
             }
            },
            "type": "scattergeo"
           }
          ],
          "scattergl": [
           {
            "marker": {
             "colorbar": {
              "outlinewidth": 0,
              "ticks": ""
             }
            },
            "type": "scattergl"
           }
          ],
          "scattermapbox": [
           {
            "marker": {
             "colorbar": {
              "outlinewidth": 0,
              "ticks": ""
             }
            },
            "type": "scattermapbox"
           }
          ],
          "scatterpolar": [
           {
            "marker": {
             "colorbar": {
              "outlinewidth": 0,
              "ticks": ""
             }
            },
            "type": "scatterpolar"
           }
          ],
          "scatterpolargl": [
           {
            "marker": {
             "colorbar": {
              "outlinewidth": 0,
              "ticks": ""
             }
            },
            "type": "scatterpolargl"
           }
          ],
          "scatterternary": [
           {
            "marker": {
             "colorbar": {
              "outlinewidth": 0,
              "ticks": ""
             }
            },
            "type": "scatterternary"
           }
          ],
          "surface": [
           {
            "colorbar": {
             "outlinewidth": 0,
             "ticks": ""
            },
            "colorscale": [
             [
              0,
              "#0d0887"
             ],
             [
              0.1111111111111111,
              "#46039f"
             ],
             [
              0.2222222222222222,
              "#7201a8"
             ],
             [
              0.3333333333333333,
              "#9c179e"
             ],
             [
              0.4444444444444444,
              "#bd3786"
             ],
             [
              0.5555555555555556,
              "#d8576b"
             ],
             [
              0.6666666666666666,
              "#ed7953"
             ],
             [
              0.7777777777777778,
              "#fb9f3a"
             ],
             [
              0.8888888888888888,
              "#fdca26"
             ],
             [
              1,
              "#f0f921"
             ]
            ],
            "type": "surface"
           }
          ],
          "table": [
           {
            "cells": {
             "fill": {
              "color": "#EBF0F8"
             },
             "line": {
              "color": "white"
             }
            },
            "header": {
             "fill": {
              "color": "#C8D4E3"
             },
             "line": {
              "color": "white"
             }
            },
            "type": "table"
           }
          ]
         },
         "layout": {
          "annotationdefaults": {
           "arrowcolor": "#2a3f5f",
           "arrowhead": 0,
           "arrowwidth": 1
          },
          "autotypenumbers": "strict",
          "coloraxis": {
           "colorbar": {
            "outlinewidth": 0,
            "ticks": ""
           }
          },
          "colorscale": {
           "diverging": [
            [
             0,
             "#8e0152"
            ],
            [
             0.1,
             "#c51b7d"
            ],
            [
             0.2,
             "#de77ae"
            ],
            [
             0.3,
             "#f1b6da"
            ],
            [
             0.4,
             "#fde0ef"
            ],
            [
             0.5,
             "#f7f7f7"
            ],
            [
             0.6,
             "#e6f5d0"
            ],
            [
             0.7,
             "#b8e186"
            ],
            [
             0.8,
             "#7fbc41"
            ],
            [
             0.9,
             "#4d9221"
            ],
            [
             1,
             "#276419"
            ]
           ],
           "sequential": [
            [
             0,
             "#0d0887"
            ],
            [
             0.1111111111111111,
             "#46039f"
            ],
            [
             0.2222222222222222,
             "#7201a8"
            ],
            [
             0.3333333333333333,
             "#9c179e"
            ],
            [
             0.4444444444444444,
             "#bd3786"
            ],
            [
             0.5555555555555556,
             "#d8576b"
            ],
            [
             0.6666666666666666,
             "#ed7953"
            ],
            [
             0.7777777777777778,
             "#fb9f3a"
            ],
            [
             0.8888888888888888,
             "#fdca26"
            ],
            [
             1,
             "#f0f921"
            ]
           ],
           "sequentialminus": [
            [
             0,
             "#0d0887"
            ],
            [
             0.1111111111111111,
             "#46039f"
            ],
            [
             0.2222222222222222,
             "#7201a8"
            ],
            [
             0.3333333333333333,
             "#9c179e"
            ],
            [
             0.4444444444444444,
             "#bd3786"
            ],
            [
             0.5555555555555556,
             "#d8576b"
            ],
            [
             0.6666666666666666,
             "#ed7953"
            ],
            [
             0.7777777777777778,
             "#fb9f3a"
            ],
            [
             0.8888888888888888,
             "#fdca26"
            ],
            [
             1,
             "#f0f921"
            ]
           ]
          },
          "colorway": [
           "#636efa",
           "#EF553B",
           "#00cc96",
           "#ab63fa",
           "#FFA15A",
           "#19d3f3",
           "#FF6692",
           "#B6E880",
           "#FF97FF",
           "#FECB52"
          ],
          "font": {
           "color": "#2a3f5f"
          },
          "geo": {
           "bgcolor": "white",
           "lakecolor": "white",
           "landcolor": "#E5ECF6",
           "showlakes": true,
           "showland": true,
           "subunitcolor": "white"
          },
          "hoverlabel": {
           "align": "left"
          },
          "hovermode": "closest",
          "mapbox": {
           "style": "light"
          },
          "paper_bgcolor": "white",
          "plot_bgcolor": "#E5ECF6",
          "polar": {
           "angularaxis": {
            "gridcolor": "white",
            "linecolor": "white",
            "ticks": ""
           },
           "bgcolor": "#E5ECF6",
           "radialaxis": {
            "gridcolor": "white",
            "linecolor": "white",
            "ticks": ""
           }
          },
          "scene": {
           "xaxis": {
            "backgroundcolor": "#E5ECF6",
            "gridcolor": "white",
            "gridwidth": 2,
            "linecolor": "white",
            "showbackground": true,
            "ticks": "",
            "zerolinecolor": "white"
           },
           "yaxis": {
            "backgroundcolor": "#E5ECF6",
            "gridcolor": "white",
            "gridwidth": 2,
            "linecolor": "white",
            "showbackground": true,
            "ticks": "",
            "zerolinecolor": "white"
           },
           "zaxis": {
            "backgroundcolor": "#E5ECF6",
            "gridcolor": "white",
            "gridwidth": 2,
            "linecolor": "white",
            "showbackground": true,
            "ticks": "",
            "zerolinecolor": "white"
           }
          },
          "shapedefaults": {
           "line": {
            "color": "#2a3f5f"
           }
          },
          "ternary": {
           "aaxis": {
            "gridcolor": "white",
            "linecolor": "white",
            "ticks": ""
           },
           "baxis": {
            "gridcolor": "white",
            "linecolor": "white",
            "ticks": ""
           },
           "bgcolor": "#E5ECF6",
           "caxis": {
            "gridcolor": "white",
            "linecolor": "white",
            "ticks": ""
           }
          },
          "title": {
           "x": 0.05
          },
          "xaxis": {
           "automargin": true,
           "gridcolor": "white",
           "linecolor": "white",
           "ticks": "",
           "title": {
            "standoff": 15
           },
           "zerolinecolor": "white",
           "zerolinewidth": 2
          },
          "yaxis": {
           "automargin": true,
           "gridcolor": "white",
           "linecolor": "white",
           "ticks": "",
           "title": {
            "standoff": 15
           },
           "zerolinecolor": "white",
           "zerolinewidth": 2
          }
         }
        },
        "title": {
         "text": "Slice Plot"
        },
        "xaxis": {
         "anchor": "y",
         "domain": [
          0,
          0.45
         ],
         "title": {
          "text": "c"
         },
         "type": "log"
        },
        "xaxis2": {
         "anchor": "y2",
         "domain": [
          0.55,
          1
         ],
         "title": {
          "text": "classifier"
         }
        },
        "yaxis": {
         "anchor": "x",
         "domain": [
          0,
          1
         ],
         "title": {
          "text": "Objective Value"
         }
        },
        "yaxis2": {
         "anchor": "x2",
         "domain": [
          0,
          1
         ],
         "matches": "y",
         "showticklabels": false
        }
       }
      },
      "text/html": [
       "<div>                            <div id=\"c6486e76-a2eb-4345-9395-313f5d05e2c4\" class=\"plotly-graph-div\" style=\"height:525px; width:100%;\"></div>            <script type=\"text/javascript\">                require([\"plotly\"], function(Plotly) {                    window.PLOTLYENV=window.PLOTLYENV || {};                                    if (document.getElementById(\"c6486e76-a2eb-4345-9395-313f5d05e2c4\")) {                    Plotly.newPlot(                        \"c6486e76-a2eb-4345-9395-313f5d05e2c4\",                        [{\"marker\": {\"color\": [0, 1, 3, 4, 5, 9, 16, 20, 29, 35, 37, 38, 48, 57, 60, 77, 88, 100, 116, 136, 149, 176, 198, 227, 250, 271, 279, 300, 311, 328, 330, 331, 332, 333, 334, 335, 336, 337, 338, 339, 340, 341, 342, 343, 344, 345, 346, 347, 348, 349, 350, 351, 352, 353, 354, 355, 356, 357, 358, 359, 360, 361, 362, 363, 364, 365, 366, 367, 368, 369, 370, 371, 372, 373, 374, 375, 376, 377, 378, 379, 380, 382, 383, 384, 385, 386, 387, 388, 389, 390, 391, 392, 393, 394, 395, 396, 397, 398, 399], \"colorbar\": {\"title\": {\"text\": \"#Trials\"}, \"x\": 1.0, \"xpad\": 40}, \"colorscale\": [[0.0, \"rgb(247,251,255)\"], [0.125, \"rgb(222,235,247)\"], [0.25, \"rgb(198,219,239)\"], [0.375, \"rgb(158,202,225)\"], [0.5, \"rgb(107,174,214)\"], [0.625, \"rgb(66,146,198)\"], [0.75, \"rgb(33,113,181)\"], [0.875, \"rgb(8,81,156)\"], [1.0, \"rgb(8,48,107)\"]], \"line\": {\"color\": \"Grey\", \"width\": 0.5}, \"showscale\": true}, \"mode\": \"markers\", \"showlegend\": false, \"type\": \"scatter\", \"x\": [3.808941694496199e-08, 105883956.20689043, 80107.30843321605, 3.6615811171203884e-07, 401486.505063463, 390517.9002466211, 0.03062732845680034, 0.06627629190008787, 9.024752250065531e-10, 0.00035023180008238517, 191.42888611831714, 8206260749.666425, 1.8614404691053545e-05, 1.173161030228546e-10, 53.888367638625475, 194937631.59038535, 25.140641899307695, 0.0002507513172380451, 6743432848.018345, 4902.219429720346, 9.70407737549359e-09, 1.0400129688039474, 9.972052455526294e-06, 213023922.7847568, 10393730.761500303, 1.2640026368508386, 2.0163626673253758e-07, 3560.4507760603788, 1.229664084494137e-10, 0.007301339122967176, 0.006407735307851336, 0.005831648059613205, 0.014737334604866719, 0.002647758377422638, 4.691587013325511e-06, 0.00029578430628907006, 0.39241168771547824, 0.003682492007137863, 6.607712840093156, 1.419468024393502e-06, 0.17286799571368988, 639.5974688282184, 1.1779667439458428e-08, 0.0034050296658919214, 4.606470264205833e-05, 0.025845957451639385, 3.6572877643502197, 0.03160425684519511, 0.025282565651078146, 0.10403505108458054, 0.0001052020935819917, 0.013053654827591844, 0.0010629552821889204, 0.046690878271771145, 0.00949313745636115, 0.0006883113506704299, 18.08087334430476, 0.3758672766882755, 0.04773753636502256, 3.1865849582482455, 8.640955733935902e-05, 90.07761614191038, 2.4134442183187553e-05, 1.909812584910647e-07, 0.0012277307608057556, 1.2593047017104702e-06, 743.5165448182792, 0.45102884812573796, 0.024385794696946145, 0.01214763930288558, 0.0003990207611273958, 0.059124341329317764, 0.004157252686361981, 1.1512921507299707, 0.15207442227688636, 15.456818139795619, 0.0017738344791501306, 5.691499081634364e-06, 0.000145175323878717, 1.7295357063641439, 0.02712673644514933, 0.28154461804838143, 0.0060491782918854755, 0.0050279191577903065, 2.614814105718521e-05, 0.00043711034999586415, 0.004626720403386946, 0.007892572942688037, 0.030410344258718643, 0.0010890091805289303, 0.01796233053660327, 0.2049126350344259, 0.07676794442634816, 0.00020427831864261906, 6.070473137546396e-05, 0.0022794147320389802, 0.6437486396338035, 0.0983493905602971, 7.361425752378214], \"xaxis\": \"x\", \"y\": [0.5172593687505435, 0.7250673854447439, 0.6829840883401443, 0.5216937657594992, 0.7250673854447439, 0.6747239370489523, 0.7337622815407356, 0.7318494043996174, 0.5172593687505435, 0.7276758542735414, 0.6847230675593426, 0.7248934875228241, 0.7244587427180246, 0.5172593687505435, 0.7258499260933832, 0.7248065385618642, 0.7255890792105034, 0.7262846708981827, 0.6747239370489523, 0.7248065385618642, 0.7221111207721068, 0.7299365272584992, 0.7237631510303452, 0.7249804364837841, 0.6747239370489523, 0.7295887314146596, 0.7223719676549866, 0.7248934875228241, 0.7221111207721068, 0.7369793930962525, 0.7378488827058517, 0.7372402399791322, 0.7357621076428137, 0.7351534649160942, 0.7150682549343536, 0.7266324667420224, 0.7334144856968959, 0.7362838014085732, 0.7273280584297017, 0.6661159899139205, 0.7355012607599339, 0.7249804364837841, 0.5172593687505435, 0.735327362838014, 0.7218502738892271, 0.7371532910181723, 0.7282844970002609, 0.7369793930962525, 0.7373271889400922, 0.7352404138770542, 0.7237631510303452, 0.7361968524476132, 0.7319363533605774, 0.7362838014085732, 0.736457699330493, 0.7309799147900182, 0.7266324667420224, 0.7337622815407356, 0.7360229545256934, 0.7284583949221807, 0.7241978958351448, 0.7254151812885836, 0.7217633249282671, 0.5172593687505435, 0.7326319450482567, 0.7228936614207461, 0.7251543344057039, 0.732284149204417, 0.7375880358229719, 0.7365446482914529, 0.728110599078341, 0.7360229545256934, 0.7365446482914529, 0.7299365272584992, 0.7358490566037735, 0.7268063646639422, 0.7340231284236154, 0.7184592644117903, 0.7244587427180246, 0.7293278845317799, 0.7368054951743327, 0.7355012607599339, 0.7371532910181723, 0.7371532910181723, 0.7221111207721068, 0.7284583949221807, 0.7368924441352925, 0.7366315972524128, 0.7368054951743327, 0.7319363533605774, 0.7358490566037735, 0.7352404138770542, 0.7351534649160942, 0.7258499260933832, 0.7305451699852187, 0.7341100773845752, 0.7311538127119381, 0.7351534649160942, 0.7273280584297017], \"yaxis\": \"y\"}, {\"marker\": {\"color\": [0, 1, 2, 3, 4, 5, 6, 7, 8, 9, 10, 11, 12, 13, 14, 15, 16, 17, 18, 19, 20, 21, 22, 23, 24, 25, 26, 27, 28, 29, 30, 31, 32, 33, 34, 35, 36, 37, 38, 39, 40, 41, 42, 43, 44, 45, 46, 47, 48, 49, 50, 51, 52, 53, 54, 55, 56, 57, 58, 59, 60, 61, 62, 63, 64, 65, 66, 67, 68, 69, 70, 71, 72, 73, 74, 75, 76, 77, 78, 79, 80, 81, 82, 83, 84, 85, 86, 87, 88, 89, 90, 91, 92, 93, 94, 95, 96, 97, 98, 99, 100, 101, 102, 103, 104, 105, 106, 107, 108, 109, 110, 111, 112, 113, 114, 115, 116, 117, 118, 119, 120, 121, 122, 123, 124, 125, 126, 127, 128, 129, 130, 131, 132, 133, 134, 135, 136, 137, 138, 139, 140, 141, 142, 143, 144, 145, 146, 147, 148, 149, 150, 151, 152, 153, 154, 155, 156, 157, 158, 159, 160, 161, 162, 163, 164, 165, 166, 167, 168, 169, 170, 171, 172, 173, 174, 175, 176, 177, 178, 179, 180, 181, 182, 183, 184, 185, 186, 187, 188, 189, 190, 191, 192, 193, 194, 195, 196, 197, 198, 199, 200, 201, 202, 203, 204, 205, 206, 207, 208, 209, 210, 211, 212, 213, 214, 215, 216, 217, 218, 219, 220, 221, 222, 223, 224, 225, 226, 227, 228, 229, 230, 231, 232, 233, 234, 235, 236, 237, 238, 239, 240, 241, 242, 243, 244, 245, 246, 247, 248, 249, 250, 251, 252, 253, 254, 255, 256, 257, 258, 259, 260, 261, 262, 263, 264, 265, 266, 267, 268, 269, 270, 271, 272, 273, 274, 275, 276, 277, 278, 279, 280, 281, 282, 283, 284, 285, 286, 287, 288, 289, 290, 291, 292, 293, 294, 295, 296, 297, 298, 299, 300, 301, 302, 303, 304, 305, 306, 307, 308, 309, 310, 311, 312, 313, 314, 315, 316, 317, 318, 319, 320, 321, 322, 323, 324, 325, 326, 327, 328, 329, 330, 331, 332, 333, 334, 335, 336, 337, 338, 339, 340, 341, 342, 343, 344, 345, 346, 347, 348, 349, 350, 351, 352, 353, 354, 355, 356, 357, 358, 359, 360, 361, 362, 363, 364, 365, 366, 367, 368, 369, 370, 371, 372, 373, 374, 375, 376, 377, 378, 379, 380, 381, 382, 383, 384, 385, 386, 387, 388, 389, 390, 391, 392, 393, 394, 395, 396, 397, 398, 399], \"colorbar\": {\"title\": {\"text\": \"#Trials\"}, \"x\": 1.0, \"xpad\": 40}, \"colorscale\": [[0.0, \"rgb(247,251,255)\"], [0.125, \"rgb(222,235,247)\"], [0.25, \"rgb(198,219,239)\"], [0.375, \"rgb(158,202,225)\"], [0.5, \"rgb(107,174,214)\"], [0.625, \"rgb(66,146,198)\"], [0.75, \"rgb(33,113,181)\"], [0.875, \"rgb(8,81,156)\"], [1.0, \"rgb(8,48,107)\"]], \"line\": {\"color\": \"Grey\", \"width\": 0.5}, \"showscale\": false}, \"mode\": \"markers\", \"showlegend\": false, \"type\": \"scatter\", \"x\": [\"LogisticRegression\", \"LogisticRegression\", \"RidgeClassifier\", \"LinearSVC\", \"LogisticRegression\", \"LogisticRegression\", \"RidgeClassifier\", \"RidgeClassifier\", \"RidgeClassifier\", \"LinearSVC\", \"RidgeClassifier\", \"RidgeClassifier\", \"RidgeClassifier\", \"RidgeClassifier\", \"RidgeClassifier\", \"RidgeClassifier\", \"LinearSVC\", \"RidgeClassifier\", \"RidgeClassifier\", \"RidgeClassifier\", \"LinearSVC\", \"RidgeClassifier\", \"RidgeClassifier\", \"RidgeClassifier\", \"RidgeClassifier\", \"RidgeClassifier\", \"RidgeClassifier\", \"RidgeClassifier\", \"RidgeClassifier\", \"LogisticRegression\", \"RidgeClassifier\", \"RidgeClassifier\", \"RidgeClassifier\", \"RidgeClassifier\", \"RidgeClassifier\", \"LogisticRegression\", \"RidgeClassifier\", \"LinearSVC\", \"LogisticRegression\", \"RidgeClassifier\", \"RidgeClassifier\", \"RidgeClassifier\", \"RidgeClassifier\", \"RidgeClassifier\", \"RidgeClassifier\", \"RidgeClassifier\", \"RidgeClassifier\", \"RidgeClassifier\", \"LinearSVC\", \"RidgeClassifier\", \"RidgeClassifier\", \"RidgeClassifier\", \"RidgeClassifier\", \"RidgeClassifier\", \"RidgeClassifier\", \"RidgeClassifier\", \"RidgeClassifier\", \"LogisticRegression\", \"RidgeClassifier\", \"RidgeClassifier\", \"LinearSVC\", \"RidgeClassifier\", \"RidgeClassifier\", \"RidgeClassifier\", \"RidgeClassifier\", \"RidgeClassifier\", \"RidgeClassifier\", \"RidgeClassifier\", \"RidgeClassifier\", \"RidgeClassifier\", \"RidgeClassifier\", \"RidgeClassifier\", \"RidgeClassifier\", \"RidgeClassifier\", \"RidgeClassifier\", \"RidgeClassifier\", \"RidgeClassifier\", \"LogisticRegression\", \"RidgeClassifier\", \"RidgeClassifier\", \"RidgeClassifier\", \"RidgeClassifier\", \"RidgeClassifier\", \"RidgeClassifier\", \"RidgeClassifier\", \"RidgeClassifier\", \"RidgeClassifier\", \"RidgeClassifier\", \"LinearSVC\", \"RidgeClassifier\", \"RidgeClassifier\", \"RidgeClassifier\", \"RidgeClassifier\", \"RidgeClassifier\", \"RidgeClassifier\", \"RidgeClassifier\", \"RidgeClassifier\", \"RidgeClassifier\", \"RidgeClassifier\", \"RidgeClassifier\", \"LogisticRegression\", \"RidgeClassifier\", \"RidgeClassifier\", \"RidgeClassifier\", \"RidgeClassifier\", \"RidgeClassifier\", \"RidgeClassifier\", \"RidgeClassifier\", \"RidgeClassifier\", \"RidgeClassifier\", \"RidgeClassifier\", \"RidgeClassifier\", \"RidgeClassifier\", \"RidgeClassifier\", \"RidgeClassifier\", \"RidgeClassifier\", \"LinearSVC\", \"RidgeClassifier\", \"RidgeClassifier\", \"RidgeClassifier\", \"RidgeClassifier\", \"RidgeClassifier\", \"RidgeClassifier\", \"RidgeClassifier\", \"RidgeClassifier\", \"RidgeClassifier\", \"RidgeClassifier\", \"RidgeClassifier\", \"RidgeClassifier\", \"RidgeClassifier\", \"RidgeClassifier\", \"RidgeClassifier\", \"RidgeClassifier\", \"RidgeClassifier\", \"RidgeClassifier\", \"RidgeClassifier\", \"LogisticRegression\", \"RidgeClassifier\", \"RidgeClassifier\", \"RidgeClassifier\", \"RidgeClassifier\", \"RidgeClassifier\", \"RidgeClassifier\", \"RidgeClassifier\", \"RidgeClassifier\", \"RidgeClassifier\", \"RidgeClassifier\", \"RidgeClassifier\", \"RidgeClassifier\", \"LinearSVC\", \"RidgeClassifier\", \"RidgeClassifier\", \"RidgeClassifier\", \"RidgeClassifier\", \"RidgeClassifier\", \"RidgeClassifier\", \"RidgeClassifier\", \"RidgeClassifier\", \"RidgeClassifier\", \"RidgeClassifier\", \"RidgeClassifier\", \"RidgeClassifier\", \"RidgeClassifier\", \"RidgeClassifier\", \"RidgeClassifier\", \"RidgeClassifier\", \"RidgeClassifier\", \"RidgeClassifier\", \"RidgeClassifier\", \"RidgeClassifier\", \"RidgeClassifier\", \"RidgeClassifier\", \"RidgeClassifier\", \"RidgeClassifier\", \"RidgeClassifier\", \"RidgeClassifier\", \"LogisticRegression\", \"RidgeClassifier\", \"RidgeClassifier\", \"RidgeClassifier\", \"RidgeClassifier\", \"RidgeClassifier\", \"RidgeClassifier\", \"RidgeClassifier\", \"RidgeClassifier\", \"RidgeClassifier\", \"RidgeClassifier\", \"RidgeClassifier\", \"RidgeClassifier\", \"RidgeClassifier\", \"RidgeClassifier\", \"RidgeClassifier\", \"RidgeClassifier\", \"RidgeClassifier\", \"RidgeClassifier\", \"RidgeClassifier\", \"RidgeClassifier\", \"RidgeClassifier\", \"LinearSVC\", \"RidgeClassifier\", \"RidgeClassifier\", \"RidgeClassifier\", \"RidgeClassifier\", \"RidgeClassifier\", \"RidgeClassifier\", \"RidgeClassifier\", \"RidgeClassifier\", \"RidgeClassifier\", \"RidgeClassifier\", \"RidgeClassifier\", \"RidgeClassifier\", \"RidgeClassifier\", \"RidgeClassifier\", \"RidgeClassifier\", \"RidgeClassifier\", \"RidgeClassifier\", \"RidgeClassifier\", \"RidgeClassifier\", \"RidgeClassifier\", \"RidgeClassifier\", \"RidgeClassifier\", \"RidgeClassifier\", \"RidgeClassifier\", \"RidgeClassifier\", \"RidgeClassifier\", \"RidgeClassifier\", \"RidgeClassifier\", \"LogisticRegression\", \"RidgeClassifier\", \"RidgeClassifier\", \"RidgeClassifier\", \"RidgeClassifier\", \"RidgeClassifier\", \"RidgeClassifier\", \"RidgeClassifier\", \"RidgeClassifier\", \"RidgeClassifier\", \"RidgeClassifier\", \"RidgeClassifier\", \"RidgeClassifier\", \"RidgeClassifier\", \"RidgeClassifier\", \"RidgeClassifier\", \"RidgeClassifier\", \"RidgeClassifier\", \"RidgeClassifier\", \"RidgeClassifier\", \"RidgeClassifier\", \"RidgeClassifier\", \"RidgeClassifier\", \"LinearSVC\", \"RidgeClassifier\", \"RidgeClassifier\", \"RidgeClassifier\", \"RidgeClassifier\", \"RidgeClassifier\", \"RidgeClassifier\", \"RidgeClassifier\", \"RidgeClassifier\", \"RidgeClassifier\", \"RidgeClassifier\", \"RidgeClassifier\", \"RidgeClassifier\", \"RidgeClassifier\", \"RidgeClassifier\", \"RidgeClassifier\", \"RidgeClassifier\", \"RidgeClassifier\", \"RidgeClassifier\", \"RidgeClassifier\", \"RidgeClassifier\", \"LogisticRegression\", \"RidgeClassifier\", \"RidgeClassifier\", \"RidgeClassifier\", \"RidgeClassifier\", \"RidgeClassifier\", \"RidgeClassifier\", \"RidgeClassifier\", \"LinearSVC\", \"RidgeClassifier\", \"RidgeClassifier\", \"RidgeClassifier\", \"RidgeClassifier\", \"RidgeClassifier\", \"RidgeClassifier\", \"RidgeClassifier\", \"RidgeClassifier\", \"RidgeClassifier\", \"RidgeClassifier\", \"RidgeClassifier\", \"RidgeClassifier\", \"RidgeClassifier\", \"RidgeClassifier\", \"RidgeClassifier\", \"RidgeClassifier\", \"RidgeClassifier\", \"RidgeClassifier\", \"RidgeClassifier\", \"RidgeClassifier\", \"LogisticRegression\", \"RidgeClassifier\", \"RidgeClassifier\", \"RidgeClassifier\", \"RidgeClassifier\", \"RidgeClassifier\", \"RidgeClassifier\", \"RidgeClassifier\", \"RidgeClassifier\", \"RidgeClassifier\", \"RidgeClassifier\", \"LinearSVC\", \"RidgeClassifier\", \"RidgeClassifier\", \"RidgeClassifier\", \"RidgeClassifier\", \"RidgeClassifier\", \"RidgeClassifier\", \"RidgeClassifier\", \"RidgeClassifier\", \"RidgeClassifier\", \"RidgeClassifier\", \"RidgeClassifier\", \"RidgeClassifier\", \"RidgeClassifier\", \"RidgeClassifier\", \"RidgeClassifier\", \"RidgeClassifier\", \"LogisticRegression\", \"RidgeClassifier\", \"LogisticRegression\", \"LogisticRegression\", \"LogisticRegression\", \"LogisticRegression\", \"LogisticRegression\", \"LogisticRegression\", \"LogisticRegression\", \"LogisticRegression\", \"LogisticRegression\", \"LogisticRegression\", \"LogisticRegression\", \"LogisticRegression\", \"LogisticRegression\", \"LogisticRegression\", \"LogisticRegression\", \"LogisticRegression\", \"LogisticRegression\", \"LogisticRegression\", \"LogisticRegression\", \"LogisticRegression\", \"LogisticRegression\", \"LogisticRegression\", \"LogisticRegression\", \"LogisticRegression\", \"LogisticRegression\", \"LogisticRegression\", \"LogisticRegression\", \"LogisticRegression\", \"LogisticRegression\", \"LogisticRegression\", \"LogisticRegression\", \"LogisticRegression\", \"LogisticRegression\", \"LogisticRegression\", \"LogisticRegression\", \"LinearSVC\", \"LogisticRegression\", \"LogisticRegression\", \"LogisticRegression\", \"LogisticRegression\", \"LogisticRegression\", \"LogisticRegression\", \"LogisticRegression\", \"LogisticRegression\", \"LogisticRegression\", \"LogisticRegression\", \"LogisticRegression\", \"LogisticRegression\", \"LogisticRegression\", \"LogisticRegression\", \"LogisticRegression\", \"RidgeClassifier\", \"LogisticRegression\", \"LogisticRegression\", \"LogisticRegression\", \"LogisticRegression\", \"LogisticRegression\", \"LogisticRegression\", \"LogisticRegression\", \"LogisticRegression\", \"LogisticRegression\", \"LogisticRegression\", \"LogisticRegression\", \"LogisticRegression\", \"LogisticRegression\", \"LinearSVC\", \"LogisticRegression\", \"LogisticRegression\", \"LogisticRegression\", \"LogisticRegression\"], \"xaxis\": \"x2\", \"y\": [0.5172593687505435, 0.7250673854447439, 0.5172593687505435, 0.6829840883401443, 0.5216937657594992, 0.7250673854447439, 0.5172593687505435, 0.7362838014085732, 0.7200243457090688, 0.6747239370489523, 0.7274150073906617, 0.7274150073906617, 0.7274150073906617, 0.7288061907660204, 0.7309799147900182, 0.7361099034866533, 0.7337622815407356, 0.735414311798974, 0.7287192418050604, 0.7275019563516216, 0.7318494043996174, 0.7368054951743327, 0.736457699330493, 0.7215024780453874, 0.7275019563516216, 0.6859403530127814, 0.735327362838014, 0.7293278845317799, 0.7279367011564212, 0.5172593687505435, 0.5172593687505435, 0.7359360055647335, 0.7321972002434571, 0.7337622815407356, 0.7285453438831406, 0.7276758542735414, 0.7239370489522651, 0.6847230675593426, 0.7248934875228241, 0.7362838014085732, 0.7274150073906617, 0.736370750369533, 0.735414311798974, 0.5389966089905226, 0.7337622815407356, 0.5172593687505435, 0.7219372228501869, 0.7355882097208938, 0.7244587427180246, 0.7274150073906617, 0.7097643683157986, 0.7358490566037735, 0.7299365272584992, 0.726023824015303, 0.7361099034866533, 0.7359360055647335, 0.7289800886879402, 0.5172593687505435, 0.7341970263455352, 0.7356751586818537, 0.7258499260933832, 0.7365446482914529, 0.7248065385618642, 0.7350665159551343, 0.7367185462133727, 0.7205460394748283, 0.7317624554386575, 0.7305451699852187, 0.7274150073906617, 0.735327362838014, 0.7297626293365794, 0.7367185462133727, 0.7371532910181723, 0.7370663420572124, 0.734370924267455, 0.7327188940092166, 0.7368924441352925, 0.7248065385618642, 0.7217633249282671, 0.7275889053125815, 0.7358490566037735, 0.736370750369533, 0.7345448221893749, 0.7328058429701765, 0.7261977219372229, 0.7282844970002609, 0.7365446482914529, 0.7305451699852187, 0.7255890792105034, 0.7218502738892271, 0.7347187201112947, 0.7368924441352925, 0.7347187201112947, 0.7372402399791322, 0.7369793930962525, 0.7237631510303452, 0.7341970263455352, 0.7352404138770542, 0.7274150073906617, 0.7295017824536997, 0.7262846708981827, 0.7361968524476132, 0.7370663420572124, 0.7362838014085732, 0.7287192418050604, 0.7368924441352925, 0.7328927919311364, 0.735414311798974, 0.7355882097208938, 0.7362838014085732, 0.7287192418050604, 0.7365446482914529, 0.7334144856968959, 0.7359360055647335, 0.7345448221893749, 0.7359360055647335, 0.6747239370489523, 0.7305451699852187, 0.7264585688201026, 0.7358490566037735, 0.7346317711503347, 0.736457699330493, 0.736457699330493, 0.7337622815407356, 0.7328927919311364, 0.7361099034866533, 0.7238500999913051, 0.735327362838014, 0.7355882097208938, 0.7334144856968959, 0.7358490566037735, 0.7365446482914529, 0.7369793930962525, 0.7342839753064951, 0.735414311798974, 0.7289800886879402, 0.7248065385618642, 0.7361968524476132, 0.7336753325797757, 0.7368054951743327, 0.7299365272584992, 0.7370663420572124, 0.7350665159551343, 0.7362838014085732, 0.7351534649160942, 0.7365446482914529, 0.7345448221893749, 0.7265455177810625, 0.7327188940092166, 0.7221111207721068, 0.7348926180332145, 0.7368054951743327, 0.7359360055647335, 0.7371532910181723, 0.7344578732284149, 0.7366315972524128, 0.7349795669941744, 0.7329797408920964, 0.735327362838014, 0.7335014346578559, 0.7359360055647335, 0.7369793930962525, 0.736457699330493, 0.7355012607599339, 0.7301104251804191, 0.7351534649160942, 0.7341100773845752, 0.7367185462133727, 0.7359360055647335, 0.7274150073906617, 0.7369793930962525, 0.7355882097208938, 0.7367185462133727, 0.7346317711503347, 0.736457699330493, 0.7330666898530562, 0.7299365272584992, 0.7361968524476132, 0.7248065385618642, 0.7350665159551343, 0.7370663420572124, 0.736457699330493, 0.7358490566037735, 0.7367185462133727, 0.7358490566037735, 0.7355012607599339, 0.7342839753064951, 0.7361968524476132, 0.7320233023215372, 0.7317624554386575, 0.736457699330493, 0.7361099034866533, 0.7355012607599339, 0.7371532910181723, 0.7342839753064951, 0.7362838014085732, 0.7348056690722546, 0.736370750369533, 0.7237631510303452, 0.7361968524476132, 0.7368924441352925, 0.7355882097208938, 0.7369793930962525, 0.7335014346578559, 0.736457699330493, 0.7359360055647335, 0.735414311798974, 0.7277628032345014, 0.7347187201112947, 0.7361968524476132, 0.7341100773845752, 0.7369793930962525, 0.7361099034866533, 0.7361968524476132, 0.7368054951743327, 0.7358490566037735, 0.734370924267455, 0.7366315972524128, 0.7351534649160942, 0.7350665159551343, 0.7323710981653769, 0.7365446482914529, 0.7369793930962525, 0.7360229545256934, 0.7355012607599339, 0.7367185462133727, 0.735327362838014, 0.7249804364837841, 0.735414311798974, 0.7357621076428137, 0.736457699330493, 0.736370750369533, 0.736370750369533, 0.7369793930962525, 0.7347187201112947, 0.7361099034866533, 0.7365446482914529, 0.7349795669941744, 0.736457699330493, 0.7341100773845752, 0.7336753325797757, 0.736370750369533, 0.7361968524476132, 0.7365446482914529, 0.517781062516303, 0.7359360055647335, 0.7370663420572124, 0.7350665159551343, 0.7361968524476132, 0.735414311798974, 0.6747239370489523, 0.7361968524476132, 0.7368054951743327, 0.7331536388140162, 0.7346317711503347, 0.735327362838014, 0.7362838014085732, 0.7299365272584992, 0.736457699330493, 0.7361099034866533, 0.7274150073906617, 0.7357621076428137, 0.7341970263455352, 0.7365446482914529, 0.7352404138770542, 0.7358490566037735, 0.7335014346578559, 0.7355882097208938, 0.7368054951743327, 0.7368054951743327, 0.7358490566037735, 0.7295887314146596, 0.7345448221893749, 0.7362838014085732, 0.735414311798974, 0.7281975480393009, 0.736457699330493, 0.5172593687505435, 0.7350665159551343, 0.7223719676549866, 0.7368054951743327, 0.735414311798974, 0.7330666898530562, 0.736457699330493, 0.7359360055647335, 0.7275019563516216, 0.7340231284236154, 0.7349795669941744, 0.736370750369533, 0.7351534649160942, 0.735414311798974, 0.7356751586818537, 0.7335883836188157, 0.7371532910181723, 0.7348926180332145, 0.7366315972524128, 0.7351534649160942, 0.7294148334927397, 0.7370663420572124, 0.736457699330493, 0.7248934875228241, 0.7371532910181723, 0.7355882097208938, 0.7368054951743327, 0.7356751586818537, 0.731240761672898, 0.734370924267455, 0.7361968524476132, 0.7335014346578559, 0.7242848447961047, 0.7362838014085732, 0.7221111207721068, 0.7361968524476132, 0.7350665159551343, 0.7367185462133727, 0.7349795669941744, 0.698895748195809, 0.7368924441352925, 0.7342839753064951, 0.7355012607599339, 0.7305451699852187, 0.7361099034866533, 0.7368054951743327, 0.7344578732284149, 0.7347187201112947, 0.7361968524476132, 0.7355882097208938, 0.5172593687505435, 0.7369793930962525, 0.7341100773845752, 0.7378488827058517, 0.7372402399791322, 0.7357621076428137, 0.7351534649160942, 0.7150682549343536, 0.7266324667420224, 0.7334144856968959, 0.7362838014085732, 0.7273280584297017, 0.6661159899139205, 0.7355012607599339, 0.7249804364837841, 0.5172593687505435, 0.735327362838014, 0.7218502738892271, 0.7371532910181723, 0.7282844970002609, 0.7369793930962525, 0.7373271889400922, 0.7352404138770542, 0.7237631510303452, 0.7361968524476132, 0.7319363533605774, 0.7362838014085732, 0.736457699330493, 0.7309799147900182, 0.7266324667420224, 0.7337622815407356, 0.7360229545256934, 0.7284583949221807, 0.7241978958351448, 0.7254151812885836, 0.7217633249282671, 0.5172593687505435, 0.7326319450482567, 0.7228936614207461, 0.7251543344057039, 0.732284149204417, 0.7375880358229719, 0.7365446482914529, 0.728110599078341, 0.7360229545256934, 0.7365446482914529, 0.7299365272584992, 0.7358490566037735, 0.7268063646639422, 0.7340231284236154, 0.7184592644117903, 0.7244587427180246, 0.7293278845317799, 0.7368054951743327, 0.7298495782975394, 0.7355012607599339, 0.7371532910181723, 0.7371532910181723, 0.7221111207721068, 0.7284583949221807, 0.7368924441352925, 0.7366315972524128, 0.7368054951743327, 0.7319363533605774, 0.7358490566037735, 0.7352404138770542, 0.7351534649160942, 0.7258499260933832, 0.7305451699852187, 0.7341100773845752, 0.7311538127119381, 0.7351534649160942, 0.7273280584297017], \"yaxis\": \"y2\"}],                        {\"template\": {\"data\": {\"bar\": [{\"error_x\": {\"color\": \"#2a3f5f\"}, \"error_y\": {\"color\": \"#2a3f5f\"}, \"marker\": {\"line\": {\"color\": \"#E5ECF6\", \"width\": 0.5}}, \"type\": \"bar\"}], \"barpolar\": [{\"marker\": {\"line\": {\"color\": \"#E5ECF6\", \"width\": 0.5}}, \"type\": \"barpolar\"}], \"carpet\": [{\"aaxis\": {\"endlinecolor\": \"#2a3f5f\", \"gridcolor\": \"white\", \"linecolor\": \"white\", \"minorgridcolor\": \"white\", \"startlinecolor\": \"#2a3f5f\"}, \"baxis\": {\"endlinecolor\": \"#2a3f5f\", \"gridcolor\": \"white\", \"linecolor\": \"white\", \"minorgridcolor\": \"white\", \"startlinecolor\": \"#2a3f5f\"}, \"type\": \"carpet\"}], \"choropleth\": [{\"colorbar\": {\"outlinewidth\": 0, \"ticks\": \"\"}, \"type\": \"choropleth\"}], \"contour\": [{\"colorbar\": {\"outlinewidth\": 0, \"ticks\": \"\"}, \"colorscale\": [[0.0, \"#0d0887\"], [0.1111111111111111, \"#46039f\"], [0.2222222222222222, \"#7201a8\"], [0.3333333333333333, \"#9c179e\"], [0.4444444444444444, \"#bd3786\"], [0.5555555555555556, \"#d8576b\"], [0.6666666666666666, \"#ed7953\"], [0.7777777777777778, \"#fb9f3a\"], [0.8888888888888888, \"#fdca26\"], [1.0, \"#f0f921\"]], \"type\": \"contour\"}], \"contourcarpet\": [{\"colorbar\": {\"outlinewidth\": 0, \"ticks\": \"\"}, \"type\": \"contourcarpet\"}], \"heatmap\": [{\"colorbar\": {\"outlinewidth\": 0, \"ticks\": \"\"}, \"colorscale\": [[0.0, \"#0d0887\"], [0.1111111111111111, \"#46039f\"], [0.2222222222222222, \"#7201a8\"], [0.3333333333333333, \"#9c179e\"], [0.4444444444444444, \"#bd3786\"], [0.5555555555555556, \"#d8576b\"], [0.6666666666666666, \"#ed7953\"], [0.7777777777777778, \"#fb9f3a\"], [0.8888888888888888, \"#fdca26\"], [1.0, \"#f0f921\"]], \"type\": \"heatmap\"}], \"heatmapgl\": [{\"colorbar\": {\"outlinewidth\": 0, \"ticks\": \"\"}, \"colorscale\": [[0.0, \"#0d0887\"], [0.1111111111111111, \"#46039f\"], [0.2222222222222222, \"#7201a8\"], [0.3333333333333333, \"#9c179e\"], [0.4444444444444444, \"#bd3786\"], [0.5555555555555556, \"#d8576b\"], [0.6666666666666666, \"#ed7953\"], [0.7777777777777778, \"#fb9f3a\"], [0.8888888888888888, \"#fdca26\"], [1.0, \"#f0f921\"]], \"type\": \"heatmapgl\"}], \"histogram\": [{\"marker\": {\"colorbar\": {\"outlinewidth\": 0, \"ticks\": \"\"}}, \"type\": \"histogram\"}], \"histogram2d\": [{\"colorbar\": {\"outlinewidth\": 0, \"ticks\": \"\"}, \"colorscale\": [[0.0, \"#0d0887\"], [0.1111111111111111, \"#46039f\"], [0.2222222222222222, \"#7201a8\"], [0.3333333333333333, \"#9c179e\"], [0.4444444444444444, \"#bd3786\"], [0.5555555555555556, \"#d8576b\"], [0.6666666666666666, \"#ed7953\"], [0.7777777777777778, \"#fb9f3a\"], [0.8888888888888888, \"#fdca26\"], [1.0, \"#f0f921\"]], \"type\": \"histogram2d\"}], \"histogram2dcontour\": [{\"colorbar\": {\"outlinewidth\": 0, \"ticks\": \"\"}, \"colorscale\": [[0.0, \"#0d0887\"], [0.1111111111111111, \"#46039f\"], [0.2222222222222222, \"#7201a8\"], [0.3333333333333333, \"#9c179e\"], [0.4444444444444444, \"#bd3786\"], [0.5555555555555556, \"#d8576b\"], [0.6666666666666666, \"#ed7953\"], [0.7777777777777778, \"#fb9f3a\"], [0.8888888888888888, \"#fdca26\"], [1.0, \"#f0f921\"]], \"type\": \"histogram2dcontour\"}], \"mesh3d\": [{\"colorbar\": {\"outlinewidth\": 0, \"ticks\": \"\"}, \"type\": \"mesh3d\"}], \"parcoords\": [{\"line\": {\"colorbar\": {\"outlinewidth\": 0, \"ticks\": \"\"}}, \"type\": \"parcoords\"}], \"pie\": [{\"automargin\": true, \"type\": \"pie\"}], \"scatter\": [{\"marker\": {\"colorbar\": {\"outlinewidth\": 0, \"ticks\": \"\"}}, \"type\": \"scatter\"}], \"scatter3d\": [{\"line\": {\"colorbar\": {\"outlinewidth\": 0, \"ticks\": \"\"}}, \"marker\": {\"colorbar\": {\"outlinewidth\": 0, \"ticks\": \"\"}}, \"type\": \"scatter3d\"}], \"scattercarpet\": [{\"marker\": {\"colorbar\": {\"outlinewidth\": 0, \"ticks\": \"\"}}, \"type\": \"scattercarpet\"}], \"scattergeo\": [{\"marker\": {\"colorbar\": {\"outlinewidth\": 0, \"ticks\": \"\"}}, \"type\": \"scattergeo\"}], \"scattergl\": [{\"marker\": {\"colorbar\": {\"outlinewidth\": 0, \"ticks\": \"\"}}, \"type\": \"scattergl\"}], \"scattermapbox\": [{\"marker\": {\"colorbar\": {\"outlinewidth\": 0, \"ticks\": \"\"}}, \"type\": \"scattermapbox\"}], \"scatterpolar\": [{\"marker\": {\"colorbar\": {\"outlinewidth\": 0, \"ticks\": \"\"}}, \"type\": \"scatterpolar\"}], \"scatterpolargl\": [{\"marker\": {\"colorbar\": {\"outlinewidth\": 0, \"ticks\": \"\"}}, \"type\": \"scatterpolargl\"}], \"scatterternary\": [{\"marker\": {\"colorbar\": {\"outlinewidth\": 0, \"ticks\": \"\"}}, \"type\": \"scatterternary\"}], \"surface\": [{\"colorbar\": {\"outlinewidth\": 0, \"ticks\": \"\"}, \"colorscale\": [[0.0, \"#0d0887\"], [0.1111111111111111, \"#46039f\"], [0.2222222222222222, \"#7201a8\"], [0.3333333333333333, \"#9c179e\"], [0.4444444444444444, \"#bd3786\"], [0.5555555555555556, \"#d8576b\"], [0.6666666666666666, \"#ed7953\"], [0.7777777777777778, \"#fb9f3a\"], [0.8888888888888888, \"#fdca26\"], [1.0, \"#f0f921\"]], \"type\": \"surface\"}], \"table\": [{\"cells\": {\"fill\": {\"color\": \"#EBF0F8\"}, \"line\": {\"color\": \"white\"}}, \"header\": {\"fill\": {\"color\": \"#C8D4E3\"}, \"line\": {\"color\": \"white\"}}, \"type\": \"table\"}]}, \"layout\": {\"annotationdefaults\": {\"arrowcolor\": \"#2a3f5f\", \"arrowhead\": 0, \"arrowwidth\": 1}, \"autotypenumbers\": \"strict\", \"coloraxis\": {\"colorbar\": {\"outlinewidth\": 0, \"ticks\": \"\"}}, \"colorscale\": {\"diverging\": [[0, \"#8e0152\"], [0.1, \"#c51b7d\"], [0.2, \"#de77ae\"], [0.3, \"#f1b6da\"], [0.4, \"#fde0ef\"], [0.5, \"#f7f7f7\"], [0.6, \"#e6f5d0\"], [0.7, \"#b8e186\"], [0.8, \"#7fbc41\"], [0.9, \"#4d9221\"], [1, \"#276419\"]], \"sequential\": [[0.0, \"#0d0887\"], [0.1111111111111111, \"#46039f\"], [0.2222222222222222, \"#7201a8\"], [0.3333333333333333, \"#9c179e\"], [0.4444444444444444, \"#bd3786\"], [0.5555555555555556, \"#d8576b\"], [0.6666666666666666, \"#ed7953\"], [0.7777777777777778, \"#fb9f3a\"], [0.8888888888888888, \"#fdca26\"], [1.0, \"#f0f921\"]], \"sequentialminus\": [[0.0, \"#0d0887\"], [0.1111111111111111, \"#46039f\"], [0.2222222222222222, \"#7201a8\"], [0.3333333333333333, \"#9c179e\"], [0.4444444444444444, \"#bd3786\"], [0.5555555555555556, \"#d8576b\"], [0.6666666666666666, \"#ed7953\"], [0.7777777777777778, \"#fb9f3a\"], [0.8888888888888888, \"#fdca26\"], [1.0, \"#f0f921\"]]}, \"colorway\": [\"#636efa\", \"#EF553B\", \"#00cc96\", \"#ab63fa\", \"#FFA15A\", \"#19d3f3\", \"#FF6692\", \"#B6E880\", \"#FF97FF\", \"#FECB52\"], \"font\": {\"color\": \"#2a3f5f\"}, \"geo\": {\"bgcolor\": \"white\", \"lakecolor\": \"white\", \"landcolor\": \"#E5ECF6\", \"showlakes\": true, \"showland\": true, \"subunitcolor\": \"white\"}, \"hoverlabel\": {\"align\": \"left\"}, \"hovermode\": \"closest\", \"mapbox\": {\"style\": \"light\"}, \"paper_bgcolor\": \"white\", \"plot_bgcolor\": \"#E5ECF6\", \"polar\": {\"angularaxis\": {\"gridcolor\": \"white\", \"linecolor\": \"white\", \"ticks\": \"\"}, \"bgcolor\": \"#E5ECF6\", \"radialaxis\": {\"gridcolor\": \"white\", \"linecolor\": \"white\", \"ticks\": \"\"}}, \"scene\": {\"xaxis\": {\"backgroundcolor\": \"#E5ECF6\", \"gridcolor\": \"white\", \"gridwidth\": 2, \"linecolor\": \"white\", \"showbackground\": true, \"ticks\": \"\", \"zerolinecolor\": \"white\"}, \"yaxis\": {\"backgroundcolor\": \"#E5ECF6\", \"gridcolor\": \"white\", \"gridwidth\": 2, \"linecolor\": \"white\", \"showbackground\": true, \"ticks\": \"\", \"zerolinecolor\": \"white\"}, \"zaxis\": {\"backgroundcolor\": \"#E5ECF6\", \"gridcolor\": \"white\", \"gridwidth\": 2, \"linecolor\": \"white\", \"showbackground\": true, \"ticks\": \"\", \"zerolinecolor\": \"white\"}}, \"shapedefaults\": {\"line\": {\"color\": \"#2a3f5f\"}}, \"ternary\": {\"aaxis\": {\"gridcolor\": \"white\", \"linecolor\": \"white\", \"ticks\": \"\"}, \"baxis\": {\"gridcolor\": \"white\", \"linecolor\": \"white\", \"ticks\": \"\"}, \"bgcolor\": \"#E5ECF6\", \"caxis\": {\"gridcolor\": \"white\", \"linecolor\": \"white\", \"ticks\": \"\"}}, \"title\": {\"x\": 0.05}, \"xaxis\": {\"automargin\": true, \"gridcolor\": \"white\", \"linecolor\": \"white\", \"ticks\": \"\", \"title\": {\"standoff\": 15}, \"zerolinecolor\": \"white\", \"zerolinewidth\": 2}, \"yaxis\": {\"automargin\": true, \"gridcolor\": \"white\", \"linecolor\": \"white\", \"ticks\": \"\", \"title\": {\"standoff\": 15}, \"zerolinecolor\": \"white\", \"zerolinewidth\": 2}}}, \"title\": {\"text\": \"Slice Plot\"}, \"xaxis\": {\"anchor\": \"y\", \"domain\": [0.0, 0.45], \"title\": {\"text\": \"c\"}, \"type\": \"log\"}, \"xaxis2\": {\"anchor\": \"y2\", \"domain\": [0.55, 1.0], \"title\": {\"text\": \"classifier\"}}, \"yaxis\": {\"anchor\": \"x\", \"domain\": [0.0, 1.0], \"title\": {\"text\": \"Objective Value\"}}, \"yaxis2\": {\"anchor\": \"x2\", \"domain\": [0.0, 1.0], \"matches\": \"y\", \"showticklabels\": false}},                        {\"responsive\": true}                    ).then(function(){\n",
       "                            \n",
       "var gd = document.getElementById('c6486e76-a2eb-4345-9395-313f5d05e2c4');\n",
       "var x = new MutationObserver(function (mutations, observer) {{\n",
       "        var display = window.getComputedStyle(gd).display;\n",
       "        if (!display || display === 'none') {{\n",
       "            console.log([gd, 'removed!']);\n",
       "            Plotly.purge(gd);\n",
       "            observer.disconnect();\n",
       "        }}\n",
       "}});\n",
       "\n",
       "// Listen for the removal of the full notebook cells\n",
       "var notebookContainer = gd.closest('#notebook-container');\n",
       "if (notebookContainer) {{\n",
       "    x.observe(notebookContainer, {childList: true});\n",
       "}}\n",
       "\n",
       "// Listen for the clearing of the current output cell\n",
       "var outputEl = gd.closest('.output');\n",
       "if (outputEl) {{\n",
       "    x.observe(outputEl, {childList: true});\n",
       "}}\n",
       "\n",
       "                        })                };                });            </script>        </div>"
      ]
     },
     "metadata": {},
     "output_type": "display_data"
    }
   ],
   "source": [
    "optuna.visualization.plot_slice(linear_study, params=['classifier', 'c'])"
   ]
  },
  {
   "cell_type": "code",
   "execution_count": 12,
   "metadata": {},
   "outputs": [
    {
     "data": {
      "application/vnd.plotly.v1+json": {
       "config": {
        "plotlyServerURL": "https://plot.ly"
       },
       "data": [
        {
         "dimensions": [
          {
           "label": "Objective Value",
           "range": [
            0.5172593687505435,
            0.7378488827058517
           ],
           "values": [
            0.5172593687505435,
            0.7250673854447439,
            0.5172593687505435,
            0.6829840883401443,
            0.5216937657594992,
            0.7250673854447439,
            0.5172593687505435,
            0.7362838014085732,
            0.7200243457090688,
            0.6747239370489523,
            0.7274150073906617,
            0.7274150073906617,
            0.7274150073906617,
            0.7288061907660204,
            0.7309799147900182,
            0.7361099034866533,
            0.7337622815407356,
            0.735414311798974,
            0.7287192418050604,
            0.7275019563516216,
            0.7318494043996174,
            0.7368054951743327,
            0.736457699330493,
            0.7215024780453874,
            0.7275019563516216,
            0.6859403530127814,
            0.735327362838014,
            0.7293278845317799,
            0.7279367011564212,
            0.5172593687505435,
            0.5172593687505435,
            0.7359360055647335,
            0.7321972002434571,
            0.7337622815407356,
            0.7285453438831406,
            0.7276758542735414,
            0.7239370489522651,
            0.6847230675593426,
            0.7248934875228241,
            0.7362838014085732,
            0.7274150073906617,
            0.736370750369533,
            0.735414311798974,
            0.5389966089905226,
            0.7337622815407356,
            0.5172593687505435,
            0.7219372228501869,
            0.7355882097208938,
            0.7244587427180246,
            0.7274150073906617,
            0.7097643683157986,
            0.7358490566037735,
            0.7299365272584992,
            0.726023824015303,
            0.7361099034866533,
            0.7359360055647335,
            0.7289800886879402,
            0.5172593687505435,
            0.7341970263455352,
            0.7356751586818537,
            0.7258499260933832,
            0.7365446482914529,
            0.7248065385618642,
            0.7350665159551343,
            0.7367185462133727,
            0.7205460394748283,
            0.7317624554386575,
            0.7305451699852187,
            0.7274150073906617,
            0.735327362838014,
            0.7297626293365794,
            0.7367185462133727,
            0.7371532910181723,
            0.7370663420572124,
            0.734370924267455,
            0.7327188940092166,
            0.7368924441352925,
            0.7248065385618642,
            0.7217633249282671,
            0.7275889053125815,
            0.7358490566037735,
            0.736370750369533,
            0.7345448221893749,
            0.7328058429701765,
            0.7261977219372229,
            0.7282844970002609,
            0.7365446482914529,
            0.7305451699852187,
            0.7255890792105034,
            0.7218502738892271,
            0.7347187201112947,
            0.7368924441352925,
            0.7347187201112947,
            0.7372402399791322,
            0.7369793930962525,
            0.7237631510303452,
            0.7341970263455352,
            0.7352404138770542,
            0.7274150073906617,
            0.7295017824536997,
            0.7262846708981827,
            0.7361968524476132,
            0.7370663420572124,
            0.7362838014085732,
            0.7287192418050604,
            0.7368924441352925,
            0.7328927919311364,
            0.735414311798974,
            0.7355882097208938,
            0.7362838014085732,
            0.7287192418050604,
            0.7365446482914529,
            0.7334144856968959,
            0.7359360055647335,
            0.7345448221893749,
            0.7359360055647335,
            0.6747239370489523,
            0.7305451699852187,
            0.7264585688201026,
            0.7358490566037735,
            0.7346317711503347,
            0.736457699330493,
            0.736457699330493,
            0.7337622815407356,
            0.7328927919311364,
            0.7361099034866533,
            0.7238500999913051,
            0.735327362838014,
            0.7355882097208938,
            0.7334144856968959,
            0.7358490566037735,
            0.7365446482914529,
            0.7369793930962525,
            0.7342839753064951,
            0.735414311798974,
            0.7289800886879402,
            0.7248065385618642,
            0.7361968524476132,
            0.7336753325797757,
            0.7368054951743327,
            0.7299365272584992,
            0.7370663420572124,
            0.7350665159551343,
            0.7362838014085732,
            0.7351534649160942,
            0.7365446482914529,
            0.7345448221893749,
            0.7265455177810625,
            0.7327188940092166,
            0.7221111207721068,
            0.7348926180332145,
            0.7368054951743327,
            0.7359360055647335,
            0.7371532910181723,
            0.7344578732284149,
            0.7366315972524128,
            0.7349795669941744,
            0.7329797408920964,
            0.735327362838014,
            0.7335014346578559,
            0.7359360055647335,
            0.7369793930962525,
            0.736457699330493,
            0.7355012607599339,
            0.7301104251804191,
            0.7351534649160942,
            0.7341100773845752,
            0.7367185462133727,
            0.7359360055647335,
            0.7274150073906617,
            0.7369793930962525,
            0.7355882097208938,
            0.7367185462133727,
            0.7346317711503347,
            0.736457699330493,
            0.7330666898530562,
            0.7299365272584992,
            0.7361968524476132,
            0.7248065385618642,
            0.7350665159551343,
            0.7370663420572124,
            0.736457699330493,
            0.7358490566037735,
            0.7367185462133727,
            0.7358490566037735,
            0.7355012607599339,
            0.7342839753064951,
            0.7361968524476132,
            0.7320233023215372,
            0.7317624554386575,
            0.736457699330493,
            0.7361099034866533,
            0.7355012607599339,
            0.7371532910181723,
            0.7342839753064951,
            0.7362838014085732,
            0.7348056690722546,
            0.736370750369533,
            0.7237631510303452,
            0.7361968524476132,
            0.7368924441352925,
            0.7355882097208938,
            0.7369793930962525,
            0.7335014346578559,
            0.736457699330493,
            0.7359360055647335,
            0.735414311798974,
            0.7277628032345014,
            0.7347187201112947,
            0.7361968524476132,
            0.7341100773845752,
            0.7369793930962525,
            0.7361099034866533,
            0.7361968524476132,
            0.7368054951743327,
            0.7358490566037735,
            0.734370924267455,
            0.7366315972524128,
            0.7351534649160942,
            0.7350665159551343,
            0.7323710981653769,
            0.7365446482914529,
            0.7369793930962525,
            0.7360229545256934,
            0.7355012607599339,
            0.7367185462133727,
            0.735327362838014,
            0.7249804364837841,
            0.735414311798974,
            0.7357621076428137,
            0.736457699330493,
            0.736370750369533,
            0.736370750369533,
            0.7369793930962525,
            0.7347187201112947,
            0.7361099034866533,
            0.7365446482914529,
            0.7349795669941744,
            0.736457699330493,
            0.7341100773845752,
            0.7336753325797757,
            0.736370750369533,
            0.7361968524476132,
            0.7365446482914529,
            0.517781062516303,
            0.7359360055647335,
            0.7370663420572124,
            0.7350665159551343,
            0.7361968524476132,
            0.735414311798974,
            0.6747239370489523,
            0.7361968524476132,
            0.7368054951743327,
            0.7331536388140162,
            0.7346317711503347,
            0.735327362838014,
            0.7362838014085732,
            0.7299365272584992,
            0.736457699330493,
            0.7361099034866533,
            0.7274150073906617,
            0.7357621076428137,
            0.7341970263455352,
            0.7365446482914529,
            0.7352404138770542,
            0.7358490566037735,
            0.7335014346578559,
            0.7355882097208938,
            0.7368054951743327,
            0.7368054951743327,
            0.7358490566037735,
            0.7295887314146596,
            0.7345448221893749,
            0.7362838014085732,
            0.735414311798974,
            0.7281975480393009,
            0.736457699330493,
            0.5172593687505435,
            0.7350665159551343,
            0.7223719676549866,
            0.7368054951743327,
            0.735414311798974,
            0.7330666898530562,
            0.736457699330493,
            0.7359360055647335,
            0.7275019563516216,
            0.7340231284236154,
            0.7349795669941744,
            0.736370750369533,
            0.7351534649160942,
            0.735414311798974,
            0.7356751586818537,
            0.7335883836188157,
            0.7371532910181723,
            0.7348926180332145,
            0.7366315972524128,
            0.7351534649160942,
            0.7294148334927397,
            0.7370663420572124,
            0.736457699330493,
            0.7248934875228241,
            0.7371532910181723,
            0.7355882097208938,
            0.7368054951743327,
            0.7356751586818537,
            0.731240761672898,
            0.734370924267455,
            0.7361968524476132,
            0.7335014346578559,
            0.7242848447961047,
            0.7362838014085732,
            0.7221111207721068,
            0.7361968524476132,
            0.7350665159551343,
            0.7367185462133727,
            0.7349795669941744,
            0.698895748195809,
            0.7368924441352925,
            0.7342839753064951,
            0.7355012607599339,
            0.7305451699852187,
            0.7361099034866533,
            0.7368054951743327,
            0.7344578732284149,
            0.7347187201112947,
            0.7361968524476132,
            0.7355882097208938,
            0.5172593687505435,
            0.7369793930962525,
            0.7341100773845752,
            0.7378488827058517,
            0.7372402399791322,
            0.7357621076428137,
            0.7351534649160942,
            0.7150682549343536,
            0.7266324667420224,
            0.7334144856968959,
            0.7362838014085732,
            0.7273280584297017,
            0.6661159899139205,
            0.7355012607599339,
            0.7249804364837841,
            0.5172593687505435,
            0.735327362838014,
            0.7218502738892271,
            0.7371532910181723,
            0.7282844970002609,
            0.7369793930962525,
            0.7373271889400922,
            0.7352404138770542,
            0.7237631510303452,
            0.7361968524476132,
            0.7319363533605774,
            0.7362838014085732,
            0.736457699330493,
            0.7309799147900182,
            0.7266324667420224,
            0.7337622815407356,
            0.7360229545256934,
            0.7284583949221807,
            0.7241978958351448,
            0.7254151812885836,
            0.7217633249282671,
            0.5172593687505435,
            0.7326319450482567,
            0.7228936614207461,
            0.7251543344057039,
            0.732284149204417,
            0.7375880358229719,
            0.7365446482914529,
            0.728110599078341,
            0.7360229545256934,
            0.7365446482914529,
            0.7299365272584992,
            0.7358490566037735,
            0.7268063646639422,
            0.7340231284236154,
            0.7184592644117903,
            0.7244587427180246,
            0.7293278845317799,
            0.7368054951743327,
            0.7298495782975394,
            0.7355012607599339,
            0.7371532910181723,
            0.7371532910181723,
            0.7221111207721068,
            0.7284583949221807,
            0.7368924441352925,
            0.7366315972524128,
            0.7368054951743327,
            0.7319363533605774,
            0.7358490566037735,
            0.7352404138770542,
            0.7351534649160942,
            0.7258499260933832,
            0.7305451699852187,
            0.7341100773845752,
            0.7311538127119381,
            0.7351534649160942,
            0.7273280584297017
           ]
          },
          {
           "label": "c",
           "range": [
            -9.93064237173802,
            9.914145312331376
           ],
           "ticktext": [
            "1.17e-10",
            "1e-09",
            "1e-08",
            "1e-07",
            "1e-06",
            "1e-05",
            "0.0001",
            "0.001",
            "0.01",
            "0.1",
            "1",
            "10",
            "100",
            "1e+03",
            "1e+04",
            "1e+05",
            "1e+06",
            "1e+07",
            "1e+08",
            "1e+09",
            "8.21e+09"
           ],
           "tickvals": [
            -9.93064237173802,
            -9,
            -8,
            -7,
            -6,
            -5,
            -4,
            -3,
            -2,
            -1,
            0,
            1,
            2,
            3,
            4,
            5,
            6,
            7,
            8,
            9,
            9.914145312331376
           ],
           "values": [
            -7.419195675265641,
            8.024830159742297,
            4.903672139897288,
            -6.436331340244172,
            5.603670952167706,
            5.591640945512067,
            -1.5138908839335687,
            -1.1786417979651296,
            -9.04456471162799,
            -3.455644423720012,
            2.282007472287382,
            9.914145312331376,
            -4.730150848434287,
            -9.93064237173802,
            1.731495028348771,
            8.289895685266767,
            1.400376362043987,
            -3.600756776880977,
            9.82888103710102,
            3.690392746937248,
            -8.013045749279165,
            0.017038754918851776,
            -5.00121544566308,
            8.328428377851942,
            7.016771462697618,
            0.10174797993416235,
            -6.69543135206144,
            3.5515049859397934,
            -9.910213511467209,
            -2.136597479553602,
            -2.1932954364859,
            -2.234208693602972,
            -1.8315810558983328,
            -2.577121649194525,
            -5.328680224546229,
            -3.5290248725056834,
            -0.4062580659334086,
            -2.433858187122042,
            0.8200511610264888,
            -5.847874386150359,
            -0.7622854033223717,
            2.805906736381088,
            -7.9288669702659655,
            -2.467879099998762,
            -4.336631727960059,
            -1.5876073749584019,
            0.5631591330349576,
            -1.5002544173857533,
            -1.5971788563561324,
            -0.9828203152398877,
            -3.97797561738704,
            -1.8842678753579913,
            -2.9734850055680453,
            -1.3307679567610684,
            -2.02259023069225,
            -3.1622150686085684,
            1.2572194039851405,
            -0.4249654826722698,
            -1.321139997785997,
            0.5033255017917336,
            -4.0634382196716565,
            1.9546168842777736,
            -4.617362734531768,
            -6.719009249156815,
            -2.910896862768636,
            -5.899869175165483,
            2.8712906369377817,
            -0.3457956794498794,
            -1.6128630868276022,
            -1.9155081119704398,
            -3.3990045072994715,
            -1.2282336844551651,
            -2.3811935773803685,
            0.06118554374286571,
            -0.8179438247248905,
            1.1891200971792728,
            -2.7510869076979265,
            -5.244773329890476,
            -3.838107196404797,
            0.237929532477494,
            -1.5666024520592037,
            -0.5504527701316382,
            -2.218303615022997,
            -2.298611713803866,
            -4.582559180880973,
            -3.3594089100674855,
            -2.3347267444886723,
            -2.1027813956935186,
            -1.516978663419972,
            -2.962968459053913,
            -1.7456373161362289,
            -0.6884312619182268,
            -1.1148200881054882,
            -3.6897777253575086,
            -4.216777458345221,
            -2.642176649172735,
            -0.1912836756985689,
            -1.0072283269202427,
            0.8669619361342283
           ]
          },
          {
           "label": "classifier",
           "range": [
            0,
            2
           ],
           "ticktext": [
            "LogisticRegression",
            "RidgeClassifier",
            "LinearSVC"
           ],
           "tickvals": [
            0,
            1,
            2
           ],
           "values": [
            0,
            0,
            1,
            2,
            0,
            0,
            1,
            1,
            1,
            2,
            1,
            1,
            1,
            1,
            1,
            1,
            2,
            1,
            1,
            1,
            2,
            1,
            1,
            1,
            1,
            1,
            1,
            1,
            1,
            0,
            1,
            1,
            1,
            1,
            1,
            0,
            1,
            2,
            0,
            1,
            1,
            1,
            1,
            1,
            1,
            1,
            1,
            1,
            2,
            1,
            1,
            1,
            1,
            1,
            1,
            1,
            1,
            0,
            1,
            1,
            2,
            1,
            1,
            1,
            1,
            1,
            1,
            1,
            1,
            1,
            1,
            1,
            1,
            1,
            1,
            1,
            1,
            0,
            1,
            1,
            1,
            1,
            1,
            1,
            1,
            1,
            1,
            1,
            2,
            1,
            1,
            1,
            1,
            1,
            1,
            1,
            1,
            1,
            1,
            1,
            0,
            1,
            1,
            1,
            1,
            1,
            1,
            1,
            1,
            1,
            1,
            1,
            1,
            1,
            1,
            1,
            2,
            1,
            1,
            1,
            1,
            1,
            1,
            1,
            1,
            1,
            1,
            1,
            1,
            1,
            1,
            1,
            1,
            1,
            1,
            1,
            0,
            1,
            1,
            1,
            1,
            1,
            1,
            1,
            1,
            1,
            1,
            1,
            1,
            2,
            1,
            1,
            1,
            1,
            1,
            1,
            1,
            1,
            1,
            1,
            1,
            1,
            1,
            1,
            1,
            1,
            1,
            1,
            1,
            1,
            1,
            1,
            1,
            1,
            1,
            1,
            0,
            1,
            1,
            1,
            1,
            1,
            1,
            1,
            1,
            1,
            1,
            1,
            1,
            1,
            1,
            1,
            1,
            1,
            1,
            1,
            1,
            1,
            2,
            1,
            1,
            1,
            1,
            1,
            1,
            1,
            1,
            1,
            1,
            1,
            1,
            1,
            1,
            1,
            1,
            1,
            1,
            1,
            1,
            1,
            1,
            1,
            1,
            1,
            1,
            1,
            1,
            0,
            1,
            1,
            1,
            1,
            1,
            1,
            1,
            1,
            1,
            1,
            1,
            1,
            1,
            1,
            1,
            1,
            1,
            1,
            1,
            1,
            1,
            1,
            2,
            1,
            1,
            1,
            1,
            1,
            1,
            1,
            1,
            1,
            1,
            1,
            1,
            1,
            1,
            1,
            1,
            1,
            1,
            1,
            1,
            0,
            1,
            1,
            1,
            1,
            1,
            1,
            1,
            2,
            1,
            1,
            1,
            1,
            1,
            1,
            1,
            1,
            1,
            1,
            1,
            1,
            1,
            1,
            1,
            1,
            1,
            1,
            1,
            1,
            0,
            1,
            1,
            1,
            1,
            1,
            1,
            1,
            1,
            1,
            1,
            2,
            1,
            1,
            1,
            1,
            1,
            1,
            1,
            1,
            1,
            1,
            1,
            1,
            1,
            1,
            1,
            1,
            0,
            1,
            0,
            0,
            0,
            0,
            0,
            0,
            0,
            0,
            0,
            0,
            0,
            0,
            0,
            0,
            0,
            0,
            0,
            0,
            0,
            0,
            0,
            0,
            0,
            0,
            0,
            0,
            0,
            0,
            0,
            0,
            0,
            0,
            0,
            0,
            0,
            2,
            0,
            0,
            0,
            0,
            0,
            0,
            0,
            0,
            0,
            0,
            0,
            0,
            0,
            0,
            0,
            1,
            0,
            0,
            0,
            0,
            0,
            0,
            0,
            0,
            0,
            0,
            0,
            0,
            0,
            2,
            0,
            0,
            0,
            0
           ]
          }
         ],
         "labelangle": 30,
         "labelside": "bottom",
         "line": {
          "color": [
           0.5172593687505435,
           0.7250673854447439,
           0.5172593687505435,
           0.6829840883401443,
           0.5216937657594992,
           0.7250673854447439,
           0.5172593687505435,
           0.7362838014085732,
           0.7200243457090688,
           0.6747239370489523,
           0.7274150073906617,
           0.7274150073906617,
           0.7274150073906617,
           0.7288061907660204,
           0.7309799147900182,
           0.7361099034866533,
           0.7337622815407356,
           0.735414311798974,
           0.7287192418050604,
           0.7275019563516216,
           0.7318494043996174,
           0.7368054951743327,
           0.736457699330493,
           0.7215024780453874,
           0.7275019563516216,
           0.6859403530127814,
           0.735327362838014,
           0.7293278845317799,
           0.7279367011564212,
           0.5172593687505435,
           0.5172593687505435,
           0.7359360055647335,
           0.7321972002434571,
           0.7337622815407356,
           0.7285453438831406,
           0.7276758542735414,
           0.7239370489522651,
           0.6847230675593426,
           0.7248934875228241,
           0.7362838014085732,
           0.7274150073906617,
           0.736370750369533,
           0.735414311798974,
           0.5389966089905226,
           0.7337622815407356,
           0.5172593687505435,
           0.7219372228501869,
           0.7355882097208938,
           0.7244587427180246,
           0.7274150073906617,
           0.7097643683157986,
           0.7358490566037735,
           0.7299365272584992,
           0.726023824015303,
           0.7361099034866533,
           0.7359360055647335,
           0.7289800886879402,
           0.5172593687505435,
           0.7341970263455352,
           0.7356751586818537,
           0.7258499260933832,
           0.7365446482914529,
           0.7248065385618642,
           0.7350665159551343,
           0.7367185462133727,
           0.7205460394748283,
           0.7317624554386575,
           0.7305451699852187,
           0.7274150073906617,
           0.735327362838014,
           0.7297626293365794,
           0.7367185462133727,
           0.7371532910181723,
           0.7370663420572124,
           0.734370924267455,
           0.7327188940092166,
           0.7368924441352925,
           0.7248065385618642,
           0.7217633249282671,
           0.7275889053125815,
           0.7358490566037735,
           0.736370750369533,
           0.7345448221893749,
           0.7328058429701765,
           0.7261977219372229,
           0.7282844970002609,
           0.7365446482914529,
           0.7305451699852187,
           0.7255890792105034,
           0.7218502738892271,
           0.7347187201112947,
           0.7368924441352925,
           0.7347187201112947,
           0.7372402399791322,
           0.7369793930962525,
           0.7237631510303452,
           0.7341970263455352,
           0.7352404138770542,
           0.7274150073906617,
           0.7295017824536997,
           0.7262846708981827,
           0.7361968524476132,
           0.7370663420572124,
           0.7362838014085732,
           0.7287192418050604,
           0.7368924441352925,
           0.7328927919311364,
           0.735414311798974,
           0.7355882097208938,
           0.7362838014085732,
           0.7287192418050604,
           0.7365446482914529,
           0.7334144856968959,
           0.7359360055647335,
           0.7345448221893749,
           0.7359360055647335,
           0.6747239370489523,
           0.7305451699852187,
           0.7264585688201026,
           0.7358490566037735,
           0.7346317711503347,
           0.736457699330493,
           0.736457699330493,
           0.7337622815407356,
           0.7328927919311364,
           0.7361099034866533,
           0.7238500999913051,
           0.735327362838014,
           0.7355882097208938,
           0.7334144856968959,
           0.7358490566037735,
           0.7365446482914529,
           0.7369793930962525,
           0.7342839753064951,
           0.735414311798974,
           0.7289800886879402,
           0.7248065385618642,
           0.7361968524476132,
           0.7336753325797757,
           0.7368054951743327,
           0.7299365272584992,
           0.7370663420572124,
           0.7350665159551343,
           0.7362838014085732,
           0.7351534649160942,
           0.7365446482914529,
           0.7345448221893749,
           0.7265455177810625,
           0.7327188940092166,
           0.7221111207721068,
           0.7348926180332145,
           0.7368054951743327,
           0.7359360055647335,
           0.7371532910181723,
           0.7344578732284149,
           0.7366315972524128,
           0.7349795669941744,
           0.7329797408920964,
           0.735327362838014,
           0.7335014346578559,
           0.7359360055647335,
           0.7369793930962525,
           0.736457699330493,
           0.7355012607599339,
           0.7301104251804191,
           0.7351534649160942,
           0.7341100773845752,
           0.7367185462133727,
           0.7359360055647335,
           0.7274150073906617,
           0.7369793930962525,
           0.7355882097208938,
           0.7367185462133727,
           0.7346317711503347,
           0.736457699330493,
           0.7330666898530562,
           0.7299365272584992,
           0.7361968524476132,
           0.7248065385618642,
           0.7350665159551343,
           0.7370663420572124,
           0.736457699330493,
           0.7358490566037735,
           0.7367185462133727,
           0.7358490566037735,
           0.7355012607599339,
           0.7342839753064951,
           0.7361968524476132,
           0.7320233023215372,
           0.7317624554386575,
           0.736457699330493,
           0.7361099034866533,
           0.7355012607599339,
           0.7371532910181723,
           0.7342839753064951,
           0.7362838014085732,
           0.7348056690722546,
           0.736370750369533,
           0.7237631510303452,
           0.7361968524476132,
           0.7368924441352925,
           0.7355882097208938,
           0.7369793930962525,
           0.7335014346578559,
           0.736457699330493,
           0.7359360055647335,
           0.735414311798974,
           0.7277628032345014,
           0.7347187201112947,
           0.7361968524476132,
           0.7341100773845752,
           0.7369793930962525,
           0.7361099034866533,
           0.7361968524476132,
           0.7368054951743327,
           0.7358490566037735,
           0.734370924267455,
           0.7366315972524128,
           0.7351534649160942,
           0.7350665159551343,
           0.7323710981653769,
           0.7365446482914529,
           0.7369793930962525,
           0.7360229545256934,
           0.7355012607599339,
           0.7367185462133727,
           0.735327362838014,
           0.7249804364837841,
           0.735414311798974,
           0.7357621076428137,
           0.736457699330493,
           0.736370750369533,
           0.736370750369533,
           0.7369793930962525,
           0.7347187201112947,
           0.7361099034866533,
           0.7365446482914529,
           0.7349795669941744,
           0.736457699330493,
           0.7341100773845752,
           0.7336753325797757,
           0.736370750369533,
           0.7361968524476132,
           0.7365446482914529,
           0.517781062516303,
           0.7359360055647335,
           0.7370663420572124,
           0.7350665159551343,
           0.7361968524476132,
           0.735414311798974,
           0.6747239370489523,
           0.7361968524476132,
           0.7368054951743327,
           0.7331536388140162,
           0.7346317711503347,
           0.735327362838014,
           0.7362838014085732,
           0.7299365272584992,
           0.736457699330493,
           0.7361099034866533,
           0.7274150073906617,
           0.7357621076428137,
           0.7341970263455352,
           0.7365446482914529,
           0.7352404138770542,
           0.7358490566037735,
           0.7335014346578559,
           0.7355882097208938,
           0.7368054951743327,
           0.7368054951743327,
           0.7358490566037735,
           0.7295887314146596,
           0.7345448221893749,
           0.7362838014085732,
           0.735414311798974,
           0.7281975480393009,
           0.736457699330493,
           0.5172593687505435,
           0.7350665159551343,
           0.7223719676549866,
           0.7368054951743327,
           0.735414311798974,
           0.7330666898530562,
           0.736457699330493,
           0.7359360055647335,
           0.7275019563516216,
           0.7340231284236154,
           0.7349795669941744,
           0.736370750369533,
           0.7351534649160942,
           0.735414311798974,
           0.7356751586818537,
           0.7335883836188157,
           0.7371532910181723,
           0.7348926180332145,
           0.7366315972524128,
           0.7351534649160942,
           0.7294148334927397,
           0.7370663420572124,
           0.736457699330493,
           0.7248934875228241,
           0.7371532910181723,
           0.7355882097208938,
           0.7368054951743327,
           0.7356751586818537,
           0.731240761672898,
           0.734370924267455,
           0.7361968524476132,
           0.7335014346578559,
           0.7242848447961047,
           0.7362838014085732,
           0.7221111207721068,
           0.7361968524476132,
           0.7350665159551343,
           0.7367185462133727,
           0.7349795669941744,
           0.698895748195809,
           0.7368924441352925,
           0.7342839753064951,
           0.7355012607599339,
           0.7305451699852187,
           0.7361099034866533,
           0.7368054951743327,
           0.7344578732284149,
           0.7347187201112947,
           0.7361968524476132,
           0.7355882097208938,
           0.5172593687505435,
           0.7369793930962525,
           0.7341100773845752,
           0.7378488827058517,
           0.7372402399791322,
           0.7357621076428137,
           0.7351534649160942,
           0.7150682549343536,
           0.7266324667420224,
           0.7334144856968959,
           0.7362838014085732,
           0.7273280584297017,
           0.6661159899139205,
           0.7355012607599339,
           0.7249804364837841,
           0.5172593687505435,
           0.735327362838014,
           0.7218502738892271,
           0.7371532910181723,
           0.7282844970002609,
           0.7369793930962525,
           0.7373271889400922,
           0.7352404138770542,
           0.7237631510303452,
           0.7361968524476132,
           0.7319363533605774,
           0.7362838014085732,
           0.736457699330493,
           0.7309799147900182,
           0.7266324667420224,
           0.7337622815407356,
           0.7360229545256934,
           0.7284583949221807,
           0.7241978958351448,
           0.7254151812885836,
           0.7217633249282671,
           0.5172593687505435,
           0.7326319450482567,
           0.7228936614207461,
           0.7251543344057039,
           0.732284149204417,
           0.7375880358229719,
           0.7365446482914529,
           0.728110599078341,
           0.7360229545256934,
           0.7365446482914529,
           0.7299365272584992,
           0.7358490566037735,
           0.7268063646639422,
           0.7340231284236154,
           0.7184592644117903,
           0.7244587427180246,
           0.7293278845317799,
           0.7368054951743327,
           0.7298495782975394,
           0.7355012607599339,
           0.7371532910181723,
           0.7371532910181723,
           0.7221111207721068,
           0.7284583949221807,
           0.7368924441352925,
           0.7366315972524128,
           0.7368054951743327,
           0.7319363533605774,
           0.7358490566037735,
           0.7352404138770542,
           0.7351534649160942,
           0.7258499260933832,
           0.7305451699852187,
           0.7341100773845752,
           0.7311538127119381,
           0.7351534649160942,
           0.7273280584297017
          ],
          "colorbar": {
           "title": {
            "text": "Objective Value"
           }
          },
          "colorscale": [
           [
            0,
            "rgb(247,251,255)"
           ],
           [
            0.125,
            "rgb(222,235,247)"
           ],
           [
            0.25,
            "rgb(198,219,239)"
           ],
           [
            0.375,
            "rgb(158,202,225)"
           ],
           [
            0.5,
            "rgb(107,174,214)"
           ],
           [
            0.625,
            "rgb(66,146,198)"
           ],
           [
            0.75,
            "rgb(33,113,181)"
           ],
           [
            0.875,
            "rgb(8,81,156)"
           ],
           [
            1,
            "rgb(8,48,107)"
           ]
          ],
          "reversescale": false,
          "showscale": true
         },
         "type": "parcoords"
        }
       ],
       "layout": {
        "template": {
         "data": {
          "bar": [
           {
            "error_x": {
             "color": "#2a3f5f"
            },
            "error_y": {
             "color": "#2a3f5f"
            },
            "marker": {
             "line": {
              "color": "#E5ECF6",
              "width": 0.5
             }
            },
            "type": "bar"
           }
          ],
          "barpolar": [
           {
            "marker": {
             "line": {
              "color": "#E5ECF6",
              "width": 0.5
             }
            },
            "type": "barpolar"
           }
          ],
          "carpet": [
           {
            "aaxis": {
             "endlinecolor": "#2a3f5f",
             "gridcolor": "white",
             "linecolor": "white",
             "minorgridcolor": "white",
             "startlinecolor": "#2a3f5f"
            },
            "baxis": {
             "endlinecolor": "#2a3f5f",
             "gridcolor": "white",
             "linecolor": "white",
             "minorgridcolor": "white",
             "startlinecolor": "#2a3f5f"
            },
            "type": "carpet"
           }
          ],
          "choropleth": [
           {
            "colorbar": {
             "outlinewidth": 0,
             "ticks": ""
            },
            "type": "choropleth"
           }
          ],
          "contour": [
           {
            "colorbar": {
             "outlinewidth": 0,
             "ticks": ""
            },
            "colorscale": [
             [
              0,
              "#0d0887"
             ],
             [
              0.1111111111111111,
              "#46039f"
             ],
             [
              0.2222222222222222,
              "#7201a8"
             ],
             [
              0.3333333333333333,
              "#9c179e"
             ],
             [
              0.4444444444444444,
              "#bd3786"
             ],
             [
              0.5555555555555556,
              "#d8576b"
             ],
             [
              0.6666666666666666,
              "#ed7953"
             ],
             [
              0.7777777777777778,
              "#fb9f3a"
             ],
             [
              0.8888888888888888,
              "#fdca26"
             ],
             [
              1,
              "#f0f921"
             ]
            ],
            "type": "contour"
           }
          ],
          "contourcarpet": [
           {
            "colorbar": {
             "outlinewidth": 0,
             "ticks": ""
            },
            "type": "contourcarpet"
           }
          ],
          "heatmap": [
           {
            "colorbar": {
             "outlinewidth": 0,
             "ticks": ""
            },
            "colorscale": [
             [
              0,
              "#0d0887"
             ],
             [
              0.1111111111111111,
              "#46039f"
             ],
             [
              0.2222222222222222,
              "#7201a8"
             ],
             [
              0.3333333333333333,
              "#9c179e"
             ],
             [
              0.4444444444444444,
              "#bd3786"
             ],
             [
              0.5555555555555556,
              "#d8576b"
             ],
             [
              0.6666666666666666,
              "#ed7953"
             ],
             [
              0.7777777777777778,
              "#fb9f3a"
             ],
             [
              0.8888888888888888,
              "#fdca26"
             ],
             [
              1,
              "#f0f921"
             ]
            ],
            "type": "heatmap"
           }
          ],
          "heatmapgl": [
           {
            "colorbar": {
             "outlinewidth": 0,
             "ticks": ""
            },
            "colorscale": [
             [
              0,
              "#0d0887"
             ],
             [
              0.1111111111111111,
              "#46039f"
             ],
             [
              0.2222222222222222,
              "#7201a8"
             ],
             [
              0.3333333333333333,
              "#9c179e"
             ],
             [
              0.4444444444444444,
              "#bd3786"
             ],
             [
              0.5555555555555556,
              "#d8576b"
             ],
             [
              0.6666666666666666,
              "#ed7953"
             ],
             [
              0.7777777777777778,
              "#fb9f3a"
             ],
             [
              0.8888888888888888,
              "#fdca26"
             ],
             [
              1,
              "#f0f921"
             ]
            ],
            "type": "heatmapgl"
           }
          ],
          "histogram": [
           {
            "marker": {
             "colorbar": {
              "outlinewidth": 0,
              "ticks": ""
             }
            },
            "type": "histogram"
           }
          ],
          "histogram2d": [
           {
            "colorbar": {
             "outlinewidth": 0,
             "ticks": ""
            },
            "colorscale": [
             [
              0,
              "#0d0887"
             ],
             [
              0.1111111111111111,
              "#46039f"
             ],
             [
              0.2222222222222222,
              "#7201a8"
             ],
             [
              0.3333333333333333,
              "#9c179e"
             ],
             [
              0.4444444444444444,
              "#bd3786"
             ],
             [
              0.5555555555555556,
              "#d8576b"
             ],
             [
              0.6666666666666666,
              "#ed7953"
             ],
             [
              0.7777777777777778,
              "#fb9f3a"
             ],
             [
              0.8888888888888888,
              "#fdca26"
             ],
             [
              1,
              "#f0f921"
             ]
            ],
            "type": "histogram2d"
           }
          ],
          "histogram2dcontour": [
           {
            "colorbar": {
             "outlinewidth": 0,
             "ticks": ""
            },
            "colorscale": [
             [
              0,
              "#0d0887"
             ],
             [
              0.1111111111111111,
              "#46039f"
             ],
             [
              0.2222222222222222,
              "#7201a8"
             ],
             [
              0.3333333333333333,
              "#9c179e"
             ],
             [
              0.4444444444444444,
              "#bd3786"
             ],
             [
              0.5555555555555556,
              "#d8576b"
             ],
             [
              0.6666666666666666,
              "#ed7953"
             ],
             [
              0.7777777777777778,
              "#fb9f3a"
             ],
             [
              0.8888888888888888,
              "#fdca26"
             ],
             [
              1,
              "#f0f921"
             ]
            ],
            "type": "histogram2dcontour"
           }
          ],
          "mesh3d": [
           {
            "colorbar": {
             "outlinewidth": 0,
             "ticks": ""
            },
            "type": "mesh3d"
           }
          ],
          "parcoords": [
           {
            "line": {
             "colorbar": {
              "outlinewidth": 0,
              "ticks": ""
             }
            },
            "type": "parcoords"
           }
          ],
          "pie": [
           {
            "automargin": true,
            "type": "pie"
           }
          ],
          "scatter": [
           {
            "marker": {
             "colorbar": {
              "outlinewidth": 0,
              "ticks": ""
             }
            },
            "type": "scatter"
           }
          ],
          "scatter3d": [
           {
            "line": {
             "colorbar": {
              "outlinewidth": 0,
              "ticks": ""
             }
            },
            "marker": {
             "colorbar": {
              "outlinewidth": 0,
              "ticks": ""
             }
            },
            "type": "scatter3d"
           }
          ],
          "scattercarpet": [
           {
            "marker": {
             "colorbar": {
              "outlinewidth": 0,
              "ticks": ""
             }
            },
            "type": "scattercarpet"
           }
          ],
          "scattergeo": [
           {
            "marker": {
             "colorbar": {
              "outlinewidth": 0,
              "ticks": ""
             }
            },
            "type": "scattergeo"
           }
          ],
          "scattergl": [
           {
            "marker": {
             "colorbar": {
              "outlinewidth": 0,
              "ticks": ""
             }
            },
            "type": "scattergl"
           }
          ],
          "scattermapbox": [
           {
            "marker": {
             "colorbar": {
              "outlinewidth": 0,
              "ticks": ""
             }
            },
            "type": "scattermapbox"
           }
          ],
          "scatterpolar": [
           {
            "marker": {
             "colorbar": {
              "outlinewidth": 0,
              "ticks": ""
             }
            },
            "type": "scatterpolar"
           }
          ],
          "scatterpolargl": [
           {
            "marker": {
             "colorbar": {
              "outlinewidth": 0,
              "ticks": ""
             }
            },
            "type": "scatterpolargl"
           }
          ],
          "scatterternary": [
           {
            "marker": {
             "colorbar": {
              "outlinewidth": 0,
              "ticks": ""
             }
            },
            "type": "scatterternary"
           }
          ],
          "surface": [
           {
            "colorbar": {
             "outlinewidth": 0,
             "ticks": ""
            },
            "colorscale": [
             [
              0,
              "#0d0887"
             ],
             [
              0.1111111111111111,
              "#46039f"
             ],
             [
              0.2222222222222222,
              "#7201a8"
             ],
             [
              0.3333333333333333,
              "#9c179e"
             ],
             [
              0.4444444444444444,
              "#bd3786"
             ],
             [
              0.5555555555555556,
              "#d8576b"
             ],
             [
              0.6666666666666666,
              "#ed7953"
             ],
             [
              0.7777777777777778,
              "#fb9f3a"
             ],
             [
              0.8888888888888888,
              "#fdca26"
             ],
             [
              1,
              "#f0f921"
             ]
            ],
            "type": "surface"
           }
          ],
          "table": [
           {
            "cells": {
             "fill": {
              "color": "#EBF0F8"
             },
             "line": {
              "color": "white"
             }
            },
            "header": {
             "fill": {
              "color": "#C8D4E3"
             },
             "line": {
              "color": "white"
             }
            },
            "type": "table"
           }
          ]
         },
         "layout": {
          "annotationdefaults": {
           "arrowcolor": "#2a3f5f",
           "arrowhead": 0,
           "arrowwidth": 1
          },
          "autotypenumbers": "strict",
          "coloraxis": {
           "colorbar": {
            "outlinewidth": 0,
            "ticks": ""
           }
          },
          "colorscale": {
           "diverging": [
            [
             0,
             "#8e0152"
            ],
            [
             0.1,
             "#c51b7d"
            ],
            [
             0.2,
             "#de77ae"
            ],
            [
             0.3,
             "#f1b6da"
            ],
            [
             0.4,
             "#fde0ef"
            ],
            [
             0.5,
             "#f7f7f7"
            ],
            [
             0.6,
             "#e6f5d0"
            ],
            [
             0.7,
             "#b8e186"
            ],
            [
             0.8,
             "#7fbc41"
            ],
            [
             0.9,
             "#4d9221"
            ],
            [
             1,
             "#276419"
            ]
           ],
           "sequential": [
            [
             0,
             "#0d0887"
            ],
            [
             0.1111111111111111,
             "#46039f"
            ],
            [
             0.2222222222222222,
             "#7201a8"
            ],
            [
             0.3333333333333333,
             "#9c179e"
            ],
            [
             0.4444444444444444,
             "#bd3786"
            ],
            [
             0.5555555555555556,
             "#d8576b"
            ],
            [
             0.6666666666666666,
             "#ed7953"
            ],
            [
             0.7777777777777778,
             "#fb9f3a"
            ],
            [
             0.8888888888888888,
             "#fdca26"
            ],
            [
             1,
             "#f0f921"
            ]
           ],
           "sequentialminus": [
            [
             0,
             "#0d0887"
            ],
            [
             0.1111111111111111,
             "#46039f"
            ],
            [
             0.2222222222222222,
             "#7201a8"
            ],
            [
             0.3333333333333333,
             "#9c179e"
            ],
            [
             0.4444444444444444,
             "#bd3786"
            ],
            [
             0.5555555555555556,
             "#d8576b"
            ],
            [
             0.6666666666666666,
             "#ed7953"
            ],
            [
             0.7777777777777778,
             "#fb9f3a"
            ],
            [
             0.8888888888888888,
             "#fdca26"
            ],
            [
             1,
             "#f0f921"
            ]
           ]
          },
          "colorway": [
           "#636efa",
           "#EF553B",
           "#00cc96",
           "#ab63fa",
           "#FFA15A",
           "#19d3f3",
           "#FF6692",
           "#B6E880",
           "#FF97FF",
           "#FECB52"
          ],
          "font": {
           "color": "#2a3f5f"
          },
          "geo": {
           "bgcolor": "white",
           "lakecolor": "white",
           "landcolor": "#E5ECF6",
           "showlakes": true,
           "showland": true,
           "subunitcolor": "white"
          },
          "hoverlabel": {
           "align": "left"
          },
          "hovermode": "closest",
          "mapbox": {
           "style": "light"
          },
          "paper_bgcolor": "white",
          "plot_bgcolor": "#E5ECF6",
          "polar": {
           "angularaxis": {
            "gridcolor": "white",
            "linecolor": "white",
            "ticks": ""
           },
           "bgcolor": "#E5ECF6",
           "radialaxis": {
            "gridcolor": "white",
            "linecolor": "white",
            "ticks": ""
           }
          },
          "scene": {
           "xaxis": {
            "backgroundcolor": "#E5ECF6",
            "gridcolor": "white",
            "gridwidth": 2,
            "linecolor": "white",
            "showbackground": true,
            "ticks": "",
            "zerolinecolor": "white"
           },
           "yaxis": {
            "backgroundcolor": "#E5ECF6",
            "gridcolor": "white",
            "gridwidth": 2,
            "linecolor": "white",
            "showbackground": true,
            "ticks": "",
            "zerolinecolor": "white"
           },
           "zaxis": {
            "backgroundcolor": "#E5ECF6",
            "gridcolor": "white",
            "gridwidth": 2,
            "linecolor": "white",
            "showbackground": true,
            "ticks": "",
            "zerolinecolor": "white"
           }
          },
          "shapedefaults": {
           "line": {
            "color": "#2a3f5f"
           }
          },
          "ternary": {
           "aaxis": {
            "gridcolor": "white",
            "linecolor": "white",
            "ticks": ""
           },
           "baxis": {
            "gridcolor": "white",
            "linecolor": "white",
            "ticks": ""
           },
           "bgcolor": "#E5ECF6",
           "caxis": {
            "gridcolor": "white",
            "linecolor": "white",
            "ticks": ""
           }
          },
          "title": {
           "x": 0.05
          },
          "xaxis": {
           "automargin": true,
           "gridcolor": "white",
           "linecolor": "white",
           "ticks": "",
           "title": {
            "standoff": 15
           },
           "zerolinecolor": "white",
           "zerolinewidth": 2
          },
          "yaxis": {
           "automargin": true,
           "gridcolor": "white",
           "linecolor": "white",
           "ticks": "",
           "title": {
            "standoff": 15
           },
           "zerolinecolor": "white",
           "zerolinewidth": 2
          }
         }
        },
        "title": {
         "text": "Parallel Coordinate Plot"
        }
       }
      },
      "text/html": [
       "<div>                            <div id=\"a869d129-d15e-4d7a-9777-8468692a3848\" class=\"plotly-graph-div\" style=\"height:525px; width:100%;\"></div>            <script type=\"text/javascript\">                require([\"plotly\"], function(Plotly) {                    window.PLOTLYENV=window.PLOTLYENV || {};                                    if (document.getElementById(\"a869d129-d15e-4d7a-9777-8468692a3848\")) {                    Plotly.newPlot(                        \"a869d129-d15e-4d7a-9777-8468692a3848\",                        [{\"dimensions\": [{\"label\": \"Objective Value\", \"range\": [0.5172593687505435, 0.7378488827058517], \"values\": [0.5172593687505435, 0.7250673854447439, 0.5172593687505435, 0.6829840883401443, 0.5216937657594992, 0.7250673854447439, 0.5172593687505435, 0.7362838014085732, 0.7200243457090688, 0.6747239370489523, 0.7274150073906617, 0.7274150073906617, 0.7274150073906617, 0.7288061907660204, 0.7309799147900182, 0.7361099034866533, 0.7337622815407356, 0.735414311798974, 0.7287192418050604, 0.7275019563516216, 0.7318494043996174, 0.7368054951743327, 0.736457699330493, 0.7215024780453874, 0.7275019563516216, 0.6859403530127814, 0.735327362838014, 0.7293278845317799, 0.7279367011564212, 0.5172593687505435, 0.5172593687505435, 0.7359360055647335, 0.7321972002434571, 0.7337622815407356, 0.7285453438831406, 0.7276758542735414, 0.7239370489522651, 0.6847230675593426, 0.7248934875228241, 0.7362838014085732, 0.7274150073906617, 0.736370750369533, 0.735414311798974, 0.5389966089905226, 0.7337622815407356, 0.5172593687505435, 0.7219372228501869, 0.7355882097208938, 0.7244587427180246, 0.7274150073906617, 0.7097643683157986, 0.7358490566037735, 0.7299365272584992, 0.726023824015303, 0.7361099034866533, 0.7359360055647335, 0.7289800886879402, 0.5172593687505435, 0.7341970263455352, 0.7356751586818537, 0.7258499260933832, 0.7365446482914529, 0.7248065385618642, 0.7350665159551343, 0.7367185462133727, 0.7205460394748283, 0.7317624554386575, 0.7305451699852187, 0.7274150073906617, 0.735327362838014, 0.7297626293365794, 0.7367185462133727, 0.7371532910181723, 0.7370663420572124, 0.734370924267455, 0.7327188940092166, 0.7368924441352925, 0.7248065385618642, 0.7217633249282671, 0.7275889053125815, 0.7358490566037735, 0.736370750369533, 0.7345448221893749, 0.7328058429701765, 0.7261977219372229, 0.7282844970002609, 0.7365446482914529, 0.7305451699852187, 0.7255890792105034, 0.7218502738892271, 0.7347187201112947, 0.7368924441352925, 0.7347187201112947, 0.7372402399791322, 0.7369793930962525, 0.7237631510303452, 0.7341970263455352, 0.7352404138770542, 0.7274150073906617, 0.7295017824536997, 0.7262846708981827, 0.7361968524476132, 0.7370663420572124, 0.7362838014085732, 0.7287192418050604, 0.7368924441352925, 0.7328927919311364, 0.735414311798974, 0.7355882097208938, 0.7362838014085732, 0.7287192418050604, 0.7365446482914529, 0.7334144856968959, 0.7359360055647335, 0.7345448221893749, 0.7359360055647335, 0.6747239370489523, 0.7305451699852187, 0.7264585688201026, 0.7358490566037735, 0.7346317711503347, 0.736457699330493, 0.736457699330493, 0.7337622815407356, 0.7328927919311364, 0.7361099034866533, 0.7238500999913051, 0.735327362838014, 0.7355882097208938, 0.7334144856968959, 0.7358490566037735, 0.7365446482914529, 0.7369793930962525, 0.7342839753064951, 0.735414311798974, 0.7289800886879402, 0.7248065385618642, 0.7361968524476132, 0.7336753325797757, 0.7368054951743327, 0.7299365272584992, 0.7370663420572124, 0.7350665159551343, 0.7362838014085732, 0.7351534649160942, 0.7365446482914529, 0.7345448221893749, 0.7265455177810625, 0.7327188940092166, 0.7221111207721068, 0.7348926180332145, 0.7368054951743327, 0.7359360055647335, 0.7371532910181723, 0.7344578732284149, 0.7366315972524128, 0.7349795669941744, 0.7329797408920964, 0.735327362838014, 0.7335014346578559, 0.7359360055647335, 0.7369793930962525, 0.736457699330493, 0.7355012607599339, 0.7301104251804191, 0.7351534649160942, 0.7341100773845752, 0.7367185462133727, 0.7359360055647335, 0.7274150073906617, 0.7369793930962525, 0.7355882097208938, 0.7367185462133727, 0.7346317711503347, 0.736457699330493, 0.7330666898530562, 0.7299365272584992, 0.7361968524476132, 0.7248065385618642, 0.7350665159551343, 0.7370663420572124, 0.736457699330493, 0.7358490566037735, 0.7367185462133727, 0.7358490566037735, 0.7355012607599339, 0.7342839753064951, 0.7361968524476132, 0.7320233023215372, 0.7317624554386575, 0.736457699330493, 0.7361099034866533, 0.7355012607599339, 0.7371532910181723, 0.7342839753064951, 0.7362838014085732, 0.7348056690722546, 0.736370750369533, 0.7237631510303452, 0.7361968524476132, 0.7368924441352925, 0.7355882097208938, 0.7369793930962525, 0.7335014346578559, 0.736457699330493, 0.7359360055647335, 0.735414311798974, 0.7277628032345014, 0.7347187201112947, 0.7361968524476132, 0.7341100773845752, 0.7369793930962525, 0.7361099034866533, 0.7361968524476132, 0.7368054951743327, 0.7358490566037735, 0.734370924267455, 0.7366315972524128, 0.7351534649160942, 0.7350665159551343, 0.7323710981653769, 0.7365446482914529, 0.7369793930962525, 0.7360229545256934, 0.7355012607599339, 0.7367185462133727, 0.735327362838014, 0.7249804364837841, 0.735414311798974, 0.7357621076428137, 0.736457699330493, 0.736370750369533, 0.736370750369533, 0.7369793930962525, 0.7347187201112947, 0.7361099034866533, 0.7365446482914529, 0.7349795669941744, 0.736457699330493, 0.7341100773845752, 0.7336753325797757, 0.736370750369533, 0.7361968524476132, 0.7365446482914529, 0.517781062516303, 0.7359360055647335, 0.7370663420572124, 0.7350665159551343, 0.7361968524476132, 0.735414311798974, 0.6747239370489523, 0.7361968524476132, 0.7368054951743327, 0.7331536388140162, 0.7346317711503347, 0.735327362838014, 0.7362838014085732, 0.7299365272584992, 0.736457699330493, 0.7361099034866533, 0.7274150073906617, 0.7357621076428137, 0.7341970263455352, 0.7365446482914529, 0.7352404138770542, 0.7358490566037735, 0.7335014346578559, 0.7355882097208938, 0.7368054951743327, 0.7368054951743327, 0.7358490566037735, 0.7295887314146596, 0.7345448221893749, 0.7362838014085732, 0.735414311798974, 0.7281975480393009, 0.736457699330493, 0.5172593687505435, 0.7350665159551343, 0.7223719676549866, 0.7368054951743327, 0.735414311798974, 0.7330666898530562, 0.736457699330493, 0.7359360055647335, 0.7275019563516216, 0.7340231284236154, 0.7349795669941744, 0.736370750369533, 0.7351534649160942, 0.735414311798974, 0.7356751586818537, 0.7335883836188157, 0.7371532910181723, 0.7348926180332145, 0.7366315972524128, 0.7351534649160942, 0.7294148334927397, 0.7370663420572124, 0.736457699330493, 0.7248934875228241, 0.7371532910181723, 0.7355882097208938, 0.7368054951743327, 0.7356751586818537, 0.731240761672898, 0.734370924267455, 0.7361968524476132, 0.7335014346578559, 0.7242848447961047, 0.7362838014085732, 0.7221111207721068, 0.7361968524476132, 0.7350665159551343, 0.7367185462133727, 0.7349795669941744, 0.698895748195809, 0.7368924441352925, 0.7342839753064951, 0.7355012607599339, 0.7305451699852187, 0.7361099034866533, 0.7368054951743327, 0.7344578732284149, 0.7347187201112947, 0.7361968524476132, 0.7355882097208938, 0.5172593687505435, 0.7369793930962525, 0.7341100773845752, 0.7378488827058517, 0.7372402399791322, 0.7357621076428137, 0.7351534649160942, 0.7150682549343536, 0.7266324667420224, 0.7334144856968959, 0.7362838014085732, 0.7273280584297017, 0.6661159899139205, 0.7355012607599339, 0.7249804364837841, 0.5172593687505435, 0.735327362838014, 0.7218502738892271, 0.7371532910181723, 0.7282844970002609, 0.7369793930962525, 0.7373271889400922, 0.7352404138770542, 0.7237631510303452, 0.7361968524476132, 0.7319363533605774, 0.7362838014085732, 0.736457699330493, 0.7309799147900182, 0.7266324667420224, 0.7337622815407356, 0.7360229545256934, 0.7284583949221807, 0.7241978958351448, 0.7254151812885836, 0.7217633249282671, 0.5172593687505435, 0.7326319450482567, 0.7228936614207461, 0.7251543344057039, 0.732284149204417, 0.7375880358229719, 0.7365446482914529, 0.728110599078341, 0.7360229545256934, 0.7365446482914529, 0.7299365272584992, 0.7358490566037735, 0.7268063646639422, 0.7340231284236154, 0.7184592644117903, 0.7244587427180246, 0.7293278845317799, 0.7368054951743327, 0.7298495782975394, 0.7355012607599339, 0.7371532910181723, 0.7371532910181723, 0.7221111207721068, 0.7284583949221807, 0.7368924441352925, 0.7366315972524128, 0.7368054951743327, 0.7319363533605774, 0.7358490566037735, 0.7352404138770542, 0.7351534649160942, 0.7258499260933832, 0.7305451699852187, 0.7341100773845752, 0.7311538127119381, 0.7351534649160942, 0.7273280584297017]}, {\"label\": \"c\", \"range\": [-9.93064237173802, 9.914145312331376], \"ticktext\": [\"1.17e-10\", \"1e-09\", \"1e-08\", \"1e-07\", \"1e-06\", \"1e-05\", \"0.0001\", \"0.001\", \"0.01\", \"0.1\", \"1\", \"10\", \"100\", \"1e+03\", \"1e+04\", \"1e+05\", \"1e+06\", \"1e+07\", \"1e+08\", \"1e+09\", \"8.21e+09\"], \"tickvals\": [-9.93064237173802, -9, -8, -7, -6, -5, -4, -3, -2, -1, 0, 1, 2, 3, 4, 5, 6, 7, 8, 9, 9.914145312331376], \"values\": [-7.419195675265641, 8.024830159742297, 4.903672139897288, -6.436331340244172, 5.603670952167706, 5.591640945512067, -1.5138908839335687, -1.1786417979651296, -9.04456471162799, -3.455644423720012, 2.282007472287382, 9.914145312331376, -4.730150848434287, -9.93064237173802, 1.731495028348771, 8.289895685266767, 1.400376362043987, -3.600756776880977, 9.82888103710102, 3.690392746937248, -8.013045749279165, 0.017038754918851776, -5.00121544566308, 8.328428377851942, 7.016771462697618, 0.10174797993416235, -6.69543135206144, 3.5515049859397934, -9.910213511467209, -2.136597479553602, -2.1932954364859, -2.234208693602972, -1.8315810558983328, -2.577121649194525, -5.328680224546229, -3.5290248725056834, -0.4062580659334086, -2.433858187122042, 0.8200511610264888, -5.847874386150359, -0.7622854033223717, 2.805906736381088, -7.9288669702659655, -2.467879099998762, -4.336631727960059, -1.5876073749584019, 0.5631591330349576, -1.5002544173857533, -1.5971788563561324, -0.9828203152398877, -3.97797561738704, -1.8842678753579913, -2.9734850055680453, -1.3307679567610684, -2.02259023069225, -3.1622150686085684, 1.2572194039851405, -0.4249654826722698, -1.321139997785997, 0.5033255017917336, -4.0634382196716565, 1.9546168842777736, -4.617362734531768, -6.719009249156815, -2.910896862768636, -5.899869175165483, 2.8712906369377817, -0.3457956794498794, -1.6128630868276022, -1.9155081119704398, -3.3990045072994715, -1.2282336844551651, -2.3811935773803685, 0.06118554374286571, -0.8179438247248905, 1.1891200971792728, -2.7510869076979265, -5.244773329890476, -3.838107196404797, 0.237929532477494, -1.5666024520592037, -0.5504527701316382, -2.218303615022997, -2.298611713803866, -4.582559180880973, -3.3594089100674855, -2.3347267444886723, -2.1027813956935186, -1.516978663419972, -2.962968459053913, -1.7456373161362289, -0.6884312619182268, -1.1148200881054882, -3.6897777253575086, -4.216777458345221, -2.642176649172735, -0.1912836756985689, -1.0072283269202427, 0.8669619361342283]}, {\"label\": \"classifier\", \"range\": [0, 2], \"ticktext\": [\"LogisticRegression\", \"RidgeClassifier\", \"LinearSVC\"], \"tickvals\": [0, 1, 2], \"values\": [0, 0, 1, 2, 0, 0, 1, 1, 1, 2, 1, 1, 1, 1, 1, 1, 2, 1, 1, 1, 2, 1, 1, 1, 1, 1, 1, 1, 1, 0, 1, 1, 1, 1, 1, 0, 1, 2, 0, 1, 1, 1, 1, 1, 1, 1, 1, 1, 2, 1, 1, 1, 1, 1, 1, 1, 1, 0, 1, 1, 2, 1, 1, 1, 1, 1, 1, 1, 1, 1, 1, 1, 1, 1, 1, 1, 1, 0, 1, 1, 1, 1, 1, 1, 1, 1, 1, 1, 2, 1, 1, 1, 1, 1, 1, 1, 1, 1, 1, 1, 0, 1, 1, 1, 1, 1, 1, 1, 1, 1, 1, 1, 1, 1, 1, 1, 2, 1, 1, 1, 1, 1, 1, 1, 1, 1, 1, 1, 1, 1, 1, 1, 1, 1, 1, 1, 0, 1, 1, 1, 1, 1, 1, 1, 1, 1, 1, 1, 1, 2, 1, 1, 1, 1, 1, 1, 1, 1, 1, 1, 1, 1, 1, 1, 1, 1, 1, 1, 1, 1, 1, 1, 1, 1, 1, 1, 0, 1, 1, 1, 1, 1, 1, 1, 1, 1, 1, 1, 1, 1, 1, 1, 1, 1, 1, 1, 1, 1, 2, 1, 1, 1, 1, 1, 1, 1, 1, 1, 1, 1, 1, 1, 1, 1, 1, 1, 1, 1, 1, 1, 1, 1, 1, 1, 1, 1, 1, 0, 1, 1, 1, 1, 1, 1, 1, 1, 1, 1, 1, 1, 1, 1, 1, 1, 1, 1, 1, 1, 1, 1, 2, 1, 1, 1, 1, 1, 1, 1, 1, 1, 1, 1, 1, 1, 1, 1, 1, 1, 1, 1, 1, 0, 1, 1, 1, 1, 1, 1, 1, 2, 1, 1, 1, 1, 1, 1, 1, 1, 1, 1, 1, 1, 1, 1, 1, 1, 1, 1, 1, 1, 0, 1, 1, 1, 1, 1, 1, 1, 1, 1, 1, 2, 1, 1, 1, 1, 1, 1, 1, 1, 1, 1, 1, 1, 1, 1, 1, 1, 0, 1, 0, 0, 0, 0, 0, 0, 0, 0, 0, 0, 0, 0, 0, 0, 0, 0, 0, 0, 0, 0, 0, 0, 0, 0, 0, 0, 0, 0, 0, 0, 0, 0, 0, 0, 0, 2, 0, 0, 0, 0, 0, 0, 0, 0, 0, 0, 0, 0, 0, 0, 0, 1, 0, 0, 0, 0, 0, 0, 0, 0, 0, 0, 0, 0, 0, 2, 0, 0, 0, 0]}], \"labelangle\": 30, \"labelside\": \"bottom\", \"line\": {\"color\": [0.5172593687505435, 0.7250673854447439, 0.5172593687505435, 0.6829840883401443, 0.5216937657594992, 0.7250673854447439, 0.5172593687505435, 0.7362838014085732, 0.7200243457090688, 0.6747239370489523, 0.7274150073906617, 0.7274150073906617, 0.7274150073906617, 0.7288061907660204, 0.7309799147900182, 0.7361099034866533, 0.7337622815407356, 0.735414311798974, 0.7287192418050604, 0.7275019563516216, 0.7318494043996174, 0.7368054951743327, 0.736457699330493, 0.7215024780453874, 0.7275019563516216, 0.6859403530127814, 0.735327362838014, 0.7293278845317799, 0.7279367011564212, 0.5172593687505435, 0.5172593687505435, 0.7359360055647335, 0.7321972002434571, 0.7337622815407356, 0.7285453438831406, 0.7276758542735414, 0.7239370489522651, 0.6847230675593426, 0.7248934875228241, 0.7362838014085732, 0.7274150073906617, 0.736370750369533, 0.735414311798974, 0.5389966089905226, 0.7337622815407356, 0.5172593687505435, 0.7219372228501869, 0.7355882097208938, 0.7244587427180246, 0.7274150073906617, 0.7097643683157986, 0.7358490566037735, 0.7299365272584992, 0.726023824015303, 0.7361099034866533, 0.7359360055647335, 0.7289800886879402, 0.5172593687505435, 0.7341970263455352, 0.7356751586818537, 0.7258499260933832, 0.7365446482914529, 0.7248065385618642, 0.7350665159551343, 0.7367185462133727, 0.7205460394748283, 0.7317624554386575, 0.7305451699852187, 0.7274150073906617, 0.735327362838014, 0.7297626293365794, 0.7367185462133727, 0.7371532910181723, 0.7370663420572124, 0.734370924267455, 0.7327188940092166, 0.7368924441352925, 0.7248065385618642, 0.7217633249282671, 0.7275889053125815, 0.7358490566037735, 0.736370750369533, 0.7345448221893749, 0.7328058429701765, 0.7261977219372229, 0.7282844970002609, 0.7365446482914529, 0.7305451699852187, 0.7255890792105034, 0.7218502738892271, 0.7347187201112947, 0.7368924441352925, 0.7347187201112947, 0.7372402399791322, 0.7369793930962525, 0.7237631510303452, 0.7341970263455352, 0.7352404138770542, 0.7274150073906617, 0.7295017824536997, 0.7262846708981827, 0.7361968524476132, 0.7370663420572124, 0.7362838014085732, 0.7287192418050604, 0.7368924441352925, 0.7328927919311364, 0.735414311798974, 0.7355882097208938, 0.7362838014085732, 0.7287192418050604, 0.7365446482914529, 0.7334144856968959, 0.7359360055647335, 0.7345448221893749, 0.7359360055647335, 0.6747239370489523, 0.7305451699852187, 0.7264585688201026, 0.7358490566037735, 0.7346317711503347, 0.736457699330493, 0.736457699330493, 0.7337622815407356, 0.7328927919311364, 0.7361099034866533, 0.7238500999913051, 0.735327362838014, 0.7355882097208938, 0.7334144856968959, 0.7358490566037735, 0.7365446482914529, 0.7369793930962525, 0.7342839753064951, 0.735414311798974, 0.7289800886879402, 0.7248065385618642, 0.7361968524476132, 0.7336753325797757, 0.7368054951743327, 0.7299365272584992, 0.7370663420572124, 0.7350665159551343, 0.7362838014085732, 0.7351534649160942, 0.7365446482914529, 0.7345448221893749, 0.7265455177810625, 0.7327188940092166, 0.7221111207721068, 0.7348926180332145, 0.7368054951743327, 0.7359360055647335, 0.7371532910181723, 0.7344578732284149, 0.7366315972524128, 0.7349795669941744, 0.7329797408920964, 0.735327362838014, 0.7335014346578559, 0.7359360055647335, 0.7369793930962525, 0.736457699330493, 0.7355012607599339, 0.7301104251804191, 0.7351534649160942, 0.7341100773845752, 0.7367185462133727, 0.7359360055647335, 0.7274150073906617, 0.7369793930962525, 0.7355882097208938, 0.7367185462133727, 0.7346317711503347, 0.736457699330493, 0.7330666898530562, 0.7299365272584992, 0.7361968524476132, 0.7248065385618642, 0.7350665159551343, 0.7370663420572124, 0.736457699330493, 0.7358490566037735, 0.7367185462133727, 0.7358490566037735, 0.7355012607599339, 0.7342839753064951, 0.7361968524476132, 0.7320233023215372, 0.7317624554386575, 0.736457699330493, 0.7361099034866533, 0.7355012607599339, 0.7371532910181723, 0.7342839753064951, 0.7362838014085732, 0.7348056690722546, 0.736370750369533, 0.7237631510303452, 0.7361968524476132, 0.7368924441352925, 0.7355882097208938, 0.7369793930962525, 0.7335014346578559, 0.736457699330493, 0.7359360055647335, 0.735414311798974, 0.7277628032345014, 0.7347187201112947, 0.7361968524476132, 0.7341100773845752, 0.7369793930962525, 0.7361099034866533, 0.7361968524476132, 0.7368054951743327, 0.7358490566037735, 0.734370924267455, 0.7366315972524128, 0.7351534649160942, 0.7350665159551343, 0.7323710981653769, 0.7365446482914529, 0.7369793930962525, 0.7360229545256934, 0.7355012607599339, 0.7367185462133727, 0.735327362838014, 0.7249804364837841, 0.735414311798974, 0.7357621076428137, 0.736457699330493, 0.736370750369533, 0.736370750369533, 0.7369793930962525, 0.7347187201112947, 0.7361099034866533, 0.7365446482914529, 0.7349795669941744, 0.736457699330493, 0.7341100773845752, 0.7336753325797757, 0.736370750369533, 0.7361968524476132, 0.7365446482914529, 0.517781062516303, 0.7359360055647335, 0.7370663420572124, 0.7350665159551343, 0.7361968524476132, 0.735414311798974, 0.6747239370489523, 0.7361968524476132, 0.7368054951743327, 0.7331536388140162, 0.7346317711503347, 0.735327362838014, 0.7362838014085732, 0.7299365272584992, 0.736457699330493, 0.7361099034866533, 0.7274150073906617, 0.7357621076428137, 0.7341970263455352, 0.7365446482914529, 0.7352404138770542, 0.7358490566037735, 0.7335014346578559, 0.7355882097208938, 0.7368054951743327, 0.7368054951743327, 0.7358490566037735, 0.7295887314146596, 0.7345448221893749, 0.7362838014085732, 0.735414311798974, 0.7281975480393009, 0.736457699330493, 0.5172593687505435, 0.7350665159551343, 0.7223719676549866, 0.7368054951743327, 0.735414311798974, 0.7330666898530562, 0.736457699330493, 0.7359360055647335, 0.7275019563516216, 0.7340231284236154, 0.7349795669941744, 0.736370750369533, 0.7351534649160942, 0.735414311798974, 0.7356751586818537, 0.7335883836188157, 0.7371532910181723, 0.7348926180332145, 0.7366315972524128, 0.7351534649160942, 0.7294148334927397, 0.7370663420572124, 0.736457699330493, 0.7248934875228241, 0.7371532910181723, 0.7355882097208938, 0.7368054951743327, 0.7356751586818537, 0.731240761672898, 0.734370924267455, 0.7361968524476132, 0.7335014346578559, 0.7242848447961047, 0.7362838014085732, 0.7221111207721068, 0.7361968524476132, 0.7350665159551343, 0.7367185462133727, 0.7349795669941744, 0.698895748195809, 0.7368924441352925, 0.7342839753064951, 0.7355012607599339, 0.7305451699852187, 0.7361099034866533, 0.7368054951743327, 0.7344578732284149, 0.7347187201112947, 0.7361968524476132, 0.7355882097208938, 0.5172593687505435, 0.7369793930962525, 0.7341100773845752, 0.7378488827058517, 0.7372402399791322, 0.7357621076428137, 0.7351534649160942, 0.7150682549343536, 0.7266324667420224, 0.7334144856968959, 0.7362838014085732, 0.7273280584297017, 0.6661159899139205, 0.7355012607599339, 0.7249804364837841, 0.5172593687505435, 0.735327362838014, 0.7218502738892271, 0.7371532910181723, 0.7282844970002609, 0.7369793930962525, 0.7373271889400922, 0.7352404138770542, 0.7237631510303452, 0.7361968524476132, 0.7319363533605774, 0.7362838014085732, 0.736457699330493, 0.7309799147900182, 0.7266324667420224, 0.7337622815407356, 0.7360229545256934, 0.7284583949221807, 0.7241978958351448, 0.7254151812885836, 0.7217633249282671, 0.5172593687505435, 0.7326319450482567, 0.7228936614207461, 0.7251543344057039, 0.732284149204417, 0.7375880358229719, 0.7365446482914529, 0.728110599078341, 0.7360229545256934, 0.7365446482914529, 0.7299365272584992, 0.7358490566037735, 0.7268063646639422, 0.7340231284236154, 0.7184592644117903, 0.7244587427180246, 0.7293278845317799, 0.7368054951743327, 0.7298495782975394, 0.7355012607599339, 0.7371532910181723, 0.7371532910181723, 0.7221111207721068, 0.7284583949221807, 0.7368924441352925, 0.7366315972524128, 0.7368054951743327, 0.7319363533605774, 0.7358490566037735, 0.7352404138770542, 0.7351534649160942, 0.7258499260933832, 0.7305451699852187, 0.7341100773845752, 0.7311538127119381, 0.7351534649160942, 0.7273280584297017], \"colorbar\": {\"title\": {\"text\": \"Objective Value\"}}, \"colorscale\": [[0.0, \"rgb(247,251,255)\"], [0.125, \"rgb(222,235,247)\"], [0.25, \"rgb(198,219,239)\"], [0.375, \"rgb(158,202,225)\"], [0.5, \"rgb(107,174,214)\"], [0.625, \"rgb(66,146,198)\"], [0.75, \"rgb(33,113,181)\"], [0.875, \"rgb(8,81,156)\"], [1.0, \"rgb(8,48,107)\"]], \"reversescale\": false, \"showscale\": true}, \"type\": \"parcoords\"}],                        {\"template\": {\"data\": {\"bar\": [{\"error_x\": {\"color\": \"#2a3f5f\"}, \"error_y\": {\"color\": \"#2a3f5f\"}, \"marker\": {\"line\": {\"color\": \"#E5ECF6\", \"width\": 0.5}}, \"type\": \"bar\"}], \"barpolar\": [{\"marker\": {\"line\": {\"color\": \"#E5ECF6\", \"width\": 0.5}}, \"type\": \"barpolar\"}], \"carpet\": [{\"aaxis\": {\"endlinecolor\": \"#2a3f5f\", \"gridcolor\": \"white\", \"linecolor\": \"white\", \"minorgridcolor\": \"white\", \"startlinecolor\": \"#2a3f5f\"}, \"baxis\": {\"endlinecolor\": \"#2a3f5f\", \"gridcolor\": \"white\", \"linecolor\": \"white\", \"minorgridcolor\": \"white\", \"startlinecolor\": \"#2a3f5f\"}, \"type\": \"carpet\"}], \"choropleth\": [{\"colorbar\": {\"outlinewidth\": 0, \"ticks\": \"\"}, \"type\": \"choropleth\"}], \"contour\": [{\"colorbar\": {\"outlinewidth\": 0, \"ticks\": \"\"}, \"colorscale\": [[0.0, \"#0d0887\"], [0.1111111111111111, \"#46039f\"], [0.2222222222222222, \"#7201a8\"], [0.3333333333333333, \"#9c179e\"], [0.4444444444444444, \"#bd3786\"], [0.5555555555555556, \"#d8576b\"], [0.6666666666666666, \"#ed7953\"], [0.7777777777777778, \"#fb9f3a\"], [0.8888888888888888, \"#fdca26\"], [1.0, \"#f0f921\"]], \"type\": \"contour\"}], \"contourcarpet\": [{\"colorbar\": {\"outlinewidth\": 0, \"ticks\": \"\"}, \"type\": \"contourcarpet\"}], \"heatmap\": [{\"colorbar\": {\"outlinewidth\": 0, \"ticks\": \"\"}, \"colorscale\": [[0.0, \"#0d0887\"], [0.1111111111111111, \"#46039f\"], [0.2222222222222222, \"#7201a8\"], [0.3333333333333333, \"#9c179e\"], [0.4444444444444444, \"#bd3786\"], [0.5555555555555556, \"#d8576b\"], [0.6666666666666666, \"#ed7953\"], [0.7777777777777778, \"#fb9f3a\"], [0.8888888888888888, \"#fdca26\"], [1.0, \"#f0f921\"]], \"type\": \"heatmap\"}], \"heatmapgl\": [{\"colorbar\": {\"outlinewidth\": 0, \"ticks\": \"\"}, \"colorscale\": [[0.0, \"#0d0887\"], [0.1111111111111111, \"#46039f\"], [0.2222222222222222, \"#7201a8\"], [0.3333333333333333, \"#9c179e\"], [0.4444444444444444, \"#bd3786\"], [0.5555555555555556, \"#d8576b\"], [0.6666666666666666, \"#ed7953\"], [0.7777777777777778, \"#fb9f3a\"], [0.8888888888888888, \"#fdca26\"], [1.0, \"#f0f921\"]], \"type\": \"heatmapgl\"}], \"histogram\": [{\"marker\": {\"colorbar\": {\"outlinewidth\": 0, \"ticks\": \"\"}}, \"type\": \"histogram\"}], \"histogram2d\": [{\"colorbar\": {\"outlinewidth\": 0, \"ticks\": \"\"}, \"colorscale\": [[0.0, \"#0d0887\"], [0.1111111111111111, \"#46039f\"], [0.2222222222222222, \"#7201a8\"], [0.3333333333333333, \"#9c179e\"], [0.4444444444444444, \"#bd3786\"], [0.5555555555555556, \"#d8576b\"], [0.6666666666666666, \"#ed7953\"], [0.7777777777777778, \"#fb9f3a\"], [0.8888888888888888, \"#fdca26\"], [1.0, \"#f0f921\"]], \"type\": \"histogram2d\"}], \"histogram2dcontour\": [{\"colorbar\": {\"outlinewidth\": 0, \"ticks\": \"\"}, \"colorscale\": [[0.0, \"#0d0887\"], [0.1111111111111111, \"#46039f\"], [0.2222222222222222, \"#7201a8\"], [0.3333333333333333, \"#9c179e\"], [0.4444444444444444, \"#bd3786\"], [0.5555555555555556, \"#d8576b\"], [0.6666666666666666, \"#ed7953\"], [0.7777777777777778, \"#fb9f3a\"], [0.8888888888888888, \"#fdca26\"], [1.0, \"#f0f921\"]], \"type\": \"histogram2dcontour\"}], \"mesh3d\": [{\"colorbar\": {\"outlinewidth\": 0, \"ticks\": \"\"}, \"type\": \"mesh3d\"}], \"parcoords\": [{\"line\": {\"colorbar\": {\"outlinewidth\": 0, \"ticks\": \"\"}}, \"type\": \"parcoords\"}], \"pie\": [{\"automargin\": true, \"type\": \"pie\"}], \"scatter\": [{\"marker\": {\"colorbar\": {\"outlinewidth\": 0, \"ticks\": \"\"}}, \"type\": \"scatter\"}], \"scatter3d\": [{\"line\": {\"colorbar\": {\"outlinewidth\": 0, \"ticks\": \"\"}}, \"marker\": {\"colorbar\": {\"outlinewidth\": 0, \"ticks\": \"\"}}, \"type\": \"scatter3d\"}], \"scattercarpet\": [{\"marker\": {\"colorbar\": {\"outlinewidth\": 0, \"ticks\": \"\"}}, \"type\": \"scattercarpet\"}], \"scattergeo\": [{\"marker\": {\"colorbar\": {\"outlinewidth\": 0, \"ticks\": \"\"}}, \"type\": \"scattergeo\"}], \"scattergl\": [{\"marker\": {\"colorbar\": {\"outlinewidth\": 0, \"ticks\": \"\"}}, \"type\": \"scattergl\"}], \"scattermapbox\": [{\"marker\": {\"colorbar\": {\"outlinewidth\": 0, \"ticks\": \"\"}}, \"type\": \"scattermapbox\"}], \"scatterpolar\": [{\"marker\": {\"colorbar\": {\"outlinewidth\": 0, \"ticks\": \"\"}}, \"type\": \"scatterpolar\"}], \"scatterpolargl\": [{\"marker\": {\"colorbar\": {\"outlinewidth\": 0, \"ticks\": \"\"}}, \"type\": \"scatterpolargl\"}], \"scatterternary\": [{\"marker\": {\"colorbar\": {\"outlinewidth\": 0, \"ticks\": \"\"}}, \"type\": \"scatterternary\"}], \"surface\": [{\"colorbar\": {\"outlinewidth\": 0, \"ticks\": \"\"}, \"colorscale\": [[0.0, \"#0d0887\"], [0.1111111111111111, \"#46039f\"], [0.2222222222222222, \"#7201a8\"], [0.3333333333333333, \"#9c179e\"], [0.4444444444444444, \"#bd3786\"], [0.5555555555555556, \"#d8576b\"], [0.6666666666666666, \"#ed7953\"], [0.7777777777777778, \"#fb9f3a\"], [0.8888888888888888, \"#fdca26\"], [1.0, \"#f0f921\"]], \"type\": \"surface\"}], \"table\": [{\"cells\": {\"fill\": {\"color\": \"#EBF0F8\"}, \"line\": {\"color\": \"white\"}}, \"header\": {\"fill\": {\"color\": \"#C8D4E3\"}, \"line\": {\"color\": \"white\"}}, \"type\": \"table\"}]}, \"layout\": {\"annotationdefaults\": {\"arrowcolor\": \"#2a3f5f\", \"arrowhead\": 0, \"arrowwidth\": 1}, \"autotypenumbers\": \"strict\", \"coloraxis\": {\"colorbar\": {\"outlinewidth\": 0, \"ticks\": \"\"}}, \"colorscale\": {\"diverging\": [[0, \"#8e0152\"], [0.1, \"#c51b7d\"], [0.2, \"#de77ae\"], [0.3, \"#f1b6da\"], [0.4, \"#fde0ef\"], [0.5, \"#f7f7f7\"], [0.6, \"#e6f5d0\"], [0.7, \"#b8e186\"], [0.8, \"#7fbc41\"], [0.9, \"#4d9221\"], [1, \"#276419\"]], \"sequential\": [[0.0, \"#0d0887\"], [0.1111111111111111, \"#46039f\"], [0.2222222222222222, \"#7201a8\"], [0.3333333333333333, \"#9c179e\"], [0.4444444444444444, \"#bd3786\"], [0.5555555555555556, \"#d8576b\"], [0.6666666666666666, \"#ed7953\"], [0.7777777777777778, \"#fb9f3a\"], [0.8888888888888888, \"#fdca26\"], [1.0, \"#f0f921\"]], \"sequentialminus\": [[0.0, \"#0d0887\"], [0.1111111111111111, \"#46039f\"], [0.2222222222222222, \"#7201a8\"], [0.3333333333333333, \"#9c179e\"], [0.4444444444444444, \"#bd3786\"], [0.5555555555555556, \"#d8576b\"], [0.6666666666666666, \"#ed7953\"], [0.7777777777777778, \"#fb9f3a\"], [0.8888888888888888, \"#fdca26\"], [1.0, \"#f0f921\"]]}, \"colorway\": [\"#636efa\", \"#EF553B\", \"#00cc96\", \"#ab63fa\", \"#FFA15A\", \"#19d3f3\", \"#FF6692\", \"#B6E880\", \"#FF97FF\", \"#FECB52\"], \"font\": {\"color\": \"#2a3f5f\"}, \"geo\": {\"bgcolor\": \"white\", \"lakecolor\": \"white\", \"landcolor\": \"#E5ECF6\", \"showlakes\": true, \"showland\": true, \"subunitcolor\": \"white\"}, \"hoverlabel\": {\"align\": \"left\"}, \"hovermode\": \"closest\", \"mapbox\": {\"style\": \"light\"}, \"paper_bgcolor\": \"white\", \"plot_bgcolor\": \"#E5ECF6\", \"polar\": {\"angularaxis\": {\"gridcolor\": \"white\", \"linecolor\": \"white\", \"ticks\": \"\"}, \"bgcolor\": \"#E5ECF6\", \"radialaxis\": {\"gridcolor\": \"white\", \"linecolor\": \"white\", \"ticks\": \"\"}}, \"scene\": {\"xaxis\": {\"backgroundcolor\": \"#E5ECF6\", \"gridcolor\": \"white\", \"gridwidth\": 2, \"linecolor\": \"white\", \"showbackground\": true, \"ticks\": \"\", \"zerolinecolor\": \"white\"}, \"yaxis\": {\"backgroundcolor\": \"#E5ECF6\", \"gridcolor\": \"white\", \"gridwidth\": 2, \"linecolor\": \"white\", \"showbackground\": true, \"ticks\": \"\", \"zerolinecolor\": \"white\"}, \"zaxis\": {\"backgroundcolor\": \"#E5ECF6\", \"gridcolor\": \"white\", \"gridwidth\": 2, \"linecolor\": \"white\", \"showbackground\": true, \"ticks\": \"\", \"zerolinecolor\": \"white\"}}, \"shapedefaults\": {\"line\": {\"color\": \"#2a3f5f\"}}, \"ternary\": {\"aaxis\": {\"gridcolor\": \"white\", \"linecolor\": \"white\", \"ticks\": \"\"}, \"baxis\": {\"gridcolor\": \"white\", \"linecolor\": \"white\", \"ticks\": \"\"}, \"bgcolor\": \"#E5ECF6\", \"caxis\": {\"gridcolor\": \"white\", \"linecolor\": \"white\", \"ticks\": \"\"}}, \"title\": {\"x\": 0.05}, \"xaxis\": {\"automargin\": true, \"gridcolor\": \"white\", \"linecolor\": \"white\", \"ticks\": \"\", \"title\": {\"standoff\": 15}, \"zerolinecolor\": \"white\", \"zerolinewidth\": 2}, \"yaxis\": {\"automargin\": true, \"gridcolor\": \"white\", \"linecolor\": \"white\", \"ticks\": \"\", \"title\": {\"standoff\": 15}, \"zerolinecolor\": \"white\", \"zerolinewidth\": 2}}}, \"title\": {\"text\": \"Parallel Coordinate Plot\"}},                        {\"responsive\": true}                    ).then(function(){\n",
       "                            \n",
       "var gd = document.getElementById('a869d129-d15e-4d7a-9777-8468692a3848');\n",
       "var x = new MutationObserver(function (mutations, observer) {{\n",
       "        var display = window.getComputedStyle(gd).display;\n",
       "        if (!display || display === 'none') {{\n",
       "            console.log([gd, 'removed!']);\n",
       "            Plotly.purge(gd);\n",
       "            observer.disconnect();\n",
       "        }}\n",
       "}});\n",
       "\n",
       "// Listen for the removal of the full notebook cells\n",
       "var notebookContainer = gd.closest('#notebook-container');\n",
       "if (notebookContainer) {{\n",
       "    x.observe(notebookContainer, {childList: true});\n",
       "}}\n",
       "\n",
       "// Listen for the clearing of the current output cell\n",
       "var outputEl = gd.closest('.output');\n",
       "if (outputEl) {{\n",
       "    x.observe(outputEl, {childList: true});\n",
       "}}\n",
       "\n",
       "                        })                };                });            </script>        </div>"
      ]
     },
     "metadata": {},
     "output_type": "display_data"
    }
   ],
   "source": [
    "optuna.visualization.plot_parallel_coordinate(linear_study, params=['classifier', 'c'])"
   ]
  },
  {
   "cell_type": "markdown",
   "metadata": {},
   "source": [
    "Por final, entre os modelos lineares, o que obteve o melhor resultado foi o Logistic Regression, atingindo score de 0.737849 em diferentes parâmetros e treino tomando apenas 2s. \n",
    "\n",
    "Vale notar que a hiperparametrização não mudou muito os scores, causando problemas apenas em valores expressivos. Isso pode configurar um limite (esperado) devido à natureza do problema e do dataset."
   ]
  },
  {
   "cell_type": "markdown",
   "metadata": {},
   "source": [
    "## Ensembles\n",
    "\n",
    "Irei utilizar o CatBOOST e o LightGBM devido aos seus bons desempenhos com features de cardinalidade alta (campeões). Inicialmente testarei entre os 2 datasets preparados para as ensembles:\n",
    "    * df_boosted\n",
    "    * df_boosted_dropout (sem campeões outliers)\n",
    "    \n",
    "Assim como nos modelos lineares, ambos os datasets serão divididos em set de treino e validação. Em primeiro momento, realizarei a validação cruzada dos modelos no set de treino, além de calcular a acurácia do modelo prever o treino.\n",
    "\n",
    "Com os resultados, realizarei a hiperparametrização com o Optuna apenas no melhor dataset, com treinamento feito no set de treino e previsões no set de validação."
   ]
  },
  {
   "cell_type": "code",
   "execution_count": 13,
   "metadata": {},
   "outputs": [],
   "source": [
    "# Separando as features categóricas\n",
    "\n",
    "lanes = ['TOP', 'MIDDLE', 'JUNGLE', 'UTILITY', 'BOTTOM']\n",
    "\n",
    "# Todas que possuem alguma das strings no nome\n",
    "\n",
    "cat_features = [col for col in df_boosted.columns\n",
    "                if any(lane in col\n",
    "                       for lane in lanes)]"
   ]
  },
  {
   "cell_type": "code",
   "execution_count": 14,
   "metadata": {},
   "outputs": [
    {
     "name": "stderr",
     "output_type": "stream",
     "text": [
      "C:\\Users\\bueni\\Anaconda3\\lib\\site-packages\\lightgbm\\engine.py:148: UserWarning:\n",
      "\n",
      "Found `num_boost_round` in params. Will use it instead of argument\n",
      "\n",
      "C:\\Users\\bueni\\Anaconda3\\lib\\site-packages\\lightgbm\\basic.py:1222: UserWarning:\n",
      "\n",
      "categorical_feature keyword has been found in `params` and will be ignored.\n",
      "Please use categorical_feature argument of the Dataset constructor to pass this parameter.\n",
      "\n"
     ]
    },
    {
     "name": "stdout",
     "output_type": "stream",
     "text": [
      "[LightGBM] [Warning] num_iterations is set=2000, num_boost_round=2000 will be ignored. Current value: num_iterations=2000\n",
      "[LightGBM] [Warning] num_iterations is set=2000, num_boost_round=2000 will be ignored. Current value: num_iterations=2000\n",
      "[LightGBM] [Warning] num_iterations is set=2000, num_boost_round=2000 will be ignored. Current value: num_iterations=2000\n",
      "[LightGBM] [Warning] num_iterations is set=2000, num_boost_round=2000 will be ignored. Current value: num_iterations=2000\n",
      "[LightGBM] [Warning] num_iterations is set=2000, num_boost_round=2000 will be ignored. Current value: num_iterations=2000\n",
      "[LightGBM] [Warning] num_iterations is set=2000, num_boost_round=2000 will be ignored. Current value: num_iterations=2000\n",
      "[LightGBM] [Warning] num_iterations is set=2000, num_boost_round=2000 will be ignored. Current value: num_iterations=2000\n",
      "[LightGBM] [Warning] num_iterations is set=2000, num_boost_round=2000 will be ignored. Current value: num_iterations=2000\n",
      "[LightGBM] [Warning] num_iterations is set=2000, num_boost_round=2000 will be ignored. Current value: num_iterations=2000\n",
      "[LightGBM] [Warning] num_iterations is set=2000, num_boost_round=2000 will be ignored. Current value: num_iterations=2000\n",
      "[LightGBM] [Warning] num_iterations is set=2000, num_boost_round=2000 will be ignored. Current value: num_iterations=2000\n"
     ]
    },
    {
     "name": "stderr",
     "output_type": "stream",
     "text": [
      "C:\\Users\\bueni\\Anaconda3\\lib\\site-packages\\lightgbm\\engine.py:148: UserWarning:\n",
      "\n",
      "Found `num_boost_round` in params. Will use it instead of argument\n",
      "\n",
      "C:\\Users\\bueni\\Anaconda3\\lib\\site-packages\\lightgbm\\basic.py:1222: UserWarning:\n",
      "\n",
      "categorical_feature keyword has been found in `params` and will be ignored.\n",
      "Please use categorical_feature argument of the Dataset constructor to pass this parameter.\n",
      "\n"
     ]
    },
    {
     "name": "stdout",
     "output_type": "stream",
     "text": [
      "[LightGBM] [Warning] num_iterations is set=2000, num_boost_round=2000 will be ignored. Current value: num_iterations=2000\n",
      "[LightGBM] [Warning] num_iterations is set=2000, num_boost_round=2000 will be ignored. Current value: num_iterations=2000\n",
      "[LightGBM] [Warning] num_iterations is set=2000, num_boost_round=2000 will be ignored. Current value: num_iterations=2000\n",
      "[LightGBM] [Warning] num_iterations is set=2000, num_boost_round=2000 will be ignored. Current value: num_iterations=2000\n",
      "[LightGBM] [Warning] num_iterations is set=2000, num_boost_round=2000 will be ignored. Current value: num_iterations=2000\n",
      "[LightGBM] [Warning] num_iterations is set=2000, num_boost_round=2000 will be ignored. Current value: num_iterations=2000\n",
      "[LightGBM] [Warning] num_iterations is set=2000, num_boost_round=2000 will be ignored. Current value: num_iterations=2000\n",
      "[LightGBM] [Warning] num_iterations is set=2000, num_boost_round=2000 will be ignored. Current value: num_iterations=2000\n",
      "[LightGBM] [Warning] num_iterations is set=2000, num_boost_round=2000 will be ignored. Current value: num_iterations=2000\n",
      "[LightGBM] [Warning] num_iterations is set=2000, num_boost_round=2000 will be ignored. Current value: num_iterations=2000\n",
      "[LightGBM] [Warning] num_iterations is set=2000, num_boost_round=2000 will be ignored. Current value: num_iterations=2000\n"
     ]
    }
   ],
   "source": [
    "# Parâmetros fixados - randomseed, objetivo, etc.\n",
    "\n",
    "FIXED_PARAMS_LGB = {'objective': 'binary',\n",
    "                    'metric': 'accuracy',\n",
    "                    'verbosity': -1,\n",
    "                    'boosting_type': 'gbdt',\n",
    "                    'random_seed': 42,\n",
    "                    'num_boost_round': 2000}\n",
    "\n",
    "FIXED_PARAMS_CB = {'objective': 'Logloss',\n",
    "                   'random_seed': 42,\n",
    "                   'num_boost_round': 2000}\n",
    "\n",
    "ensemble_score_list = []\n",
    "param_list = [FIXED_PARAMS_LGB, FIXED_PARAMS_CB]\n",
    "model_list = ['lgbm', 'cb']\n",
    "\n",
    "for model, param in zip(model_list, param_list):\n",
    "    \n",
    "    for i, df in enumerate([df_boosted, df_boosted_dropout]):\n",
    "\n",
    "        X = df.drop(['gameID', 'isWinner_blue'], axis=1)\n",
    "        y = df['isWinner_blue']\n",
    "\n",
    "        X_train, X_val, y_train, y_val = train_test_split(X, y, random_state=42)\n",
    "\n",
    "        # n estou utilizando o lgb.dataset, é necessário converter as colunas pro index\n",
    "        param_cat_features = [X.columns.get_loc(col) for col in cat_features]\n",
    "\n",
    "        if model == 'lgbm':  \n",
    "            clf = lgbm.LGBMClassifier(categorical_feature=param_cat_features,\n",
    "                                      verbose_eval=None,\n",
    "                                      **param)\n",
    "            \n",
    "        else:\n",
    "            clf = CatBoostClassifier(logging_level='Silent',\n",
    "                                     **param)\n",
    "            \n",
    "        scores = cross_val_score(clf, X_train, y_train, cv=10)\n",
    "\n",
    "        mean, std = np.mean(scores), np.std(scores)\n",
    "        \n",
    "        clf.fit(X_train, y_train)\n",
    "        pred = clf.predict(X_train)\n",
    "        pred_label = np.rint(pred)\n",
    "        training_score = accuracy_score(y_train, pred_label)\n",
    "        \n",
    "        data = {f'{model} - 10fold mean accuracy': mean,\n",
    "                f'{model} - 10fold std accuracy': std,\n",
    "                f'{model} - training accuracy': training_score}\n",
    "\n",
    "        if i == 0:\n",
    "            data['data'] = 'df_boosted'\n",
    "\n",
    "        elif i == 1:\n",
    "            data['data'] = 'df_boosted_dropout'\n",
    "\n",
    "        ensemble_score_list.append(data)\n",
    "\n",
    "df_ensemble_scores = pd.pivot_table(pd.DataFrame(ensemble_score_list), index = 'data')"
   ]
  },
  {
   "cell_type": "code",
   "execution_count": 15,
   "metadata": {},
   "outputs": [
    {
     "data": {
      "text/html": [
       "<div>\n",
       "<style scoped>\n",
       "    .dataframe tbody tr th:only-of-type {\n",
       "        vertical-align: middle;\n",
       "    }\n",
       "\n",
       "    .dataframe tbody tr th {\n",
       "        vertical-align: top;\n",
       "    }\n",
       "\n",
       "    .dataframe thead th {\n",
       "        text-align: right;\n",
       "    }\n",
       "</style>\n",
       "<table border=\"1\" class=\"dataframe\">\n",
       "  <thead>\n",
       "    <tr style=\"text-align: right;\">\n",
       "      <th></th>\n",
       "      <th>cb - 10fold mean accuracy</th>\n",
       "      <th>cb - 10fold std accuracy</th>\n",
       "      <th>cb - training accuracy</th>\n",
       "      <th>lgbm - 10fold mean accuracy</th>\n",
       "      <th>lgbm - 10fold std accuracy</th>\n",
       "      <th>lgbm - training accuracy</th>\n",
       "    </tr>\n",
       "    <tr>\n",
       "      <th>data</th>\n",
       "      <th></th>\n",
       "      <th></th>\n",
       "      <th></th>\n",
       "      <th></th>\n",
       "      <th></th>\n",
       "      <th></th>\n",
       "    </tr>\n",
       "  </thead>\n",
       "  <tbody>\n",
       "    <tr>\n",
       "      <th>df_boosted</th>\n",
       "      <td>0.729225</td>\n",
       "      <td>0.007377</td>\n",
       "      <td>0.815976</td>\n",
       "      <td>0.722559</td>\n",
       "      <td>0.004578</td>\n",
       "      <td>1.0</td>\n",
       "    </tr>\n",
       "    <tr>\n",
       "      <th>df_boosted_dropout</th>\n",
       "      <td>0.726072</td>\n",
       "      <td>0.006271</td>\n",
       "      <td>0.822832</td>\n",
       "      <td>0.720147</td>\n",
       "      <td>0.007199</td>\n",
       "      <td>1.0</td>\n",
       "    </tr>\n",
       "  </tbody>\n",
       "</table>\n",
       "</div>"
      ],
      "text/plain": [
       "                    cb - 10fold mean accuracy  cb - 10fold std accuracy  \\\n",
       "data                                                                      \n",
       "df_boosted                           0.729225                  0.007377   \n",
       "df_boosted_dropout                   0.726072                  0.006271   \n",
       "\n",
       "                    cb - training accuracy  lgbm - 10fold mean accuracy  \\\n",
       "data                                                                      \n",
       "df_boosted                        0.815976                     0.722559   \n",
       "df_boosted_dropout                0.822832                     0.720147   \n",
       "\n",
       "                    lgbm - 10fold std accuracy  lgbm - training accuracy  \n",
       "data                                                                      \n",
       "df_boosted                            0.004578                       1.0  \n",
       "df_boosted_dropout                    0.007199                       1.0  "
      ]
     },
     "execution_count": 15,
     "metadata": {},
     "output_type": "execute_result"
    }
   ],
   "source": [
    "df_ensemble_scores"
   ]
  },
  {
   "cell_type": "markdown",
   "metadata": {},
   "source": [
    "Ambos os modelos tiveram resultados muito próximos aos algoritmos mais simples - ainda que inferiores. O CatBoost se deu melhor que o LightGBM em ambos os datasets considerando a média da CV.\n",
    "\n",
    "Válido notar que ambos os modelos tiveram resultados melhores na acurácia de treino, com o LightGBM alcançando 100% de acurácia. Isso pode significar que o modelo está overfittando (ou não, uma vez que é algo comum para boosting machines). Vamos realizar a hiperparametrização e observar os resultados."
   ]
  },
  {
   "cell_type": "code",
   "execution_count": 16,
   "metadata": {
    "scrolled": false
   },
   "outputs": [
    {
     "name": "stderr",
     "output_type": "stream",
     "text": [
      "C:\\Users\\bueni\\Anaconda3\\lib\\site-packages\\lightgbm\\engine.py:148: UserWarning:\n",
      "\n",
      "Found `num_boost_round` in params. Will use it instead of argument\n",
      "\n",
      "C:\\Users\\bueni\\Anaconda3\\lib\\site-packages\\lightgbm\\basic.py:1702: UserWarning:\n",
      "\n",
      "Using categorical_feature in Dataset.\n",
      "\n",
      "C:\\Users\\bueni\\Anaconda3\\lib\\site-packages\\lightgbm\\basic.py:1705: UserWarning:\n",
      "\n",
      "categorical_feature in Dataset is overridden.\n",
      "New categorical_feature is ['BOTTOM_blue', 'BOTTOM_red', 'JUNGLE_blue', 'JUNGLE_red', 'MIDDLE_blue', 'MIDDLE_red', 'TOP_blue', 'TOP_red', 'UTILITY_blue', 'UTILITY_red', 'roleBOTTOM_blue', 'roleBOTTOM_red', 'roleJUNGLE_blue', 'roleJUNGLE_red', 'roleMIDDLE_blue', 'roleMIDDLE_red', 'roleTOP_blue', 'roleTOP_red', 'roleUTILITY_blue', 'roleUTILITY_red']\n",
      "\n",
      "C:\\Users\\bueni\\Anaconda3\\lib\\site-packages\\lightgbm\\basic.py:1433: UserWarning:\n",
      "\n",
      "Overriding the parameters from Reference Dataset.\n",
      "\n",
      "C:\\Users\\bueni\\Anaconda3\\lib\\site-packages\\lightgbm\\basic.py:1245: UserWarning:\n",
      "\n",
      "categorical_column in param dict is overridden.\n",
      "\n"
     ]
    }
   ],
   "source": [
    "#### LightGBM\n",
    "\n",
    "# HyperOPT c/ Optuna \n",
    "\n",
    "def lightgbm_objective(trial):\n",
    "    \n",
    "    np.random.seed(42)\n",
    "    \n",
    "    X = df_boosted.drop(['gameID', 'isWinner_blue'], axis=1)\n",
    "    y = df_boosted['isWinner_blue']\n",
    "    \n",
    "    X_train, X_val, y_train, y_val = train_test_split(X, y, random_state=42)\n",
    "\n",
    "    # Separa features categóricas -> LGBM lida bem com NaNs e com elas\n",
    "    train_data = lgbm.Dataset(X_train,\n",
    "                              label=y_train,\n",
    "                              categorical_feature = cat_features)\n",
    "    val_data = lgbm.Dataset(X_val,\n",
    "                            label=y_val)\n",
    "\n",
    "    # Hiperparametros Fixos\n",
    "    \n",
    "    params = {'objective': 'binary',\n",
    "              'metric': 'accuracy',\n",
    "              'verbosity': -1,\n",
    "              'boosting_type': 'gbdt',\n",
    "              'random_seed': 42,\n",
    "              'num_boost_round': 2000,\n",
    "              'lambda_l1': trial.suggest_float('lambda_l1', 1e-8, 10.0, log=True),\n",
    "              'lambda_l2': trial.suggest_float('lambda_l2', 1e-8, 10.0, log=True),\n",
    "              'num_leaves': trial.suggest_int('num_leaves', 2, 256),\n",
    "              'feature_fraction': trial.suggest_float('feature_fraction', 0.4, 1.0),\n",
    "              'bagging_fraction': trial.suggest_float('bagging_fraction', 0.4, 1.0),\n",
    "              'bagging_freq': trial.suggest_int('bagging_freq', 1, 7),\n",
    "              'min_child_samples': trial.suggest_int('min_child_samples', 5, 100)}\n",
    "    \n",
    "    pruning_callback = optuna.integration.LightGBMPruningCallback(trial, 'auc')\n",
    "    \n",
    "    optuna.logging.set_verbosity(optuna.logging.FATAL)\n",
    "\n",
    "    # Instancia e Treina o Modelo\n",
    "    # Os parametros do log da hiperparametrização foram reduzidos p/ evitar a poluição do notebook entregue\n",
    "    # p/ debugging, remover o show_progress_bar e o verbose_eval\n",
    "    model_lgbm = lgbm.train(params, train_data,                     \n",
    "                            valid_sets=[train_data, val_data],\n",
    "                            verbose_eval=False\n",
    "                            )\n",
    "    \n",
    "    # Resultados Métricas\n",
    "    pred = model_lgbm.predict(X_val)\n",
    "    pred_labels = np.rint(pred)\n",
    "    acc = accuracy_score(y_val, pred_labels)\n",
    "        \n",
    "    return acc\n",
    "\n",
    "                               \n",
    "study_lgbm = optuna.create_study(\n",
    "    pruner=optuna.pruners.MedianPruner(n_warmup_steps=10), direction='maximize')\n",
    "\n",
    "study_lgbm.optimize(lightgbm_objective, n_trials=100,\n",
    "                    show_progress_bar = False)"
   ]
  },
  {
   "cell_type": "code",
   "execution_count": 17,
   "metadata": {},
   "outputs": [
    {
     "data": {
      "text/html": [
       "<div>\n",
       "<style scoped>\n",
       "    .dataframe tbody tr th:only-of-type {\n",
       "        vertical-align: middle;\n",
       "    }\n",
       "\n",
       "    .dataframe tbody tr th {\n",
       "        vertical-align: top;\n",
       "    }\n",
       "\n",
       "    .dataframe thead th {\n",
       "        text-align: right;\n",
       "    }\n",
       "</style>\n",
       "<table border=\"1\" class=\"dataframe\">\n",
       "  <thead>\n",
       "    <tr style=\"text-align: right;\">\n",
       "      <th></th>\n",
       "      <th>number</th>\n",
       "      <th>value</th>\n",
       "      <th>datetime_start</th>\n",
       "      <th>datetime_complete</th>\n",
       "      <th>duration</th>\n",
       "      <th>params_bagging_fraction</th>\n",
       "      <th>params_bagging_freq</th>\n",
       "      <th>params_feature_fraction</th>\n",
       "      <th>params_lambda_l1</th>\n",
       "      <th>params_lambda_l2</th>\n",
       "      <th>params_min_child_samples</th>\n",
       "      <th>params_num_leaves</th>\n",
       "      <th>state</th>\n",
       "    </tr>\n",
       "  </thead>\n",
       "  <tbody>\n",
       "    <tr>\n",
       "      <th>0</th>\n",
       "      <td>0</td>\n",
       "      <td>0.720285</td>\n",
       "      <td>2021-04-22 19:17:27.865094</td>\n",
       "      <td>2021-04-22 19:17:32.478129</td>\n",
       "      <td>00:00:04.613035</td>\n",
       "      <td>0.589456</td>\n",
       "      <td>7</td>\n",
       "      <td>0.856430</td>\n",
       "      <td>2.864714e-07</td>\n",
       "      <td>0.499002</td>\n",
       "      <td>88</td>\n",
       "      <td>46</td>\n",
       "      <td>COMPLETE</td>\n",
       "    </tr>\n",
       "    <tr>\n",
       "      <th>1</th>\n",
       "      <td>1</td>\n",
       "      <td>0.726632</td>\n",
       "      <td>2021-04-22 19:17:32.479130</td>\n",
       "      <td>2021-04-22 19:17:42.235321</td>\n",
       "      <td>00:00:09.756191</td>\n",
       "      <td>0.954928</td>\n",
       "      <td>5</td>\n",
       "      <td>0.905215</td>\n",
       "      <td>3.465634e-06</td>\n",
       "      <td>0.000539</td>\n",
       "      <td>73</td>\n",
       "      <td>159</td>\n",
       "      <td>COMPLETE</td>\n",
       "    </tr>\n",
       "    <tr>\n",
       "      <th>2</th>\n",
       "      <td>2</td>\n",
       "      <td>0.722372</td>\n",
       "      <td>2021-04-22 19:17:42.235321</td>\n",
       "      <td>2021-04-22 19:17:51.271351</td>\n",
       "      <td>00:00:09.036030</td>\n",
       "      <td>0.834872</td>\n",
       "      <td>7</td>\n",
       "      <td>0.764995</td>\n",
       "      <td>9.942412e-03</td>\n",
       "      <td>5.796862</td>\n",
       "      <td>25</td>\n",
       "      <td>104</td>\n",
       "      <td>COMPLETE</td>\n",
       "    </tr>\n",
       "    <tr>\n",
       "      <th>3</th>\n",
       "      <td>3</td>\n",
       "      <td>0.705852</td>\n",
       "      <td>2021-04-22 19:17:51.271351</td>\n",
       "      <td>2021-04-22 19:17:53.676899</td>\n",
       "      <td>00:00:02.405548</td>\n",
       "      <td>0.536363</td>\n",
       "      <td>6</td>\n",
       "      <td>0.627632</td>\n",
       "      <td>9.731732e-06</td>\n",
       "      <td>0.003467</td>\n",
       "      <td>22</td>\n",
       "      <td>10</td>\n",
       "      <td>COMPLETE</td>\n",
       "    </tr>\n",
       "    <tr>\n",
       "      <th>4</th>\n",
       "      <td>4</td>\n",
       "      <td>0.715068</td>\n",
       "      <td>2021-04-22 19:17:53.676899</td>\n",
       "      <td>2021-04-22 19:17:56.247692</td>\n",
       "      <td>00:00:02.570793</td>\n",
       "      <td>0.842829</td>\n",
       "      <td>2</td>\n",
       "      <td>0.799943</td>\n",
       "      <td>2.248857e-06</td>\n",
       "      <td>0.139690</td>\n",
       "      <td>39</td>\n",
       "      <td>8</td>\n",
       "      <td>COMPLETE</td>\n",
       "    </tr>\n",
       "    <tr>\n",
       "      <th>...</th>\n",
       "      <td>...</td>\n",
       "      <td>...</td>\n",
       "      <td>...</td>\n",
       "      <td>...</td>\n",
       "      <td>...</td>\n",
       "      <td>...</td>\n",
       "      <td>...</td>\n",
       "      <td>...</td>\n",
       "      <td>...</td>\n",
       "      <td>...</td>\n",
       "      <td>...</td>\n",
       "      <td>...</td>\n",
       "      <td>...</td>\n",
       "    </tr>\n",
       "    <tr>\n",
       "      <th>95</th>\n",
       "      <td>95</td>\n",
       "      <td>0.725676</td>\n",
       "      <td>2021-04-22 19:35:50.841649</td>\n",
       "      <td>2021-04-22 19:36:02.546829</td>\n",
       "      <td>00:00:11.705180</td>\n",
       "      <td>0.916072</td>\n",
       "      <td>7</td>\n",
       "      <td>0.755754</td>\n",
       "      <td>2.356585e-07</td>\n",
       "      <td>0.006681</td>\n",
       "      <td>12</td>\n",
       "      <td>183</td>\n",
       "      <td>COMPLETE</td>\n",
       "    </tr>\n",
       "    <tr>\n",
       "      <th>96</th>\n",
       "      <td>96</td>\n",
       "      <td>0.724459</td>\n",
       "      <td>2021-04-22 19:36:02.546829</td>\n",
       "      <td>2021-04-22 19:36:14.957623</td>\n",
       "      <td>00:00:12.410794</td>\n",
       "      <td>0.983862</td>\n",
       "      <td>7</td>\n",
       "      <td>0.940333</td>\n",
       "      <td>1.119171e-06</td>\n",
       "      <td>0.013114</td>\n",
       "      <td>25</td>\n",
       "      <td>188</td>\n",
       "      <td>COMPLETE</td>\n",
       "    </tr>\n",
       "    <tr>\n",
       "      <th>97</th>\n",
       "      <td>97</td>\n",
       "      <td>0.726893</td>\n",
       "      <td>2021-04-22 19:36:14.957623</td>\n",
       "      <td>2021-04-22 19:36:26.146136</td>\n",
       "      <td>00:00:11.188513</td>\n",
       "      <td>0.962195</td>\n",
       "      <td>6</td>\n",
       "      <td>0.687780</td>\n",
       "      <td>7.123981e-03</td>\n",
       "      <td>0.001223</td>\n",
       "      <td>16</td>\n",
       "      <td>148</td>\n",
       "      <td>COMPLETE</td>\n",
       "    </tr>\n",
       "    <tr>\n",
       "      <th>98</th>\n",
       "      <td>98</td>\n",
       "      <td>0.730197</td>\n",
       "      <td>2021-04-22 19:36:26.147137</td>\n",
       "      <td>2021-04-22 19:36:36.382841</td>\n",
       "      <td>00:00:10.235704</td>\n",
       "      <td>0.932104</td>\n",
       "      <td>6</td>\n",
       "      <td>0.611821</td>\n",
       "      <td>1.069797e-04</td>\n",
       "      <td>0.002687</td>\n",
       "      <td>10</td>\n",
       "      <td>137</td>\n",
       "      <td>COMPLETE</td>\n",
       "    </tr>\n",
       "    <tr>\n",
       "      <th>99</th>\n",
       "      <td>99</td>\n",
       "      <td>0.724893</td>\n",
       "      <td>2021-04-22 19:36:36.382841</td>\n",
       "      <td>2021-04-22 19:36:43.837516</td>\n",
       "      <td>00:00:07.454675</td>\n",
       "      <td>0.507863</td>\n",
       "      <td>5</td>\n",
       "      <td>0.611301</td>\n",
       "      <td>5.307614e-04</td>\n",
       "      <td>0.000454</td>\n",
       "      <td>7</td>\n",
       "      <td>116</td>\n",
       "      <td>COMPLETE</td>\n",
       "    </tr>\n",
       "  </tbody>\n",
       "</table>\n",
       "<p>100 rows × 13 columns</p>\n",
       "</div>"
      ],
      "text/plain": [
       "    number     value             datetime_start          datetime_complete  \\\n",
       "0        0  0.720285 2021-04-22 19:17:27.865094 2021-04-22 19:17:32.478129   \n",
       "1        1  0.726632 2021-04-22 19:17:32.479130 2021-04-22 19:17:42.235321   \n",
       "2        2  0.722372 2021-04-22 19:17:42.235321 2021-04-22 19:17:51.271351   \n",
       "3        3  0.705852 2021-04-22 19:17:51.271351 2021-04-22 19:17:53.676899   \n",
       "4        4  0.715068 2021-04-22 19:17:53.676899 2021-04-22 19:17:56.247692   \n",
       "..     ...       ...                        ...                        ...   \n",
       "95      95  0.725676 2021-04-22 19:35:50.841649 2021-04-22 19:36:02.546829   \n",
       "96      96  0.724459 2021-04-22 19:36:02.546829 2021-04-22 19:36:14.957623   \n",
       "97      97  0.726893 2021-04-22 19:36:14.957623 2021-04-22 19:36:26.146136   \n",
       "98      98  0.730197 2021-04-22 19:36:26.147137 2021-04-22 19:36:36.382841   \n",
       "99      99  0.724893 2021-04-22 19:36:36.382841 2021-04-22 19:36:43.837516   \n",
       "\n",
       "          duration  params_bagging_fraction  params_bagging_freq  \\\n",
       "0  00:00:04.613035                 0.589456                    7   \n",
       "1  00:00:09.756191                 0.954928                    5   \n",
       "2  00:00:09.036030                 0.834872                    7   \n",
       "3  00:00:02.405548                 0.536363                    6   \n",
       "4  00:00:02.570793                 0.842829                    2   \n",
       "..             ...                      ...                  ...   \n",
       "95 00:00:11.705180                 0.916072                    7   \n",
       "96 00:00:12.410794                 0.983862                    7   \n",
       "97 00:00:11.188513                 0.962195                    6   \n",
       "98 00:00:10.235704                 0.932104                    6   \n",
       "99 00:00:07.454675                 0.507863                    5   \n",
       "\n",
       "    params_feature_fraction  params_lambda_l1  params_lambda_l2  \\\n",
       "0                  0.856430      2.864714e-07          0.499002   \n",
       "1                  0.905215      3.465634e-06          0.000539   \n",
       "2                  0.764995      9.942412e-03          5.796862   \n",
       "3                  0.627632      9.731732e-06          0.003467   \n",
       "4                  0.799943      2.248857e-06          0.139690   \n",
       "..                      ...               ...               ...   \n",
       "95                 0.755754      2.356585e-07          0.006681   \n",
       "96                 0.940333      1.119171e-06          0.013114   \n",
       "97                 0.687780      7.123981e-03          0.001223   \n",
       "98                 0.611821      1.069797e-04          0.002687   \n",
       "99                 0.611301      5.307614e-04          0.000454   \n",
       "\n",
       "    params_min_child_samples  params_num_leaves     state  \n",
       "0                         88                 46  COMPLETE  \n",
       "1                         73                159  COMPLETE  \n",
       "2                         25                104  COMPLETE  \n",
       "3                         22                 10  COMPLETE  \n",
       "4                         39                  8  COMPLETE  \n",
       "..                       ...                ...       ...  \n",
       "95                        12                183  COMPLETE  \n",
       "96                        25                188  COMPLETE  \n",
       "97                        16                148  COMPLETE  \n",
       "98                        10                137  COMPLETE  \n",
       "99                         7                116  COMPLETE  \n",
       "\n",
       "[100 rows x 13 columns]"
      ]
     },
     "execution_count": 17,
     "metadata": {},
     "output_type": "execute_result"
    }
   ],
   "source": [
    "study_lgbm_df = study_lgbm.trials_dataframe()\n",
    "\n",
    "study_lgbm_df"
   ]
  },
  {
   "cell_type": "code",
   "execution_count": 29,
   "metadata": {},
   "outputs": [
    {
     "data": {
      "text/html": [
       "<div>\n",
       "<style scoped>\n",
       "    .dataframe tbody tr th:only-of-type {\n",
       "        vertical-align: middle;\n",
       "    }\n",
       "\n",
       "    .dataframe tbody tr th {\n",
       "        vertical-align: top;\n",
       "    }\n",
       "\n",
       "    .dataframe thead th {\n",
       "        text-align: right;\n",
       "    }\n",
       "</style>\n",
       "<table border=\"1\" class=\"dataframe\">\n",
       "  <thead>\n",
       "    <tr style=\"text-align: right;\">\n",
       "      <th></th>\n",
       "      <th>number</th>\n",
       "      <th>value</th>\n",
       "      <th>datetime_start</th>\n",
       "      <th>datetime_complete</th>\n",
       "      <th>duration</th>\n",
       "      <th>params_bagging_fraction</th>\n",
       "      <th>params_bagging_freq</th>\n",
       "      <th>params_feature_fraction</th>\n",
       "      <th>params_lambda_l1</th>\n",
       "      <th>params_lambda_l2</th>\n",
       "      <th>params_min_child_samples</th>\n",
       "      <th>params_num_leaves</th>\n",
       "      <th>state</th>\n",
       "    </tr>\n",
       "  </thead>\n",
       "  <tbody>\n",
       "    <tr>\n",
       "      <th>98</th>\n",
       "      <td>98</td>\n",
       "      <td>0.730197</td>\n",
       "      <td>2021-04-22 19:36:26.147137</td>\n",
       "      <td>2021-04-22 19:36:36.382841</td>\n",
       "      <td>00:00:10.235704</td>\n",
       "      <td>0.932104</td>\n",
       "      <td>6</td>\n",
       "      <td>0.611821</td>\n",
       "      <td>1.069797e-04</td>\n",
       "      <td>0.002687</td>\n",
       "      <td>10</td>\n",
       "      <td>137</td>\n",
       "      <td>COMPLETE</td>\n",
       "    </tr>\n",
       "    <tr>\n",
       "      <th>33</th>\n",
       "      <td>33</td>\n",
       "      <td>0.729241</td>\n",
       "      <td>2021-04-22 19:23:13.674629</td>\n",
       "      <td>2021-04-22 19:23:26.192949</td>\n",
       "      <td>00:00:12.518320</td>\n",
       "      <td>0.942944</td>\n",
       "      <td>7</td>\n",
       "      <td>0.729745</td>\n",
       "      <td>1.030974e-07</td>\n",
       "      <td>0.001388</td>\n",
       "      <td>23</td>\n",
       "      <td>230</td>\n",
       "      <td>COMPLETE</td>\n",
       "    </tr>\n",
       "    <tr>\n",
       "      <th>87</th>\n",
       "      <td>87</td>\n",
       "      <td>0.728980</td>\n",
       "      <td>2021-04-22 19:34:17.034784</td>\n",
       "      <td>2021-04-22 19:34:28.840659</td>\n",
       "      <td>00:00:11.805875</td>\n",
       "      <td>0.920422</td>\n",
       "      <td>6</td>\n",
       "      <td>0.671865</td>\n",
       "      <td>6.159722e-07</td>\n",
       "      <td>0.000343</td>\n",
       "      <td>13</td>\n",
       "      <td>193</td>\n",
       "      <td>COMPLETE</td>\n",
       "    </tr>\n",
       "    <tr>\n",
       "      <th>20</th>\n",
       "      <td>20</td>\n",
       "      <td>0.728719</td>\n",
       "      <td>2021-04-22 19:20:23.107139</td>\n",
       "      <td>2021-04-22 19:20:39.377707</td>\n",
       "      <td>00:00:16.270568</td>\n",
       "      <td>0.994404</td>\n",
       "      <td>6</td>\n",
       "      <td>0.938859</td>\n",
       "      <td>9.861580e-07</td>\n",
       "      <td>0.007819</td>\n",
       "      <td>5</td>\n",
       "      <td>256</td>\n",
       "      <td>COMPLETE</td>\n",
       "    </tr>\n",
       "    <tr>\n",
       "      <th>29</th>\n",
       "      <td>29</td>\n",
       "      <td>0.728545</td>\n",
       "      <td>2021-04-22 19:22:31.244766</td>\n",
       "      <td>2021-04-22 19:22:41.219009</td>\n",
       "      <td>00:00:09.974243</td>\n",
       "      <td>0.783644</td>\n",
       "      <td>7</td>\n",
       "      <td>0.777494</td>\n",
       "      <td>7.670632e-07</td>\n",
       "      <td>0.762975</td>\n",
       "      <td>32</td>\n",
       "      <td>178</td>\n",
       "      <td>COMPLETE</td>\n",
       "    </tr>\n",
       "  </tbody>\n",
       "</table>\n",
       "</div>"
      ],
      "text/plain": [
       "    number     value             datetime_start          datetime_complete  \\\n",
       "98      98  0.730197 2021-04-22 19:36:26.147137 2021-04-22 19:36:36.382841   \n",
       "33      33  0.729241 2021-04-22 19:23:13.674629 2021-04-22 19:23:26.192949   \n",
       "87      87  0.728980 2021-04-22 19:34:17.034784 2021-04-22 19:34:28.840659   \n",
       "20      20  0.728719 2021-04-22 19:20:23.107139 2021-04-22 19:20:39.377707   \n",
       "29      29  0.728545 2021-04-22 19:22:31.244766 2021-04-22 19:22:41.219009   \n",
       "\n",
       "          duration  params_bagging_fraction  params_bagging_freq  \\\n",
       "98 00:00:10.235704                 0.932104                    6   \n",
       "33 00:00:12.518320                 0.942944                    7   \n",
       "87 00:00:11.805875                 0.920422                    6   \n",
       "20 00:00:16.270568                 0.994404                    6   \n",
       "29 00:00:09.974243                 0.783644                    7   \n",
       "\n",
       "    params_feature_fraction  params_lambda_l1  params_lambda_l2  \\\n",
       "98                 0.611821      1.069797e-04          0.002687   \n",
       "33                 0.729745      1.030974e-07          0.001388   \n",
       "87                 0.671865      6.159722e-07          0.000343   \n",
       "20                 0.938859      9.861580e-07          0.007819   \n",
       "29                 0.777494      7.670632e-07          0.762975   \n",
       "\n",
       "    params_min_child_samples  params_num_leaves     state  \n",
       "98                        10                137  COMPLETE  \n",
       "33                        23                230  COMPLETE  \n",
       "87                        13                193  COMPLETE  \n",
       "20                         5                256  COMPLETE  \n",
       "29                        32                178  COMPLETE  "
      ]
     },
     "execution_count": 29,
     "metadata": {},
     "output_type": "execute_result"
    }
   ],
   "source": [
    "study_lgbm_df.sort_values('value', ascending=False).head()"
   ]
  },
  {
   "cell_type": "markdown",
   "metadata": {},
   "source": [
    "Apesar do Optuna ter selecionado alguns parâmetros regularizadores, o resultado não melhorou muito - chegou a 0.73 no teste de validação. Ainda assim, quero mexer manualmente nesses hiperparâmetros e reduzir a regulariazação, testando uma redução no número de leaves."
   ]
  },
  {
   "cell_type": "code",
   "execution_count": 19,
   "metadata": {},
   "outputs": [],
   "source": [
    "# HyperOPT c/ Optuna \n",
    "\n",
    "def cb_objective(trial):\n",
    "    \n",
    "    np.random.seed(42)\n",
    "    \n",
    "    X = df_boosted.drop(['gameID', 'isWinner_blue'], axis=1)\n",
    "    y = df_boosted['isWinner_blue']\n",
    "    \n",
    "    X_train, X_val, y_train, y_val = train_test_split(X, y, random_state=42)\n",
    "\n",
    "    params = {\n",
    "        'objective': 'Logloss',\n",
    "        'colsample_bylevel': trial.suggest_float('colsample_bylevel', 0.01, 0.1),\n",
    "        'depth': trial.suggest_int('depth', 1, 12),\n",
    "        'boosting_type': trial.suggest_categorical('boosting_type', ['Ordered', 'Plain']),\n",
    "        'bootstrap_type': trial.suggest_categorical(\n",
    "            'bootstrap_type', ['Bayesian', 'Bernoulli', 'MVS']),\n",
    "        'used_ram_limit': '12gb'}\n",
    "\n",
    "    if params['bootstrap_type'] == 'Bayesian':\n",
    "        params['bagging_temperature'] = trial.suggest_float('bagging_temperature', 0, 10)\n",
    "    \n",
    "    elif params['bootstrap_type'] == 'Bernoulli':\n",
    "        params['subsample'] = trial.suggest_float('subsample', 0.1, 1)\n",
    "    \n",
    "    optuna.logging.set_verbosity(optuna.logging.FATAL)\n",
    "\n",
    "    # Instancia e Treina o Modelo\n",
    "    # Os parametros do log da hiperparametrização foram reduzidos p/ evitar a poluição do notebook entregue\n",
    "    # p/ debugging, remover o show_progress_bar e o verbose_eval\n",
    "    model_cb = CatBoostClassifier(logging_level='Silent', **params)\n",
    "    \n",
    "    model_cb.fit(X_train, y_train,\n",
    "                 eval_set=[(X_val, y_val)],\n",
    "                 verbose=0,\n",
    "                 cat_features = cat_features,\n",
    "                 early_stopping_rounds=100)\n",
    "    \n",
    "    # Resultados Métricas\n",
    "    pred = model_cb.predict(X_val)\n",
    "    pred_labels = np.rint(pred)\n",
    "    acc = accuracy_score(y_val, pred_labels)\n",
    "        \n",
    "    return acc\n",
    "                           \n",
    "study_cb = optuna.create_study(\n",
    "    pruner=optuna.pruners.MedianPruner(n_warmup_steps=10), direction='maximize')\n",
    "\n",
    "study_cb.optimize(cb_objective, n_trials=100,\n",
    "                  show_progress_bar=False)"
   ]
  },
  {
   "cell_type": "code",
   "execution_count": 20,
   "metadata": {},
   "outputs": [
    {
     "data": {
      "text/html": [
       "<div>\n",
       "<style scoped>\n",
       "    .dataframe tbody tr th:only-of-type {\n",
       "        vertical-align: middle;\n",
       "    }\n",
       "\n",
       "    .dataframe tbody tr th {\n",
       "        vertical-align: top;\n",
       "    }\n",
       "\n",
       "    .dataframe thead th {\n",
       "        text-align: right;\n",
       "    }\n",
       "</style>\n",
       "<table border=\"1\" class=\"dataframe\">\n",
       "  <thead>\n",
       "    <tr style=\"text-align: right;\">\n",
       "      <th></th>\n",
       "      <th>number</th>\n",
       "      <th>value</th>\n",
       "      <th>datetime_start</th>\n",
       "      <th>datetime_complete</th>\n",
       "      <th>duration</th>\n",
       "      <th>params_bagging_temperature</th>\n",
       "      <th>params_boosting_type</th>\n",
       "      <th>params_bootstrap_type</th>\n",
       "      <th>params_colsample_bylevel</th>\n",
       "      <th>params_depth</th>\n",
       "      <th>params_subsample</th>\n",
       "      <th>state</th>\n",
       "    </tr>\n",
       "  </thead>\n",
       "  <tbody>\n",
       "    <tr>\n",
       "      <th>0</th>\n",
       "      <td>0</td>\n",
       "      <td>0.730632</td>\n",
       "      <td>2021-04-22 19:36:43.907532</td>\n",
       "      <td>2021-04-22 19:37:00.095884</td>\n",
       "      <td>00:00:16.188352</td>\n",
       "      <td>NaN</td>\n",
       "      <td>Plain</td>\n",
       "      <td>Bernoulli</td>\n",
       "      <td>0.098627</td>\n",
       "      <td>6</td>\n",
       "      <td>0.857330</td>\n",
       "      <td>COMPLETE</td>\n",
       "    </tr>\n",
       "    <tr>\n",
       "      <th>1</th>\n",
       "      <td>1</td>\n",
       "      <td>0.731241</td>\n",
       "      <td>2021-04-22 19:37:00.095884</td>\n",
       "      <td>2021-04-22 19:37:14.763661</td>\n",
       "      <td>00:00:14.667777</td>\n",
       "      <td>NaN</td>\n",
       "      <td>Plain</td>\n",
       "      <td>Bernoulli</td>\n",
       "      <td>0.076408</td>\n",
       "      <td>7</td>\n",
       "      <td>0.468485</td>\n",
       "      <td>COMPLETE</td>\n",
       "    </tr>\n",
       "    <tr>\n",
       "      <th>2</th>\n",
       "      <td>2</td>\n",
       "      <td>0.726719</td>\n",
       "      <td>2021-04-22 19:37:14.763661</td>\n",
       "      <td>2021-04-22 19:37:27.286615</td>\n",
       "      <td>00:00:12.522954</td>\n",
       "      <td>NaN</td>\n",
       "      <td>Plain</td>\n",
       "      <td>Bernoulli</td>\n",
       "      <td>0.023322</td>\n",
       "      <td>10</td>\n",
       "      <td>0.901839</td>\n",
       "      <td>COMPLETE</td>\n",
       "    </tr>\n",
       "    <tr>\n",
       "      <th>3</th>\n",
       "      <td>3</td>\n",
       "      <td>0.729937</td>\n",
       "      <td>2021-04-22 19:37:27.286615</td>\n",
       "      <td>2021-04-22 19:37:39.553348</td>\n",
       "      <td>00:00:12.266733</td>\n",
       "      <td>NaN</td>\n",
       "      <td>Plain</td>\n",
       "      <td>Bernoulli</td>\n",
       "      <td>0.029669</td>\n",
       "      <td>9</td>\n",
       "      <td>0.832263</td>\n",
       "      <td>COMPLETE</td>\n",
       "    </tr>\n",
       "    <tr>\n",
       "      <th>4</th>\n",
       "      <td>4</td>\n",
       "      <td>0.730545</td>\n",
       "      <td>2021-04-22 19:37:39.553348</td>\n",
       "      <td>2021-04-22 19:37:54.822594</td>\n",
       "      <td>00:00:15.269246</td>\n",
       "      <td>NaN</td>\n",
       "      <td>Plain</td>\n",
       "      <td>Bernoulli</td>\n",
       "      <td>0.084967</td>\n",
       "      <td>6</td>\n",
       "      <td>0.553557</td>\n",
       "      <td>COMPLETE</td>\n",
       "    </tr>\n",
       "    <tr>\n",
       "      <th>...</th>\n",
       "      <td>...</td>\n",
       "      <td>...</td>\n",
       "      <td>...</td>\n",
       "      <td>...</td>\n",
       "      <td>...</td>\n",
       "      <td>...</td>\n",
       "      <td>...</td>\n",
       "      <td>...</td>\n",
       "      <td>...</td>\n",
       "      <td>...</td>\n",
       "      <td>...</td>\n",
       "      <td>...</td>\n",
       "    </tr>\n",
       "    <tr>\n",
       "      <th>95</th>\n",
       "      <td>95</td>\n",
       "      <td>0.728632</td>\n",
       "      <td>2021-04-22 20:07:56.582439</td>\n",
       "      <td>2021-04-22 20:08:12.487871</td>\n",
       "      <td>00:00:15.905432</td>\n",
       "      <td>NaN</td>\n",
       "      <td>Plain</td>\n",
       "      <td>Bernoulli</td>\n",
       "      <td>0.081575</td>\n",
       "      <td>8</td>\n",
       "      <td>0.169637</td>\n",
       "      <td>COMPLETE</td>\n",
       "    </tr>\n",
       "    <tr>\n",
       "      <th>96</th>\n",
       "      <td>96</td>\n",
       "      <td>0.727154</td>\n",
       "      <td>2021-04-22 20:08:12.487871</td>\n",
       "      <td>2021-04-22 20:08:32.424712</td>\n",
       "      <td>00:00:19.936841</td>\n",
       "      <td>NaN</td>\n",
       "      <td>Plain</td>\n",
       "      <td>Bernoulli</td>\n",
       "      <td>0.092175</td>\n",
       "      <td>10</td>\n",
       "      <td>0.452404</td>\n",
       "      <td>COMPLETE</td>\n",
       "    </tr>\n",
       "    <tr>\n",
       "      <th>97</th>\n",
       "      <td>97</td>\n",
       "      <td>0.726893</td>\n",
       "      <td>2021-04-22 20:08:32.424712</td>\n",
       "      <td>2021-04-22 20:08:46.820010</td>\n",
       "      <td>00:00:14.395298</td>\n",
       "      <td>NaN</td>\n",
       "      <td>Plain</td>\n",
       "      <td>Bernoulli</td>\n",
       "      <td>0.046435</td>\n",
       "      <td>3</td>\n",
       "      <td>0.280483</td>\n",
       "      <td>COMPLETE</td>\n",
       "    </tr>\n",
       "    <tr>\n",
       "      <th>98</th>\n",
       "      <td>98</td>\n",
       "      <td>0.726806</td>\n",
       "      <td>2021-04-22 20:08:46.820010</td>\n",
       "      <td>2021-04-22 20:09:00.506362</td>\n",
       "      <td>00:00:13.686352</td>\n",
       "      <td>NaN</td>\n",
       "      <td>Plain</td>\n",
       "      <td>MVS</td>\n",
       "      <td>0.064944</td>\n",
       "      <td>9</td>\n",
       "      <td>NaN</td>\n",
       "      <td>COMPLETE</td>\n",
       "    </tr>\n",
       "    <tr>\n",
       "      <th>99</th>\n",
       "      <td>99</td>\n",
       "      <td>0.727676</td>\n",
       "      <td>2021-04-22 20:09:00.506362</td>\n",
       "      <td>2021-04-22 20:09:26.415275</td>\n",
       "      <td>00:00:25.908913</td>\n",
       "      <td>5.871288</td>\n",
       "      <td>Plain</td>\n",
       "      <td>Bayesian</td>\n",
       "      <td>0.072867</td>\n",
       "      <td>6</td>\n",
       "      <td>NaN</td>\n",
       "      <td>COMPLETE</td>\n",
       "    </tr>\n",
       "  </tbody>\n",
       "</table>\n",
       "<p>100 rows × 12 columns</p>\n",
       "</div>"
      ],
      "text/plain": [
       "    number     value             datetime_start          datetime_complete  \\\n",
       "0        0  0.730632 2021-04-22 19:36:43.907532 2021-04-22 19:37:00.095884   \n",
       "1        1  0.731241 2021-04-22 19:37:00.095884 2021-04-22 19:37:14.763661   \n",
       "2        2  0.726719 2021-04-22 19:37:14.763661 2021-04-22 19:37:27.286615   \n",
       "3        3  0.729937 2021-04-22 19:37:27.286615 2021-04-22 19:37:39.553348   \n",
       "4        4  0.730545 2021-04-22 19:37:39.553348 2021-04-22 19:37:54.822594   \n",
       "..     ...       ...                        ...                        ...   \n",
       "95      95  0.728632 2021-04-22 20:07:56.582439 2021-04-22 20:08:12.487871   \n",
       "96      96  0.727154 2021-04-22 20:08:12.487871 2021-04-22 20:08:32.424712   \n",
       "97      97  0.726893 2021-04-22 20:08:32.424712 2021-04-22 20:08:46.820010   \n",
       "98      98  0.726806 2021-04-22 20:08:46.820010 2021-04-22 20:09:00.506362   \n",
       "99      99  0.727676 2021-04-22 20:09:00.506362 2021-04-22 20:09:26.415275   \n",
       "\n",
       "          duration  params_bagging_temperature params_boosting_type  \\\n",
       "0  00:00:16.188352                         NaN                Plain   \n",
       "1  00:00:14.667777                         NaN                Plain   \n",
       "2  00:00:12.522954                         NaN                Plain   \n",
       "3  00:00:12.266733                         NaN                Plain   \n",
       "4  00:00:15.269246                         NaN                Plain   \n",
       "..             ...                         ...                  ...   \n",
       "95 00:00:15.905432                         NaN                Plain   \n",
       "96 00:00:19.936841                         NaN                Plain   \n",
       "97 00:00:14.395298                         NaN                Plain   \n",
       "98 00:00:13.686352                         NaN                Plain   \n",
       "99 00:00:25.908913                    5.871288                Plain   \n",
       "\n",
       "   params_bootstrap_type  params_colsample_bylevel  params_depth  \\\n",
       "0              Bernoulli                  0.098627             6   \n",
       "1              Bernoulli                  0.076408             7   \n",
       "2              Bernoulli                  0.023322            10   \n",
       "3              Bernoulli                  0.029669             9   \n",
       "4              Bernoulli                  0.084967             6   \n",
       "..                   ...                       ...           ...   \n",
       "95             Bernoulli                  0.081575             8   \n",
       "96             Bernoulli                  0.092175            10   \n",
       "97             Bernoulli                  0.046435             3   \n",
       "98                   MVS                  0.064944             9   \n",
       "99              Bayesian                  0.072867             6   \n",
       "\n",
       "    params_subsample     state  \n",
       "0           0.857330  COMPLETE  \n",
       "1           0.468485  COMPLETE  \n",
       "2           0.901839  COMPLETE  \n",
       "3           0.832263  COMPLETE  \n",
       "4           0.553557  COMPLETE  \n",
       "..               ...       ...  \n",
       "95          0.169637  COMPLETE  \n",
       "96          0.452404  COMPLETE  \n",
       "97          0.280483  COMPLETE  \n",
       "98               NaN  COMPLETE  \n",
       "99               NaN  COMPLETE  \n",
       "\n",
       "[100 rows x 12 columns]"
      ]
     },
     "execution_count": 20,
     "metadata": {},
     "output_type": "execute_result"
    }
   ],
   "source": [
    "study_cb_df = study_cb.trials_dataframe()\n",
    "\n",
    "study_cb_df"
   ]
  },
  {
   "cell_type": "code",
   "execution_count": 21,
   "metadata": {},
   "outputs": [
    {
     "data": {
      "text/html": [
       "<div>\n",
       "<style scoped>\n",
       "    .dataframe tbody tr th:only-of-type {\n",
       "        vertical-align: middle;\n",
       "    }\n",
       "\n",
       "    .dataframe tbody tr th {\n",
       "        vertical-align: top;\n",
       "    }\n",
       "\n",
       "    .dataframe thead th {\n",
       "        text-align: right;\n",
       "    }\n",
       "</style>\n",
       "<table border=\"1\" class=\"dataframe\">\n",
       "  <thead>\n",
       "    <tr style=\"text-align: right;\">\n",
       "      <th></th>\n",
       "      <th>number</th>\n",
       "      <th>value</th>\n",
       "      <th>datetime_start</th>\n",
       "      <th>datetime_complete</th>\n",
       "      <th>duration</th>\n",
       "      <th>params_bagging_temperature</th>\n",
       "      <th>params_boosting_type</th>\n",
       "      <th>params_bootstrap_type</th>\n",
       "      <th>params_colsample_bylevel</th>\n",
       "      <th>params_depth</th>\n",
       "      <th>params_subsample</th>\n",
       "      <th>state</th>\n",
       "    </tr>\n",
       "  </thead>\n",
       "  <tbody>\n",
       "    <tr>\n",
       "      <th>1</th>\n",
       "      <td>1</td>\n",
       "      <td>0.731241</td>\n",
       "      <td>2021-04-22 19:37:00.095884</td>\n",
       "      <td>2021-04-22 19:37:14.763661</td>\n",
       "      <td>00:00:14.667777</td>\n",
       "      <td>NaN</td>\n",
       "      <td>Plain</td>\n",
       "      <td>Bernoulli</td>\n",
       "      <td>0.076408</td>\n",
       "      <td>7</td>\n",
       "      <td>0.468485</td>\n",
       "      <td>COMPLETE</td>\n",
       "    </tr>\n",
       "    <tr>\n",
       "      <th>77</th>\n",
       "      <td>77</td>\n",
       "      <td>0.730980</td>\n",
       "      <td>2021-04-22 20:03:09.686924</td>\n",
       "      <td>2021-04-22 20:03:25.009322</td>\n",
       "      <td>00:00:15.322398</td>\n",
       "      <td>NaN</td>\n",
       "      <td>Plain</td>\n",
       "      <td>MVS</td>\n",
       "      <td>0.066384</td>\n",
       "      <td>4</td>\n",
       "      <td>NaN</td>\n",
       "      <td>COMPLETE</td>\n",
       "    </tr>\n",
       "    <tr>\n",
       "      <th>0</th>\n",
       "      <td>0</td>\n",
       "      <td>0.730632</td>\n",
       "      <td>2021-04-22 19:36:43.907532</td>\n",
       "      <td>2021-04-22 19:37:00.095884</td>\n",
       "      <td>00:00:16.188352</td>\n",
       "      <td>NaN</td>\n",
       "      <td>Plain</td>\n",
       "      <td>Bernoulli</td>\n",
       "      <td>0.098627</td>\n",
       "      <td>6</td>\n",
       "      <td>0.857330</td>\n",
       "      <td>COMPLETE</td>\n",
       "    </tr>\n",
       "    <tr>\n",
       "      <th>4</th>\n",
       "      <td>4</td>\n",
       "      <td>0.730545</td>\n",
       "      <td>2021-04-22 19:37:39.553348</td>\n",
       "      <td>2021-04-22 19:37:54.822594</td>\n",
       "      <td>00:00:15.269246</td>\n",
       "      <td>NaN</td>\n",
       "      <td>Plain</td>\n",
       "      <td>Bernoulli</td>\n",
       "      <td>0.084967</td>\n",
       "      <td>6</td>\n",
       "      <td>0.553557</td>\n",
       "      <td>COMPLETE</td>\n",
       "    </tr>\n",
       "    <tr>\n",
       "      <th>69</th>\n",
       "      <td>69</td>\n",
       "      <td>0.730371</td>\n",
       "      <td>2021-04-22 20:00:50.825469</td>\n",
       "      <td>2021-04-22 20:01:08.909109</td>\n",
       "      <td>00:00:18.083640</td>\n",
       "      <td>3.154712</td>\n",
       "      <td>Plain</td>\n",
       "      <td>Bayesian</td>\n",
       "      <td>0.078682</td>\n",
       "      <td>6</td>\n",
       "      <td>NaN</td>\n",
       "      <td>COMPLETE</td>\n",
       "    </tr>\n",
       "    <tr>\n",
       "      <th>...</th>\n",
       "      <td>...</td>\n",
       "      <td>...</td>\n",
       "      <td>...</td>\n",
       "      <td>...</td>\n",
       "      <td>...</td>\n",
       "      <td>...</td>\n",
       "      <td>...</td>\n",
       "      <td>...</td>\n",
       "      <td>...</td>\n",
       "      <td>...</td>\n",
       "      <td>...</td>\n",
       "      <td>...</td>\n",
       "    </tr>\n",
       "    <tr>\n",
       "      <th>19</th>\n",
       "      <td>19</td>\n",
       "      <td>0.725241</td>\n",
       "      <td>2021-04-22 19:44:15.723345</td>\n",
       "      <td>2021-04-22 19:44:24.823389</td>\n",
       "      <td>00:00:09.100044</td>\n",
       "      <td>NaN</td>\n",
       "      <td>Plain</td>\n",
       "      <td>Bernoulli</td>\n",
       "      <td>0.010245</td>\n",
       "      <td>5</td>\n",
       "      <td>0.660832</td>\n",
       "      <td>COMPLETE</td>\n",
       "    </tr>\n",
       "    <tr>\n",
       "      <th>68</th>\n",
       "      <td>68</td>\n",
       "      <td>0.725154</td>\n",
       "      <td>2021-04-22 20:00:36.696479</td>\n",
       "      <td>2021-04-22 20:00:50.825469</td>\n",
       "      <td>00:00:14.128990</td>\n",
       "      <td>8.973605</td>\n",
       "      <td>Ordered</td>\n",
       "      <td>Bayesian</td>\n",
       "      <td>0.093772</td>\n",
       "      <td>1</td>\n",
       "      <td>NaN</td>\n",
       "      <td>COMPLETE</td>\n",
       "    </tr>\n",
       "    <tr>\n",
       "      <th>54</th>\n",
       "      <td>54</td>\n",
       "      <td>0.725154</td>\n",
       "      <td>2021-04-22 19:57:00.701724</td>\n",
       "      <td>2021-04-22 19:57:09.410590</td>\n",
       "      <td>00:00:08.708866</td>\n",
       "      <td>NaN</td>\n",
       "      <td>Plain</td>\n",
       "      <td>Bernoulli</td>\n",
       "      <td>0.071900</td>\n",
       "      <td>1</td>\n",
       "      <td>0.272481</td>\n",
       "      <td>COMPLETE</td>\n",
       "    </tr>\n",
       "    <tr>\n",
       "      <th>20</th>\n",
       "      <td>20</td>\n",
       "      <td>0.725067</td>\n",
       "      <td>2021-04-22 19:44:24.823389</td>\n",
       "      <td>2021-04-22 19:45:14.800176</td>\n",
       "      <td>00:00:49.976787</td>\n",
       "      <td>NaN</td>\n",
       "      <td>Plain</td>\n",
       "      <td>MVS</td>\n",
       "      <td>0.071396</td>\n",
       "      <td>12</td>\n",
       "      <td>NaN</td>\n",
       "      <td>COMPLETE</td>\n",
       "    </tr>\n",
       "    <tr>\n",
       "      <th>67</th>\n",
       "      <td>67</td>\n",
       "      <td>0.722198</td>\n",
       "      <td>2021-04-22 20:00:26.141295</td>\n",
       "      <td>2021-04-22 20:00:36.696479</td>\n",
       "      <td>00:00:10.555184</td>\n",
       "      <td>6.768533</td>\n",
       "      <td>Plain</td>\n",
       "      <td>Bayesian</td>\n",
       "      <td>0.086185</td>\n",
       "      <td>8</td>\n",
       "      <td>NaN</td>\n",
       "      <td>COMPLETE</td>\n",
       "    </tr>\n",
       "  </tbody>\n",
       "</table>\n",
       "<p>100 rows × 12 columns</p>\n",
       "</div>"
      ],
      "text/plain": [
       "    number     value             datetime_start          datetime_complete  \\\n",
       "1        1  0.731241 2021-04-22 19:37:00.095884 2021-04-22 19:37:14.763661   \n",
       "77      77  0.730980 2021-04-22 20:03:09.686924 2021-04-22 20:03:25.009322   \n",
       "0        0  0.730632 2021-04-22 19:36:43.907532 2021-04-22 19:37:00.095884   \n",
       "4        4  0.730545 2021-04-22 19:37:39.553348 2021-04-22 19:37:54.822594   \n",
       "69      69  0.730371 2021-04-22 20:00:50.825469 2021-04-22 20:01:08.909109   \n",
       "..     ...       ...                        ...                        ...   \n",
       "19      19  0.725241 2021-04-22 19:44:15.723345 2021-04-22 19:44:24.823389   \n",
       "68      68  0.725154 2021-04-22 20:00:36.696479 2021-04-22 20:00:50.825469   \n",
       "54      54  0.725154 2021-04-22 19:57:00.701724 2021-04-22 19:57:09.410590   \n",
       "20      20  0.725067 2021-04-22 19:44:24.823389 2021-04-22 19:45:14.800176   \n",
       "67      67  0.722198 2021-04-22 20:00:26.141295 2021-04-22 20:00:36.696479   \n",
       "\n",
       "          duration  params_bagging_temperature params_boosting_type  \\\n",
       "1  00:00:14.667777                         NaN                Plain   \n",
       "77 00:00:15.322398                         NaN                Plain   \n",
       "0  00:00:16.188352                         NaN                Plain   \n",
       "4  00:00:15.269246                         NaN                Plain   \n",
       "69 00:00:18.083640                    3.154712                Plain   \n",
       "..             ...                         ...                  ...   \n",
       "19 00:00:09.100044                         NaN                Plain   \n",
       "68 00:00:14.128990                    8.973605              Ordered   \n",
       "54 00:00:08.708866                         NaN                Plain   \n",
       "20 00:00:49.976787                         NaN                Plain   \n",
       "67 00:00:10.555184                    6.768533                Plain   \n",
       "\n",
       "   params_bootstrap_type  params_colsample_bylevel  params_depth  \\\n",
       "1              Bernoulli                  0.076408             7   \n",
       "77                   MVS                  0.066384             4   \n",
       "0              Bernoulli                  0.098627             6   \n",
       "4              Bernoulli                  0.084967             6   \n",
       "69              Bayesian                  0.078682             6   \n",
       "..                   ...                       ...           ...   \n",
       "19             Bernoulli                  0.010245             5   \n",
       "68              Bayesian                  0.093772             1   \n",
       "54             Bernoulli                  0.071900             1   \n",
       "20                   MVS                  0.071396            12   \n",
       "67              Bayesian                  0.086185             8   \n",
       "\n",
       "    params_subsample     state  \n",
       "1           0.468485  COMPLETE  \n",
       "77               NaN  COMPLETE  \n",
       "0           0.857330  COMPLETE  \n",
       "4           0.553557  COMPLETE  \n",
       "69               NaN  COMPLETE  \n",
       "..               ...       ...  \n",
       "19          0.660832  COMPLETE  \n",
       "68               NaN  COMPLETE  \n",
       "54          0.272481  COMPLETE  \n",
       "20               NaN  COMPLETE  \n",
       "67               NaN  COMPLETE  \n",
       "\n",
       "[100 rows x 12 columns]"
      ]
     },
     "execution_count": 21,
     "metadata": {},
     "output_type": "execute_result"
    }
   ],
   "source": [
    "study_cb_df.sort_values('value', ascending=False)"
   ]
  },
  {
   "cell_type": "markdown",
   "metadata": {},
   "source": [
    "Os resultados do CatBoost foram superiores aos do LGBM, mas não o suficiente para ele ser o modelo a ser utilizado no set de testes.\n",
    "\n",
    "Nenhum dos modelos baseados em gradient boosting bateu a acurácia do LogisticRegression (na verdade, de quase nenhum dos outros  modelos lineares - única exceção é o LinearSVR). Irei utilizar-lo para o prever o dataset de testes (separado no início desse notebook) e chegar num resultado final:"
   ]
  },
  {
   "cell_type": "code",
   "execution_count": 22,
   "metadata": {},
   "outputs": [],
   "source": [
    "np.random.seed(42)\n",
    "\n",
    "# Train: todo o restante do dataset\n",
    "X_train = df_linear_sparse.drop(['gameID', 'isWinner_blue'], axis=1)\n",
    "y_train = df_linear_sparse['isWinner_blue']\n",
    "\n",
    "# Test: separado no início de forma aleatória\n",
    "X_test = df_test_linear_sparse.drop(['gameID', 'isWinner_blue'], axis=1)\n",
    "y_test = df_test_linear_sparse['isWinner_blue']\n",
    "\n",
    "clf = LogisticRegression(C=linear_study.best_params['c'])\n",
    "clf.fit(X_train, y_train)\n",
    "\n",
    "pred = clf.predict(X_test)"
   ]
  },
  {
   "cell_type": "code",
   "execution_count": 23,
   "metadata": {
    "scrolled": true
   },
   "outputs": [
    {
     "data": {
      "text/plain": [
       "0.7224685883222468"
      ]
     },
     "execution_count": 23,
     "metadata": {},
     "output_type": "execute_result"
    }
   ],
   "source": [
    "accuracy_score(pred, y_test)"
   ]
  },
  {
   "cell_type": "markdown",
   "metadata": {},
   "source": [
    "Em um set nunca visto por nenhum dos algoritmos, **o Logistic Regression bateu 0.72247 de acurácia** - o que é extremamente interessante para mim. Alcançar > 70% de probabilidade de acertar o time vencedor de uma partida aos 10min de jogo (considerando que partidas podem levar de 30-45min) é bem valioso.\n",
    "<br>\n",
    "\n",
    "Vamos observar a matriz de confusão. Lembrando que **erros do Tipo I (Falso Positivos) aqui são** aqueles em que o **modelo preveu que o time azul ganhou, mas o time vermelho foi o vencedor** final. Já os do **Tipo II (Falso Negativos) são** o oposto. Modelo **prevê que o time azul perdeu e ele ganhou**. "
   ]
  },
  {
   "cell_type": "code",
   "execution_count": 24,
   "metadata": {
    "scrolled": true
   },
   "outputs": [
    {
     "data": {
      "image/png": "[encoded data removed]",
      "text/plain": [
       "<Figure size 432x288 with 2 Axes>"
      ]
     },
     "metadata": {
      "needs_background": "light"
     },
     "output_type": "display_data"
    }
   ],
   "source": [
    "from sklearn.metrics import plot_confusion_matrix\n",
    "\n",
    "plot_confusion_matrix(estimator=clf,\n",
    "                      X=X_test,\n",
    "                      y_true=y_test);"
   ]
  },
  {
   "cell_type": "markdown",
   "metadata": {},
   "source": [
    "> \"**O League of Legends é uma caixinha de surpresas**\"<br>\n",
    "&nbsp;&nbsp;&nbsp;&nbsp;&nbsp;&nbsp;&nbsp;&nbsp;&nbsp;&nbsp;&nbsp;&nbsp;&nbsp;&nbsp;&nbsp;&nbsp;&nbsp;&nbsp;&nbsp;&nbsp;&nbsp;&nbsp;&nbsp;&nbsp;&nbsp;&nbsp;&nbsp;&nbsp;&nbsp;&nbsp;&nbsp;&nbsp;&nbsp;&nbsp;&nbsp;&nbsp;&nbsp;&nbsp;&nbsp;&nbsp;&nbsp;&nbsp;&nbsp;&nbsp;&nbsp;&nbsp;&nbsp;&nbsp;&nbsp;&nbsp;&nbsp; **IGN** - sobre o Rift Rivals, campeonato internacional de LoL\n",
    "                                  \n",
    "Os erros estão distribuídos para os dois lados: vitória ou derrota do time azul. Considerando a igualdade entre as estatísticas descritivas de ambos os times, essa distribuição era esperada. \n",
    "\n",
    "Esse resultado dá ainda mais força ao que foi dito anteriormente sobre a dificuldade de realizar a previsão devido à natureza do dataset e de jogos competitivos. Por final, utilizarei a lib SHAP para dar uma olhada nas features do modelo - como o dataset utilizado era o df_linear_sparse que contém >1,5k features, focarei apenas nas 20 mais importantes."
   ]
  },
  {
   "cell_type": "code",
   "execution_count": 25,
   "metadata": {},
   "outputs": [
    {
     "data": {
      "image/png": "[encoded data removed]",
      "text/plain": [
       "<Figure size 576x684 with 2 Axes>"
      ]
     },
     "metadata": {
      "needs_background": "light"
     },
     "output_type": "display_data"
    }
   ],
   "source": [
    "explainer = shap.LinearExplainer(clf, X_train)\n",
    "shap_values = explainer.shap_values(X_test)\n",
    "\n",
    "shap.summary_plot(shap_values, X_test, feature_names=X_test.columns)"
   ]
  },
  {
   "cell_type": "markdown",
   "metadata": {},
   "source": [
    "Obs.: Apesar das cores serem as mesmas de cada um dos times, elas não tem haver com isso. Vermelho significa valores altos/positivos, enquanto azul significa valores baixos/negativos/zero. Quando uma barra vai para o lado direito, indica que o valor daquela feature - dado com a cor - aumenta a probabilidade da previsão de que o time azul foi o vencedor. O contrário é válido.  \n",
    "\n",
    "Alguns dos resultados são esperados e outros nem tanto. Como foi visto na análise exploratória dos dados, o gold e o XP acumulado pelo time até os 10min são fundamentais para a medição do desempenho dele.\n",
    "\n",
    "No entanto, em muitas partidas, principalmente as competitivas, 10min de jogo não é o suficiente para a criação de grandes diferenças entre os dois times nesses stats - o que dificulta a previsão do resultado correto da partida (dado que os times estão \"iguais\"). \n",
    "\n",
    "Logo abaixo, está o controle dos monstros do mapa - feature criada durante o estágio de feature engineering. Nota-se que a obtenção dos monstros possui importância para o modelo. Isso foi explicado no EDA: monstros dão buffs positivos para o time que conseguir eliminá-los, além do controle de mapa prévio necessário para que o objetivo seja feito.\n",
    "\n",
    "Entre os pontos interessantes, está a importância positiva que o modelo deu para suportes do tipo enchanter e negativa para ADCs ára ambos os times. Além disso, a vigésima feature mais importante do modelo é a escolha de Camille TOP para o time azul - um dos campeões mais escolhidos de acordo com o EDA."
   ]
  }
 ],
 "metadata": {
  "kernelspec": {
   "display_name": "Python 3",
   "language": "python",
   "name": "python3"
  },
  "language_info": {
   "codemirror_mode": {
    "name": "ipython",
    "version": 3
   },
   "file_extension": ".py",
   "mimetype": "text/x-python",
   "name": "python",
   "nbconvert_exporter": "python",
   "pygments_lexer": "ipython3",
   "version": "3.8.3"
  }
 },
 "nbformat": 4,
 "nbformat_minor": 4
}
